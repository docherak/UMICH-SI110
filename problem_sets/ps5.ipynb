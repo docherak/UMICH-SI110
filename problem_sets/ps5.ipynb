{
 "cells": [
  {
   "cell_type": "markdown",
   "metadata": {
    "id": "22575091-e419-458b-8daf-3ba6ae0443a9",
    "source-id": "e93606ad-b2cb-4697-8f61-f0a0a777d60f"
   },
   "source": [
    "# SI 106 Problem Set 5\n",
    "\n",
    "Primary Topics:\n",
    "- Defining Functions\n",
    "- Tuple Packing and Unpacking\n",
    "\n",
    "Lookahead Topics:\n",
    "- Advanced Functions (keyword & optional parameters, lambda expressions)\n",
    "- Indefinite Iteration (`while` loops)\n",
    "\n",
    "---\n",
    "---"
   ]
  },
  {
   "cell_type": "markdown",
   "metadata": {
    "id": "ce39c6cd-93db-4587-8fba-704efd235888",
    "source-id": "bef52a39-71c0-4578-8ce9-7fb8c2fd15aa"
   },
   "source": [
    "---\n",
    "## Problem 1\n",
    "\n",
    "Define a function ``addOneNoMutate(L)`` that adds ``1`` to every item in its argument (``L``) and returns a new list."
   ]
  },
  {
   "cell_type": "code",
   "execution_count": 1,
   "metadata": {
    "id": "63756f2a-3cb9-4580-924c-b190e0dad893",
    "source-id": "248a731f-2df2-42e2-aa46-08b46860a4b0"
   },
   "outputs": [],
   "source": [
    "def addOneNoMutate(L):\n",
    "    new_lst = [x + 1 for x in L]\n",
    "    return new_lst"
   ]
  },
  {
   "cell_type": "markdown",
   "metadata": {
    "id": "2c0a5b23-9012-4bcc-93d6-4065be24843e",
    "source-id": "270f3e1a-5928-48ff-982c-d5f4c1b2a812"
   },
   "source": [
    "### Problem 1 Tests:"
   ]
  },
  {
   "cell_type": "code",
   "execution_count": 2,
   "metadata": {
    "id": "014029cd-403b-4117-ab16-ec200bbb79c4",
    "source-id": "62454c74-e84d-4f9d-829b-29ff9be15c1b"
   },
   "outputs": [],
   "source": [
    "L = []\n",
    "K = addOneNoMutate(L)\n",
    "assert K == [], \"Checking addOneNoMutate([])\"\n",
    "assert L == [], \"Checking that addOneNoMutate([]) did not mutate the original list\"\n",
    "L = [1,2,20]\n",
    "K = addOneNoMutate(L)\n",
    "assert K == [2,3,21], \"Checking addOneNoMutate([1,2,20])\"\n",
    "assert L == [1,2,20], \"Checking that addOneNoMutate([1,2,20]) did not mutate the original list\""
   ]
  },
  {
   "cell_type": "markdown",
   "metadata": {
    "id": "4bdd3ddf-8a2b-4c64-951f-00bf558eb343",
    "source-id": "435e979c-c6f8-4ef3-86fb-2fa9dd779a34"
   },
   "source": [
    "---\n",
    "## Problem 2\n",
    "Define a function ``addOneMutate(L)`` that adds ``1`` to every item in its argument (``L``) by **mutating** its argument. ``addOneMutate(L)`` should return ``None``."
   ]
  },
  {
   "cell_type": "code",
   "execution_count": 3,
   "metadata": {
    "id": "7f018584-15c3-4796-ab07-8e43b4b1e5a6",
    "source-id": "0df76221-bd02-4dc4-b3cf-c42624459cce"
   },
   "outputs": [],
   "source": [
    "def addOneMutate(L):\n",
    "    for i in range(len(L)):\n",
    "        L[i] = L[i] + 1"
   ]
  },
  {
   "cell_type": "markdown",
   "metadata": {
    "id": "1111888c-3fe3-4c24-882f-5626ed690ef2",
    "source-id": "c984b623-f0ca-49d0-9680-7915f1a034d4"
   },
   "source": [
    "### Problem 2 Tests:"
   ]
  },
  {
   "cell_type": "code",
   "execution_count": 4,
   "metadata": {
    "id": "4d747982-f734-4c8a-886d-1f5af4d26b64",
    "source-id": "1181f6ca-e586-4f0d-9da0-5f8944e7bd11"
   },
   "outputs": [],
   "source": [
    "L = []\n",
    "K = addOneMutate(L)\n",
    "assert K == None, \"Checking that addOneMutate([]) returns None\"\n",
    "assert L == [], \"Checking that addOneMutate([]) mutates the original list\"\n",
    "L = [1,2,20]\n",
    "K = addOneMutate(L)\n",
    "assert K == None, \"Checking that addOneMutate([1,2,20]) returns None\"\n",
    "assert L == [2,3,21], \"Checking that addOneMutate([1,2,20]) mutates the original list\""
   ]
  },
  {
   "cell_type": "markdown",
   "metadata": {
    "id": "d1b9d070-b0d5-476f-a6ba-619a3b6f228b",
    "source-id": "4951e1a6-890f-4be3-8c38-e6a2994caf8a"
   },
   "source": [
    "---\n",
    "## Problem 3\n",
    "\n",
    "Define a function `addToAge` that accepts two arguments. The first argument is a list of two-item tuples where the first item in every tuple is a string (to represent a person's name) and the second item is an integer (to represent their age). The second argument to `addToAge` is an integer that represents the number of years to add to every age in the first tuple.\n",
    "\n",
    "`addToAge` should return a new list of tuples where the second item in every tuple is incremented by the value of the second argument to `addToAge`.\n",
    "\n",
    "For example: `addToAge([('Maria', 2), ('Shomona', 8)], 10)` should return `[('Maria', 12), ('Shomona', 18)]`"
   ]
  },
  {
   "cell_type": "code",
   "execution_count": 5,
   "metadata": {
    "id": "1c76563a-cacd-41f1-8760-7bbcc2460e57",
    "source-id": "50246761-acca-42b2-b641-318200f9bc2e"
   },
   "outputs": [],
   "source": [
    "def addToAge(a: list, b: int) -> list:\n",
    "    updated_ages = [(x[0], x[1] + b) for x in a]\n",
    "    return updated_ages"
   ]
  },
  {
   "cell_type": "markdown",
   "metadata": {
    "id": "331f9724-3d1b-4332-9349-f97b5889fa71",
    "source-id": "dad6f394-2af0-4873-8118-0e49dcc83670"
   },
   "source": [
    "### Problem 3 Tests:"
   ]
  },
  {
   "cell_type": "code",
   "execution_count": 6,
   "metadata": {
    "id": "faba2104-c195-4a11-be86-91f290d12014",
    "source-id": "bed86e07-0420-4f79-9690-a909f556f533"
   },
   "outputs": [],
   "source": [
    "ages_in_2020 =  [(\"Maria\", 2), (\"Shomona\", 10), (\"Patrick\", 35), (\"Ethan\", 37), (\"Elsy\", 85)]\n",
    "ages_in_2025 = addToAge(ages_in_2020, 5)\n",
    "assert ages_in_2025 == [(\"Maria\", 7), (\"Shomona\", 15), (\"Patrick\", 40), (\"Ethan\", 42), (\"Elsy\", 90)]\n",
    "\n",
    "assert addToAge([(\"Link\", 22), (\"Zelda\", 24)], 1) == [(\"Link\", 23), (\"Zelda\", 25)]\n",
    "assert addToAge([], 1) == []"
   ]
  },
  {
   "cell_type": "markdown",
   "metadata": {
    "id": "73588136-6c3f-4880-9183-4230b3855c01",
    "source-id": "09c063b6-4047-4090-af35-72badde2bbf4"
   },
   "source": [
    "---\n",
    "## Problem 4\n",
    "\n",
    "Define a function `createPhonebook` that accepts three arguments:\n",
    "\n",
    "1. A list of first names\n",
    "2. A list of last names\n",
    "3. A list of phone numbers\n",
    "\n",
    "All three arguments will have the same number of items. `createPhonebook` should return a dictionary where the keys are **full names** (first name then last name) and the values are phone numbers.\n",
    "\n",
    "For example:\n",
    "```python\n",
    "firstNames =   ['Jay', 'Daisy', 'Nick', 'Myrtle']\n",
    "lastNames  =   ['Gatsby', 'Buchanan', 'Carraway', 'Wilson']\n",
    "phones     =   ['5551212', '4441234', '4568309', '1456871']\n",
    "\n",
    "phonebook = createPhonebook(firstNames, lastNames, phones)\n",
    "# phonebook should be: {\n",
    "#    'Jay Gatsby': '5551212',\n",
    "#    'Daisy Buchanan': '4441234',\n",
    "#    'Nick Carraway': '4568309',\n",
    "#    'Myrtle Wilson': '1456871'\n",
    "# }\n",
    "```"
   ]
  },
  {
   "cell_type": "code",
   "execution_count": 7,
   "metadata": {
    "id": "4bbaee29-9997-4684-acb7-6cf8ef2a74f0",
    "source-id": "f4b8c189-5a10-493c-8e26-51e165203331"
   },
   "outputs": [],
   "source": [
    "def createPhonebook(first, last, numbers):\n",
    "    if len(first) == len(last) == len(numbers):\n",
    "        phonebook_dict = {first[i] + \" \" + last[i]: numbers[i] for i in range(len(first))}\n",
    "        return phonebook_dict\n",
    "    else:\n",
    "        return \"All three arguments must have the same number of items.\""
   ]
  },
  {
   "cell_type": "markdown",
   "metadata": {
    "id": "e105423c-28f0-4ab3-987e-b88185035803",
    "source-id": "e173758a-9c65-4202-a379-e09f07c6cc40"
   },
   "source": [
    "### Problem 4 Tests:"
   ]
  },
  {
   "cell_type": "code",
   "execution_count": 8,
   "metadata": {
    "id": "38da92bf-2f01-45d2-a42c-142d1dddc0ad",
    "source-id": "7c7025d1-501e-46ed-8d87-8a6ec45224dd"
   },
   "outputs": [],
   "source": [
    "gatsbyFirstNames =   ['Jay', 'Daisy', 'Nick', 'Myrtle']\n",
    "gatsbyLastNames  =   ['Gatsby', 'Buchanan', 'Carraway', 'Wilson']\n",
    "gatsbyPhones     =   ['5551212', '4441234', '4568309', '1456871']\n",
    "gatsbyPhonebook = createPhonebook(gatsbyFirstNames, gatsbyLastNames, gatsbyPhones)\n",
    "\n",
    "assert gatsbyPhonebook == {\n",
    "    'Jay Gatsby': '5551212',\n",
    "    'Daisy Buchanan': '4441234',\n",
    "    'Nick Carraway': '4568309',\n",
    "    'Myrtle Wilson': '1456871'\n",
    "}\n",
    "\n",
    "assert createPhonebook(['Jill'], ['Smith'], ['5']) == {'Jill Smith': '5'}"
   ]
  },
  {
   "cell_type": "markdown",
   "metadata": {
    "id": "6f54c73b-f71e-49de-b433-d54f9d68b547",
    "source-id": "d5ded1ca-a3d1-4bb0-b3bd-b2d90501d860"
   },
   "source": [
    "---\n",
    "## Problem 5\n",
    "\n",
    "Define a function called `getChange` that accepts a number of cents (a positive integer) and returns  tuple in the format (quarters, dimes, nickels, pennies) of the **minimum** number of coins that would add up to that number of cents.\n",
    "\n",
    "- A **quarter** is worth **25** cents\n",
    "- A **dime** is worth **10** cents\n",
    "- A **nickel** is worth **5** cents\n",
    "- A **penny** is worth **1** cent"
   ]
  },
  {
   "cell_type": "code",
   "execution_count": 9,
   "metadata": {
    "id": "de18c91c-bc0a-430d-b129-09dcb08b2bd0",
    "source-id": "d44e811d-a45e-4b59-86f6-d0365982c4aa"
   },
   "outputs": [],
   "source": [
    "def getChange(cents: int):\n",
    "        a = cents // 25\n",
    "        b = (cents - a * 25) // 10\n",
    "        c = (cents - a * 25 - b * 10) // 5\n",
    "        d = (cents - a * 25 - b * 10 - c * 5) // 1\n",
    "        return (a, b, c, d)"
   ]
  },
  {
   "cell_type": "markdown",
   "metadata": {
    "id": "a466b851-fd04-47c9-95de-d0898cf25bad",
    "source-id": "b69d3a06-592b-475f-ae23-8cdbc5a4c55d"
   },
   "source": [
    "### Problem 5 Tests:"
   ]
  },
  {
   "cell_type": "code",
   "execution_count": 10,
   "metadata": {
    "id": "05bcf101-f98b-4021-8477-151dbe053447",
    "source-id": "8a3ec04d-4914-455c-b938-c1b986a36a83"
   },
   "outputs": [],
   "source": [
    "assert getChange(106) == (4, 0, 1, 1)\n",
    "assert getChange(101) == (4, 0, 0, 1)\n",
    "assert getChange(100) == (4, 0, 0, 0)\n",
    "assert getChange(99)  == (3, 2, 0, 4)\n",
    "assert getChange(1)   == (0, 0, 0, 1)\n",
    "assert getChange(0)   == (0, 0, 0, 0)"
   ]
  },
  {
   "cell_type": "markdown",
   "metadata": {
    "id": "692cec53-dbab-4e2e-b49b-8ca74c7feb91",
    "source-id": "d5bbbc9d-6820-402f-95e7-3e07aaf67e25"
   },
   "source": [
    "---\n",
    "## Problem 6\n",
    "\n",
    "The file ``school_stats.csv`` is CSV-formatted and contains statistics for several student across several assignments. Define three functions that reference ``school_stats.csv``:\n",
    "\n",
    "- ``getHighestScorer(assignment)``: Should return the **name** of the student with the **highest** score on the specified assignment (for example, ``assignment`` might be ``\"problem set 1\"``).\n",
    "- ``getLowestScorer(assignment)``: Should return the **name** of the student with the **lowest** score on the specified assignment (for example, ``assignment`` might be ``\"problem set 1\"``).\n",
    "- ``getMeanScore(assignment)``: Should return the **average** score across all students on the specified assignment (for example, ``assignment`` might be ``\"problem set 1\"``).\n",
    "\n",
    "**DO NOT hardcode the assignment column names** and **DO NOT** use the `min` or `max` functions. Your code should work if new rows or columns are added. It is OK to assume that students' names will be in the first column. You may also assume that students' names are unique."
   ]
  },
  {
   "cell_type": "code",
   "execution_count": 11,
   "metadata": {
    "id": "a2d88386-1a5c-487a-9aa2-ef96368744e2",
    "source-id": "2f04b75c-67a7-45a0-96ec-bbbc95ed2402"
   },
   "outputs": [],
   "source": [
    "def getHighestScorer(assignment):\n",
    "    file = open('school_stats.csv','r')\n",
    "    lines = file.readlines()\n",
    "    header = lines[0]\n",
    "    header_lst = header.strip().split(',')\n",
    "    idx = header_lst.index(assignment) \n",
    "    length = len(lines)\n",
    "    no_header = lines[1:]\n",
    "    highscore = int(no_header[0].strip().split(',')[idx])\n",
    "    for line in no_header:\n",
    "        row = line.strip().split(',')\n",
    "        score = int(row[idx])\n",
    "        if score >= highscore:\n",
    "            highscore = score\n",
    "            first_name = row[0]\n",
    "    return first_name\n",
    "\n",
    "def getLowestScorer(assignment):\n",
    "    file = open('school_stats.csv','r')\n",
    "    lines = file.readlines()\n",
    "    header = lines[0]\n",
    "    header_lst = header.strip().split(',')\n",
    "    idx = header_lst.index(assignment) \n",
    "    length = len(lines)\n",
    "    no_header = lines[1:]\n",
    "    lowscore = int(no_header[0].strip().split(',')[idx])\n",
    "    for line in no_header:\n",
    "        row = line.strip().split(',')\n",
    "        score = int(row[idx])\n",
    "        if score <= lowscore:\n",
    "            lowscore = score\n",
    "            first_name = row[0]\n",
    "    return first_name\n",
    "\n",
    "def getMeanScore(assignment):\n",
    "    file = open('school_stats.csv','r')\n",
    "    lines = file.readlines()\n",
    "    header = lines[0]\n",
    "    header_lst = header.strip().split(',')\n",
    "    idx = header_lst.index(assignment) \n",
    "    length = len(lines)\n",
    "    no_header = lines[1:]\n",
    "    total = 0\n",
    "    for line in no_header:\n",
    "        row = line.strip().split(',')\n",
    "        score = int(row[idx])\n",
    "        total += score\n",
    "    average = total / len(no_header)\n",
    "    return average "
   ]
  },
  {
   "cell_type": "markdown",
   "metadata": {
    "id": "ff14d210-9b54-4ca4-b7cb-345361de5d23",
    "source-id": "7872ed4c-e953-4fa7-a380-fd1f063f99e4"
   },
   "source": [
    "### Problem 6 Tests:"
   ]
  },
  {
   "cell_type": "code",
   "execution_count": 12,
   "metadata": {
    "id": "1f74e92f-1ac1-4c92-8549-b2752d14e242",
    "source-id": "dbd3272a-7805-40a3-810b-aaa779fe41f2"
   },
   "outputs": [],
   "source": [
    "assert getHighestScorer('problem set 1') == 'bill', \"Checking that getHighestScorer('problem set 1') returns 'bill'\"\n",
    "assert getLowestScorer('problem set 1') == 'sue', \"Checking that getLowestScorer('problem set 1') returns 'sue'\"\n",
    "assert getMeanScore('problem set 1') == 13.4, \"Checking that getMeanScore('problem set 1') returns 13.4\"\n",
    "assert getHighestScorer('exam 1') == 'sue', \"Checking that getHighestScorer('exam 1') returns 'sue'\"\n",
    "assert getLowestScorer('exam 1') == 'bill', \"Checking that getLowestScorer('exam 1') returns 'bill'\"\n",
    "assert getMeanScore('exam 1') == 22.4, \"Checking that getMeanScore('exam 1') returns 22.4\"\n",
    "assert getHighestScorer('problem set 2') == 'john', \"Checking that getHighestScorer('problem set 2') returns 'john'\"\n",
    "assert getLowestScorer('problem set 2') == 'joe', \"Checking that getLowestScorer('problem set 2') returns 'joe'\"\n",
    "assert getMeanScore('problem set 2') == 22.6, \"Checking that getMeanScore('problem set 2') returns 22.6\""
   ]
  },
  {
   "cell_type": "markdown",
   "metadata": {
    "id": "4a0724c5-bbe0-4756-924b-826abeefb225",
    "source-id": "4756940e-3a5e-4fcd-986a-9a548fdbf4a6"
   },
   "source": [
    "---\n",
    "## Problem 7 (Demonstrate Your Understanding)\n",
    "\n",
    "Write code and/or a Python comment that demonstrates your understanding of the material in this problem set. This assignment requires effort and demonstration of true understanding and will be evaluated carefully (this does not mean it needs to be long, just clear and accurate. In fact, it should be brief; ideally just 2-3 sentences)."
   ]
  },
  {
   "cell_type": "code",
   "execution_count": 13,
   "metadata": {
    "id": "b9728d33-6ef3-4cc6-8d3b-c82df3cfd01c",
    "source-id": "bccd4c20-9c02-4b52-84b2-db8449556258"
   },
   "outputs": [],
   "source": [
    "#Defining Functions:\n",
    "# A syntax for creating function is as follows:\n",
    "#------\n",
    "#  def function_name(parameters):\n",
    "# (indented) statements     \n",
    "#------\n",
    "# To produce a value we use \"return\" statement at the end of the function\n",
    "\n",
    "#Tuple Packing and Unpacking\n",
    "# When assigning a tuples to single variable, we can omit the parentheses:\n",
    "#  tuple = string1, int, string2, float\n",
    "# We can assign tuple values to the variables on the left:\n",
    "#  (a,b,c,d) = (1,2,3,4)\n",
    "#  a,b,c,d = 1,2,3,4"
   ]
  },
  {
   "cell_type": "markdown",
   "metadata": {
    "id": "a125543a-8311-4a0b-b466-9c945c840279",
    "source-id": "dec817c7-c6aa-442c-bfbc-0c405e658d63"
   },
   "source": [
    "---\n",
    "## Problem 8 (Look Ahead to Advanced Functions)\n",
    "\n",
    "Define a `lambda` function named `addOne` that accepts one argument (an integer) and returns that argument's value plus `1`. Your code must use `lambda` (and not `def`)"
   ]
  },
  {
   "cell_type": "code",
   "execution_count": 14,
   "metadata": {
    "id": "0f6e5741-1e25-4b8f-9d1c-4c0716f86804",
    "source-id": "973f0992-f95a-4699-b881-601ac4049eb6"
   },
   "outputs": [],
   "source": [
    "addOne = lambda x: x + 1"
   ]
  },
  {
   "cell_type": "markdown",
   "metadata": {
    "id": "b7f406c6-a870-4ed6-b1b2-be06d5419f96",
    "source-id": "c91861e5-cbc9-427e-993d-d6e97f684dd9"
   },
   "source": [
    "### Problem 8 Tests:"
   ]
  },
  {
   "cell_type": "code",
   "execution_count": 15,
   "metadata": {
    "id": "40c9ed44-6431-4a27-8953-c6ac3f3833f1",
    "source-id": "7775881f-3846-48ad-9990-32587b3e9262"
   },
   "outputs": [],
   "source": [
    "assert addOne(5) == 6\n",
    "assert addOne(-1) == 0\n",
    "assert addOne(100) == 101"
   ]
  },
  {
   "cell_type": "markdown",
   "metadata": {
    "id": "4bed950b-540b-4544-85e9-52c23aac795b",
    "source-id": "ec5be37b-186f-47c4-a44e-64d97ded1ba6"
   },
   "source": [
    "---\n",
    "## Problem 9 (Look Ahead to Indefinite Iteration)\n",
    "\n",
    "In plain English, explain what the following code does. You should not need more than two sentences."
   ]
  },
  {
   "cell_type": "code",
   "execution_count": null,
   "metadata": {
    "id": "043c000c-950a-4e1e-86fd-80733e36b247",
    "source-id": "79b1955c-36df-4691-9e46-452ba092bd34"
   },
   "outputs": [],
   "source": [
    "nums = []\n",
    "while True:\n",
    "    user_inp = input('Enter a number (or \"exit\" to stop):')\n",
    "    if user_inp == 'exit':\n",
    "        break\n",
    "    nums.append(int(user_inp))\n",
    "print('The average is {}'.format(sum(nums)/len(nums)))"
   ]
  },
  {
   "cell_type": "markdown",
   "metadata": {
    "id": "7293091b-c1b6-4274-b891-aab4e913f845",
    "source-id": "634b05a0-056f-4bf7-a696-a966ef1a26c6"
   },
   "source": [
    "It keeps asking for numbers and creates a list of them, until user inputs \"exit\". It then prints an average of those numbers in a sentence."
   ]
  },
  {
   "cell_type": "markdown",
   "metadata": {
    "id": "6b0fa7df-051c-4d59-b9a5-336a2d30af02",
    "source-id": "8d52b26b-9a72-49b3-9e05-ecaefa5fce83"
   },
   "source": [
    "---\n",
    "---\n",
    "## Collaborators and Sources of Help\n",
    "In this markdown cell, list names of any people you worked with or got help from, and provide links to or descriptions of any external resources you consulted."
   ]
  },
  {
   "cell_type": "markdown",
   "metadata": {
    "id": "ce339226-e537-4401-93e9-dd3d9161b14a",
    "source-id": "cc89b401-2db7-4d36-b2c6-4caf4041883e"
   },
   "source": [
    "- List your collaborators here"
   ]
  },
  {
   "cell_type": "markdown",
   "metadata": {
    "id": "f0b583b9-ab1e-4a06-b10c-2d129e19fa26",
    "source-id": "b95c2e79-ae90-4559-b94a-b6d71308e2c9"
   },
   "source": [
    "## Upload your solutions to Canvas\n",
    "\n",
    "Click File -> Download as -> Notebook (.ipynb)\n",
    "\n",
    "Save the file to your computer. Upload your .ipynb file to Canvas. **Files submitted after midnight will _NOT_ be accepted. Be sure to upload on time.**\n",
    "\n",
    "*Note: You may submit any number of times before the deadline*"
   ]
  },
  {
   "cell_type": "markdown",
   "metadata": {
    "id": "fd81ac71-11d1-4810-beac-876283f84578",
    "source-id": "db03caf1-6bb3-403f-8f19-4709b005e0d7"
   },
   "source": [
    "\n",
    "    MMMMMMMMMMMMMMMMMMMMMMMMMMMMMMMMMMMMMMMMMMMMMMMMMMMMMMMMMMMM\n",
    "    MMMMMMMMMMMMMMMMMMMMMMMMMMMMMMMMMMMMMMMMMMMMMMMMMMMMMMMMMMMM\n",
    "    MMMMMMMMMMMMMMMMMMMMMMMMMMMMMMMMMMMMMMMMMMMMMMMMMMMMMMMMMMMM\n",
    "    MMMMMMMMMMMMMMMMMMMMMMMMMMMMMMMMMMMMMMMMMMMMMMMMMMMMMMMMMMMM\n",
    "    MMMMMMMM             MMMMMMMMMMMMMMMMM             MMMMMMMMM\n",
    "    MMMMMMMM              MMMMMMMMMMMMMMM              MMMMMMMMM\n",
    "    MMMMMMMM                MMMMMMMMMMM                MMMMMMMMM\n",
    "    MMMMMMMM                 MMMMMMMMM                 MMMMMMMMM\n",
    "    MMMMMMMM                  MMMMMMM                  MMMMMMMMM\n",
    "    MMMMMMMMMMMM               MMMMM                MMMMMMMMMMMM\n",
    "    MMMMMMMMMMMM                MMM                 MMMMMMMMMMMM\n",
    "    MMMMMMMMMMMM                 V                  MMMMMMMMMMMM\n",
    "    MMMMMMMMMMMM                                    MMMMMMMMMMMM\n",
    "    MMMMMMMMMMMM         ^               ^          MMMMMMMMMMMM\n",
    "    MMMMMMMMMMMM         MM             MM          MMMMMMMMMMMM\n",
    "    MMMMMMMMMMMM         MMMM         MMMM          MMMMMMMMMMMM\n",
    "    MMMMMMMMMMMM         MMMMM       MMMMM          MMMMMMMMMMMM\n",
    "    MMMMMMMMMMMM         MMMMMM     MMMMMM          MMMMMMMMMMMM\n",
    "    MMMMMMMM                MMMM   MMMM                MMMMMMMMM\n",
    "    MMMMMMMM                MMMMMVMMMMM                MMMMMMMMM\n",
    "    MMMMMMMM                MMMMMMMMMMM                MMMMMMMMM\n",
    "    MMMMMMMM                MMMMMMMMMMM                MMMMMMMMM\n",
    "    MMMMMMMM                MMMMMMMMMMM                MMMMMMMMM\n",
    "    MMMMMMMMMMMMMMMMMMMMMMMMMMMMMMMMMMMMMMMMMMMMMMMMMMMMMMMMMMMM\n",
    "    MMMMMMMMMMMMMMMMMMMMMMMMMMMMMMMMMMMMMMMMMMMMMMMMMMMMMMMMMMMM\n",
    "    MMMMMMMMMMMMMMMMMMMMMMMMMMMMMMMMMMMMMMMMMMMMMMMMMMMMMMMMMMMM\n",
    "    MMMMMMMMMMMMMMMMMMMMMMMMMMMMMMMMMMMMMMMMMMMMMMMMMMMMMMMMMMMM\n",
    "    MMMMMMMMMMMMMMMMMMMMMMMMMMMMMMMMMMMMMMMMMMMMMMMMMMMMMMMMMMMM  "
   ]
  }
 ],
 "metadata": {
  "exam_gen_problems": [
   "e93606ad-b2cb-4697-8f61-f0a0a777d60f",
   "bef52a39-71c0-4578-8ce9-7fb8c2fd15aa",
   "435e979c-c6f8-4ef3-86fb-2fa9dd779a34",
   "4951e1a6-890f-4be3-8c38-e6a2994caf8a",
   "09c063b6-4047-4090-af35-72badde2bbf4",
   "d5ded1ca-a3d1-4bb0-b3bd-b2d90501d860",
   "d5bbbc9d-6820-402f-95e7-3e07aaf67e25",
   "4756940e-3a5e-4fcd-986a-9a548fdbf4a6",
   "dec817c7-c6aa-442c-bfbc-0c405e658d63",
   "ec5be37b-186f-47c4-a44e-64d97ded1ba6",
   "8d52b26b-9a72-49b3-9e05-ecaefa5fce83"
  ],
  "kernelspec": {
   "display_name": "Python 3",
   "language": "python",
   "name": "python3"
  },
  "language_info": {
   "codemirror_mode": {
    "name": "ipython",
    "version": 3
   },
   "file_extension": ".py",
   "mimetype": "text/x-python",
   "name": "python",
   "nbconvert_exporter": "python",
   "pygments_lexer": "ipython3",
   "version": "3.8.5"
  }
 },
 "nbformat": 4,
 "nbformat_minor": 4
}
