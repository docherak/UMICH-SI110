{
 "cells": [
  {
   "cell_type": "markdown",
   "metadata": {
    "id": "aec0cae9-2f36-4aad-b234-69b8ce8ad57a",
    "source-id": "1d629121-e227-4a56-936e-3688f4240549"
   },
   "source": [
    "# SI 106 Problem Set 3\n",
    "\n",
    "Primary Topics:\n",
    "- Booleans, Conditionals, and Assertions\n",
    "- Transforming Sequences and Mutation\n",
    "\n",
    "Lookahead Topics:\n",
    "- Files\n",
    "\n",
    "---"
   ]
  },
  {
   "cell_type": "markdown",
   "metadata": {
    "id": "73a6acf2-14ba-44e9-950a-2f7d415424d3",
    "source-id": "8a81f82d-b5c1-4906-a4f1-3d1006930b3e"
   },
   "source": [
    "---\n",
    "## Problem 1\n",
    "\n",
    "`rainfall_mi` is a string that contains the average number of inches of rainfall in Michigan for every month (in inches) with every month separated by a comma. Write code to compute the number of months that have more than 3 inches of rainfall. Store the result in the variable `num_rainy_months`. In other words, count the number of items with values `> 3.0`.\n",
    "\n",
    "Hard-coded answers will receive no credit."
   ]
  },
  {
   "cell_type": "code",
   "execution_count": 1,
   "metadata": {
    "id": "576a0ded-b4ae-4b9a-9a89-667414fb48df",
    "source-id": "b53fa8e0-e66a-4995-bb94-3881503ea6f0"
   },
   "outputs": [],
   "source": [
    "rainfall_mi = \"1.65, 1.46, 2.05, 3.03, 3.35, 3.46, 2.83, 3.23, 3.5, 2.52, 2.8, 1.85\"\n",
    "\n",
    "num_rainy_months = 0\n",
    "\n",
    "for inch_num in rainfall_mi.split(\", \"):\n",
    "    if float(inch_num) > 3.0:\n",
    "        num_rainy_months += 1"
   ]
  },
  {
   "cell_type": "markdown",
   "metadata": {
    "id": "44d1a4c0-888b-4e87-9a2d-bcee0f0f03a7",
    "source-id": "41a16127-2ad8-43c0-ac02-09b810b83001"
   },
   "source": [
    "### Problem 1 Tests:"
   ]
  },
  {
   "cell_type": "code",
   "execution_count": 2,
   "metadata": {
    "id": "4dfaef88-55fb-4fd9-98c2-697d03dbb4ef",
    "source-id": "014cb749-5fec-4746-bcb3-bbb77da82d4c"
   },
   "outputs": [],
   "source": [
    "assert num_rainy_months == 5"
   ]
  },
  {
   "cell_type": "markdown",
   "metadata": {
    "id": "b8441657-03fa-442b-9742-44cd8c2b82bc",
    "source-id": "a3311bd4-7c9f-46f2-9196-a0da84dc48a7"
   },
   "source": [
    "---\n",
    "## Problem 2\n",
    "\n",
    "The variable sentence stores a string. Write code to determine how many words in `sentence` start and end with the same letter, including one-letter words. Store the result in the variable `same_letter_count`.\n",
    "\n",
    "Hard-coded answers will receive no credit."
   ]
  },
  {
   "cell_type": "code",
   "execution_count": 3,
   "metadata": {
    "id": "904fd28e-e29e-4b43-877a-e841986c8f65",
    "source-id": "be5d13f6-3b9f-4eff-b748-efe316f065aa"
   },
   "outputs": [],
   "source": [
    "sentence = \"students flock to the arb for a variety of outdoor activities such as jogging and picnicking\"\n",
    "\n",
    "same_letter_count = 0\n",
    "\n",
    "for word in sentence.split():\n",
    "    if word[0] == word[-1]:\n",
    "        same_letter_count += 1"
   ]
  },
  {
   "cell_type": "markdown",
   "metadata": {
    "id": "0c7e5dc5-e73a-4949-bc70-b6a25a5e11da",
    "source-id": "ad4b7150-36c8-4bdc-a64e-033602e9d05d"
   },
   "source": [
    "### Problem 2 Tests:"
   ]
  },
  {
   "cell_type": "code",
   "execution_count": 4,
   "metadata": {
    "id": "98a1c5cc-d5e7-42ee-a2eb-170cfe5d2f2d",
    "source-id": "0940aa07-ed64-402f-9a71-1593b64a69d5"
   },
   "outputs": [],
   "source": [
    "assert same_letter_count == 2"
   ]
  },
  {
   "cell_type": "markdown",
   "metadata": {
    "id": "4be24438-b167-412d-9088-e5a340a4c223",
    "source-id": "4ed7bba2-3043-40bb-8c0e-c512e1f73b8b"
   },
   "source": [
    "---\n",
    "## Problem 3\n",
    "\n",
    "Write code to count the number of strings in list items that have the character `'w'` in it. Assign that number to the variable `acc_num`.\n",
    "\n",
    "HINT 1: Use the accumulation pattern!\n",
    "\n",
    "HINT 2: the in operator checks whether a substring is present in a string.\n",
    "\n",
    "Hard-coded answers will receive no credit."
   ]
  },
  {
   "cell_type": "code",
   "execution_count": 5,
   "metadata": {
    "id": "221ddb31-accf-455e-bf8b-198b27de7659",
    "source-id": "88be5770-83e8-4aa3-8596-576c24b0fae9"
   },
   "outputs": [],
   "source": [
    "items = [\"whirring\", \"wow!\", \"calendar\", \"wry\", \"glass\", \"\", \"llama\",\"tumultuous\",\"owing\"]\n",
    "\n",
    "acc_num = 0\n",
    "\n",
    "for item in items:\n",
    "    if 'w' in item:\n",
    "        acc_num += 1"
   ]
  },
  {
   "cell_type": "markdown",
   "metadata": {
    "id": "dbbd7b8e-8dca-4187-8f87-f32d1cea6376",
    "source-id": "f4a85dac-b6ed-4d29-932d-aadc0d5fe6ab"
   },
   "source": [
    "### Problem 3 Tests:"
   ]
  },
  {
   "cell_type": "code",
   "execution_count": 6,
   "metadata": {
    "id": "d492ea54-bc89-4757-9a72-2ffed7dfabac",
    "source-id": "e1da3c2b-411b-4c79-80fc-b651a757c9b3"
   },
   "outputs": [],
   "source": [
    "assert acc_num == 4"
   ]
  },
  {
   "cell_type": "markdown",
   "metadata": {
    "id": "1111d551-b1af-44cb-acd5-1fe8db69a000",
    "source-id": "310a8273-6bd4-40cf-a59f-52b224d765e0"
   },
   "source": [
    "---\n",
    "## Problem 4\n",
    "\n",
    "Write code that counts the number of words in `sentence` that contain either an `\"a\"` or an `\"e\"`. Store the result in the variable `num_a_or_e`.\n",
    "\n",
    "Note 1: be sure to not double-count words that contain both an `a` and an `e`.\n",
    "\n",
    "Hints:\n",
    "- Use the `in` operator.\n",
    "- You can either use `or` or `elif`.\n",
    "\n",
    "Hard-coded answers will receive no credit."
   ]
  },
  {
   "cell_type": "code",
   "execution_count": 7,
   "metadata": {
    "id": "b3c3c76e-04e0-41a9-8c5b-bacf1deca26c",
    "source-id": "5d8d09db-06c8-4dd6-aa33-8b21fae94ec2"
   },
   "outputs": [],
   "source": [
    "sentence = \"python is a high level general purpose programming language that can be applied to many different classes of problems.\"\n",
    "\n",
    "num_a_or_e = 0\n",
    "\n",
    "for word in sentence.split():\n",
    "    if 'a' in word or 'e' in word:\n",
    "        num_a_or_e += 1"
   ]
  },
  {
   "cell_type": "markdown",
   "metadata": {
    "id": "fad8172e-4813-4e40-8bb3-71f7f1866037",
    "source-id": "fc260012-5352-476b-a885-09b3a37c794b"
   },
   "source": [
    "### Problem 4 Tests:"
   ]
  },
  {
   "cell_type": "code",
   "execution_count": 8,
   "metadata": {
    "id": "853dac8c-1937-4711-8e49-013e323488d2",
    "source-id": "9adeb9f7-e6ac-48c0-8039-24b20cda2cbe"
   },
   "outputs": [],
   "source": [
    "assert num_a_or_e == 14"
   ]
  },
  {
   "cell_type": "markdown",
   "metadata": {
    "id": "539480e4-adee-40bf-b46a-b93ad8859613",
    "source-id": "0debdfde-914a-45e9-b4de-a69a0b2a2f67"
   },
   "source": [
    "---\n",
    "## Problem 5\n",
    "\n",
    "Write code that will count the number of vowels in the sentence `s` and assign the result to the variable `num_vowels`. For this problem, vowels are only a, e, i, o, and u. Hint: use the `in` operator with `vowels`."
   ]
  },
  {
   "cell_type": "code",
   "execution_count": 9,
   "metadata": {
    "id": "7a6c2d0b-36d4-44b5-bf4a-c1fea5c27b2c",
    "source-id": "3901208b-4a3c-4892-8b84-9c7ccb633122"
   },
   "outputs": [],
   "source": [
    "s = \"singing in the rain and playing in the rain are two entirely different situations but both can be fun\"\n",
    "vowels = ['a','e','i','o','u']\n",
    "\n",
    "num_vowels = 0\n",
    "\n",
    "for char in s:\n",
    "    if char in vowels:\n",
    "        num_vowels += 1"
   ]
  },
  {
   "cell_type": "markdown",
   "metadata": {
    "id": "97995f95-16da-441c-8fa5-f880621f2f65",
    "source-id": "2a286ef8-05ca-4c1b-8027-5e5d565da998"
   },
   "source": [
    "### Problem 5 Tests:"
   ]
  },
  {
   "cell_type": "code",
   "execution_count": 10,
   "metadata": {
    "id": "275e507f-4bcc-4044-90be-1fc4c592873e",
    "source-id": "fdf5d268-0034-4f4b-90b9-be88e4c1f8ca"
   },
   "outputs": [],
   "source": [
    "assert num_vowels == 32"
   ]
  },
  {
   "cell_type": "markdown",
   "metadata": {
    "id": "d69d3d04-ca83-43a6-a510-894163595784",
    "source-id": "4f7fb134-1a20-43e9-a0ea-5075c0d58bfb"
   },
   "source": [
    "---\n",
    "## Problem 6\n",
    "\n",
    "Create one conditional so that if `\"Friendly\"` is in `w`, then `\"Friendly is here!\"` should be assigned to the variable `wrd`. If it’s not, check if `\"Friend\"` is in `w`. If so, the string `\"Friend is here!\"` should be assigned to the variable `wrd`, otherwise `\"No variation of friend is in here.\"` should be assigned to the variable `wrd`. (Also consider: does the order of your conditional statements matter for this problem? Why?)"
   ]
  },
  {
   "cell_type": "code",
   "execution_count": 11,
   "metadata": {
    "id": "15a08121-fe30-4618-b4e4-7d08e3bfbd07",
    "source-id": "d07f2a6f-dc1c-4e2a-8da6-4a98e38e51c4"
   },
   "outputs": [],
   "source": [
    "w = \"Friendship is a wonderful human experience!\"\n",
    "\n",
    "if 'Friendly' in w:\n",
    "    wrd = 'Friendly is here!'\n",
    "elif 'Friend' in w:\n",
    "    wrd = 'Friend is here!'\n",
    "else:\n",
    "    wrd = 'No variation of friend is in here.'\n",
    "    \n",
    "#It matters, as 'Friendly' is longer than 'Friend'"
   ]
  },
  {
   "cell_type": "markdown",
   "metadata": {
    "id": "ff8a91de-9023-4f6b-80bd-62d5ec2f552d",
    "source-id": "0e6b99c6-b88e-4efb-a8a6-48420938e366"
   },
   "source": [
    "### Problem 6 Tests:"
   ]
  },
  {
   "cell_type": "code",
   "execution_count": 12,
   "metadata": {
    "id": "ccf79c2c-a72e-4ab4-b7b4-53f719fcf5d5",
    "source-id": "8484f473-14bd-40a3-a22a-c5300aaca207"
   },
   "outputs": [],
   "source": [
    "assert wrd == \"Friend is here!\""
   ]
  },
  {
   "cell_type": "markdown",
   "metadata": {
    "id": "1c533fc4-6983-45f6-9d2a-772f1953d102",
    "source-id": "decf804b-1059-4923-bd6a-91b8600d8945"
   },
   "source": [
    "---\n",
    "## Problem 7\n",
    "\n",
    "We have written conditionals for you to use. Create the variable `x` and assign it some integer so that at the end of the code, output will be assigned the string `\"Consistently working\"`."
   ]
  },
  {
   "cell_type": "code",
   "execution_count": 13,
   "metadata": {
    "id": "5183aeba-159a-42f7-b3eb-114e58f82ab7",
    "source-id": "5eb84c3d-4039-444e-b683-a7da8d2b1159"
   },
   "outputs": [],
   "source": [
    "# write your code for problem 7 here:\n",
    "x = 11\n",
    "\n",
    "if x >= 10:\n",
    "    output = \"working\"\n",
    "else:\n",
    "    output = \"Still working\"\n",
    "if x > 12:\n",
    "    output = \"Always working\"\n",
    "elif x < 7:\n",
    "    output = \"Forever working\"\n",
    "else:\n",
    "    output = \"Consistently working\""
   ]
  },
  {
   "cell_type": "markdown",
   "metadata": {
    "id": "7489ecba-08f0-44f8-802a-b0bdd9177c1b",
    "source-id": "5ece6b3a-b7ae-4b55-9dca-3c2a05fbce70"
   },
   "source": [
    "### Problem 7 Tests:"
   ]
  },
  {
   "cell_type": "code",
   "execution_count": 14,
   "metadata": {
    "id": "b3315026-1068-4ed1-b923-a80d2a78f74a",
    "source-id": "feba7ad9-c7ff-456b-89d5-93efd879748d"
   },
   "outputs": [],
   "source": [
    "assert output == \"Consistently working\"\n",
    "assert x in [7,8,9,10,11,12]"
   ]
  },
  {
   "cell_type": "markdown",
   "metadata": {
    "id": "a91161d6-1611-4fd0-b130-cfef621d3e8d",
    "source-id": "2592178a-5fe6-43ef-b2e7-3652e85833cd"
   },
   "source": [
    "---\n",
    "## Problem 8\n",
    "\n",
    "Create the variable `z` whose value is `30`. Write code to see if `z` is greater than `y`. If so, add `5` to `y`’s value, otherwise do nothing. Then, multiply `z` and `y`, and assign the resulting value to the variable `x`."
   ]
  },
  {
   "cell_type": "code",
   "execution_count": 15,
   "metadata": {
    "id": "33af1433-09f1-451d-be64-5a42b0ec5eb6",
    "source-id": "9e74b664-f75c-4c9f-b72c-915947cc5642"
   },
   "outputs": [],
   "source": [
    "y = 32\n",
    "\n",
    "z = 30\n",
    "\n",
    "if z > y:\n",
    "    y += 5\n",
    "\n",
    "x = z * y"
   ]
  },
  {
   "cell_type": "markdown",
   "metadata": {
    "id": "2a24dca1-6d9a-4163-8d17-6081f853f53b",
    "source-id": "780b5d7f-208f-4e02-b94a-4709460535d9"
   },
   "source": [
    "### Problem 8 Tests:"
   ]
  },
  {
   "cell_type": "code",
   "execution_count": 16,
   "metadata": {
    "id": "ecc93fc1-b2df-444d-a90f-b84393a03d52",
    "source-id": "102b3940-5742-4fb2-bbe9-0ba57bdcf978"
   },
   "outputs": [],
   "source": [
    "assert x == 960\n",
    "assert y == 32\n",
    "assert z == 30"
   ]
  },
  {
   "cell_type": "markdown",
   "metadata": {
    "id": "b204eb06-6f2a-4058-aa8c-b04b4fbb7e60",
    "source-id": "a2e2d802-a74e-4ea7-a670-1e37b639180a"
   },
   "source": [
    "---\n",
    "## Problem 9\n",
    "\n",
    "For each string in `wrd_lst`, find the number of characters in the string. If the number of characters is less than `6`, add `1` to `accum` so that in the end, `accum` will contain an integer representing the total number of words in the list that have fewer than `6` characters."
   ]
  },
  {
   "cell_type": "code",
   "execution_count": 17,
   "metadata": {
    "id": "e77eefc6-b9f8-4b5c-9a91-c4850261e9b0",
    "source-id": "9030e354-9c9e-438c-92b4-7fe6e1b12db7"
   },
   "outputs": [],
   "source": [
    "wrd_lst = [\"Hello\", \"activecode\", \"Java\", \"C#\", \"Python\", \"HTML and CSS\", \"Javascript\", \"Swift\", \"php\"]\n",
    "\n",
    "accum = 0\n",
    "\n",
    "for wrd in wrd_lst:\n",
    "    if len(wrd) < 6:\n",
    "        accum += 1"
   ]
  },
  {
   "cell_type": "markdown",
   "metadata": {
    "id": "4a3c7645-7bcf-4276-8003-f73a82ab2dd3",
    "source-id": "e2e568b2-f3a5-4770-9ab5-3e78fa848948"
   },
   "source": [
    "### Problem 9 Tests:"
   ]
  },
  {
   "cell_type": "code",
   "execution_count": 18,
   "metadata": {
    "id": "6c63f95e-848b-44fa-9d30-13fba07d9ddc",
    "source-id": "f49d1b83-afd5-4318-a14a-4bbd385f2105"
   },
   "outputs": [],
   "source": [
    "assert accum == 5"
   ]
  },
  {
   "cell_type": "markdown",
   "metadata": {
    "id": "77022954-c7cb-4466-be08-89b1ebf2cbe8",
    "source-id": "5d142ba2-49cc-4196-8c82-9a651e1de8b9"
   },
   "source": [
    "---\n",
    "## Problem 10\n",
    "\n",
    "Write code to add `'Guadalajara'` to the end of the list `trav_dest` using a list method that **mutates** `trav_dest`."
   ]
  },
  {
   "cell_type": "code",
   "execution_count": 19,
   "metadata": {
    "id": "3d99f65d-cb47-4623-a36e-bd8919dfb19b",
    "source-id": "e107a6c4-b3bf-4689-baac-a593cfd05007"
   },
   "outputs": [],
   "source": [
    "trav_dest = ['Beirut', 'Milan', 'Pittsburgh', 'Buenos Aires', 'Nairobi', 'Kathmandu', 'Osaka', 'Melbourne']\n",
    "\n",
    "trav_dest.append('Guadalajara')"
   ]
  },
  {
   "cell_type": "markdown",
   "metadata": {
    "id": "5f5fe5b6-ad17-46a3-95f7-635f0bba347c",
    "source-id": "19fdf79f-ce8c-4a18-96fc-f83c9c7149ef"
   },
   "source": [
    "### Problem 10 Tests:"
   ]
  },
  {
   "cell_type": "code",
   "execution_count": 20,
   "metadata": {
    "id": "554f8507-d688-4475-81e5-e0d27e2aef28",
    "source-id": "8b197bd7-6a9a-4a53-a719-ae2408dfd53f"
   },
   "outputs": [],
   "source": [
    "assert trav_dest == ['Beirut', 'Milan', 'Pittsburgh', 'Buenos Aires', 'Nairobi', 'Kathmandu', 'Osaka', 'Melbourne', 'Guadalajara']"
   ]
  },
  {
   "cell_type": "markdown",
   "metadata": {
    "id": "638d6cf5-d340-471d-84c7-d5671a90d961",
    "source-id": "0e5448d0-2260-41ae-b422-6664b1e799d3"
   },
   "source": [
    "---\n",
    "## Problem 11\n",
    "\n",
    "Write code to find the position of the string `\"Tony\"` in the list awards and save that information in the variable `pos`."
   ]
  },
  {
   "cell_type": "code",
   "execution_count": 21,
   "metadata": {
    "id": "50d38d06-147b-4e70-9247-ce8e2362cb63",
    "source-id": "02f5e97f-1876-406e-8132-a0f3ba5a6282"
   },
   "outputs": [],
   "source": [
    "awards = ['Emmy', 'Tony', 'Academy', 'Grammy']\n",
    "\n",
    "pos = awards.index('Tony')"
   ]
  },
  {
   "cell_type": "markdown",
   "metadata": {
    "id": "f9838303-9073-4fa4-bcc0-2ae6ae040420",
    "source-id": "660acd37-1d0f-44aa-b2f5-a56b4cc0c5b4"
   },
   "source": [
    "### Problem 11 Tests:"
   ]
  },
  {
   "cell_type": "code",
   "execution_count": 22,
   "metadata": {
    "id": "c64f8121-ce48-4827-8432-d42ea16ca4a9",
    "source-id": "bb8c80da-76a8-4dd0-a2b4-6c9a725baf36"
   },
   "outputs": [],
   "source": [
    "assert pos == 1"
   ]
  },
  {
   "cell_type": "markdown",
   "metadata": {
    "id": "ad9b01b9-025a-4bec-8fa4-9a3048704278",
    "source-id": "c68bbfed-89cf-429d-98f5-4d523ab3cf29"
   },
   "source": [
    "---\n",
    "## Problem 12\n",
    "\n",
    "For each string in wrds, add `'ed'` to the end of the word (to make the word past tense). Save these past tense words to a list called `past_wrds`."
   ]
  },
  {
   "cell_type": "code",
   "execution_count": 23,
   "metadata": {
    "id": "2b768f9b-364c-466e-a96a-ac02582663f0",
    "source-id": "580197a1-8c59-4506-89bd-6b1de7119463"
   },
   "outputs": [],
   "source": [
    "wrds = [\"end\", 'work', \"play\", \"start\", \"walk\", \"look\", \"open\", \"rain\", \"learn\", \"clean\"]\n",
    "\n",
    "past_wrds = []\n",
    "\n",
    "for wrd in wrds:\n",
    "    wrd += 'ed'\n",
    "    past_wrds.append(wrd)"
   ]
  },
  {
   "cell_type": "markdown",
   "metadata": {
    "id": "db975aa0-43fc-4815-8e07-181d5ecc7063",
    "source-id": "5009a957-00f9-4df8-b3a9-8422cd0760cb"
   },
   "source": [
    "### Problem 12 Tests:"
   ]
  },
  {
   "cell_type": "code",
   "execution_count": 24,
   "metadata": {
    "id": "b0eddecb-3a81-4a80-9c89-2edf7de783fd",
    "source-id": "04052550-9189-4aae-972e-95f06b2cafba"
   },
   "outputs": [],
   "source": [
    "assert past_wrds == ['ended', 'worked', 'played', 'started', 'walked', 'looked', 'opened', 'rained', 'learned', 'cleaned']"
   ]
  },
  {
   "cell_type": "markdown",
   "metadata": {
    "id": "feef5e71-6110-40df-8e7f-7c46a4f0eaac",
    "source-id": "583586d8-288d-4762-8c03-c234732cbc90"
   },
   "source": [
    "---\n",
    "## Problem 13\n",
    "\n",
    "Write code to create a list of word lengths for the words in `original_str` using the accumulation pattern and assign the answer to a variable `num_chars_list`. (You should use the `len` function).\n",
    "\n",
    "For example, if `original_str` is `\"hello 106\"` then `num_words_list` should be `[5, 3]`\n",
    "\n",
    "Then, write one or more `assert` statements that test whether you have written the code correctly. This question will be graded manually."
   ]
  },
  {
   "cell_type": "code",
   "execution_count": 25,
   "metadata": {
    "id": "bf75f948-fbad-4e58-998b-b7daed796df0",
    "source-id": "eb2cd942-3a40-4d2f-b9e2-70e9a95f6911"
   },
   "outputs": [],
   "source": [
    "original_str = \"The quick brown rhino jumped over the extremely lazy fox\"\n",
    "\n",
    "num_chars_list = []\n",
    "\n",
    "for word in original_str.split():\n",
    "    num_chars_list += [len(word)]\n",
    "\n",
    "assert num_chars_list == [3, 5, 5, 5, 6, 4, 3, 9, 4, 3]\n",
    "assert type(num_chars_list) == list\n",
    "assert len(num_chars_list) == 10"
   ]
  },
  {
   "cell_type": "markdown",
   "metadata": {
    "id": "51d290aa-f7d0-4ac1-a8e8-8fa51118dc76",
    "source-id": "2a816c73-74ad-4862-96ce-fa02747f78bd"
   },
   "source": [
    "---\n",
    "## Problem 14 (Demonstrate Your Understanding)\n",
    "\n",
    "Write code and/or a Python comment that demonstrates your understanding of the material in this problem set. This assignment requires effort and demonstration of true understanding and will be evaluated carefully (this does not mean it needs to be long, just clear and accurate. In fact, it should be brief; ideally just 2-3 sentences)."
   ]
  },
  {
   "cell_type": "code",
   "execution_count": 27,
   "metadata": {
    "id": "3f744cc2-4000-47a2-88d4-daa2b3f20616",
    "source-id": "19807f6c-7707-480b-80fe-def4c26dd828"
   },
   "outputs": [
    {
     "name": "stdout",
     "output_type": "stream",
     "text": [
      "Welcome to the random password generator. First, choose your password length. Note that your password should be longer than 3 characters: 4\n",
      "Now, lets specify it a little. Do you want to include uppercase characters? y\n",
      "Do you want to include lowercase characters? y\n",
      "Do you want to include numbers? y\n",
      "Do you want to include special characters? y\n",
      "#Fc2\n"
     ]
    }
   ],
   "source": [
    "#Booleans, Conditionals, and Assertions\n",
    "#Transforming Sequences and Mutation\n",
    "#--Basic Pseudo-Random Password Generator:\n",
    "\n",
    "import string\n",
    "import random\n",
    "\n",
    "choose_len = input('Welcome to the random password generator. First, choose your password length. Note that your password should be longer than 3 characters: ')\n",
    "passw_len = int(choose_len)\n",
    "passw_lst = []\n",
    "\n",
    "if passw_len >= 4:\n",
    "    choose_upper = input('Now, lets specify it a little. Do you want to include uppercase characters? ')\n",
    "    choose_lower = input('Do you want to include lowercase characters? ')\n",
    "    choose_num = input('Do you want to include numbers? ')\n",
    "    choose_spec = input('Do you want to include special characters? ')\n",
    "    passw_upper = str(choose_upper)\n",
    "    passw_lower = str(choose_lower)\n",
    "    passw_num = str(choose_num)\n",
    "    passw_spec = str(choose_spec)\n",
    "    for n in range(passw_len):\n",
    "        if 'y' in passw_upper or 'Y' in passw_upper:\n",
    "            passw_lst.append(random.choice(string.ascii_uppercase))\n",
    "        if 'y' in passw_lower or 'Y' in passw_lower:\n",
    "            passw_lst.append(random.choice(string.ascii_lowercase))\n",
    "        if 'y' in passw_num or 'Y' in passw_num:\n",
    "            passw_lst.append(random.choice(string.digits)) #wanted to use .randint, but I need a string, or this would get complicated haha\n",
    "        if 'y' in passw_spec or 'Y' in passw_spec:\n",
    "            passw_lst.append(random.choice(string.punctuation))\n",
    "        else:\n",
    "            print('I will read this so many times, that next time, I will remember to pick at least something. This is definitely not authors creative way to lifehack figuring out how to print this only once.') #It is haha \n",
    "    passw_lst = passw_lst[:(n+1)]\n",
    "    random.shuffle(passw_lst)\n",
    "    password = ''.join(passw_lst)\n",
    "    print(password)\n",
    "else:\n",
    "    print('Choose a longer password. Run the program again to proceed.')"
   ]
  },
  {
   "cell_type": "markdown",
   "metadata": {
    "id": "b601ee8e-5351-434b-8818-97f81b56b231",
    "source-id": "73cc861a-c0e7-4c1f-9960-f1eff0cc674b"
   },
   "source": [
    "---\n",
    "## Problem 15 (Look Ahead to Files)\n",
    "\n",
    "Write code that reads the file `victors.txt` and assigns the variable `victors_lyrics` to its contents (a string)"
   ]
  },
  {
   "cell_type": "code",
   "execution_count": 28,
   "metadata": {
    "id": "05f2fbb5-fc7a-46cc-a86b-a0fe32e7baf1",
    "source-id": "395c01b7-006f-436d-9e98-51d6c638e954"
   },
   "outputs": [],
   "source": [
    "#I am not uploading the victors.txt file, but the way I wrote this, it should be nested on the same level as this file\n",
    "with open('victors.txt','r') as file:\n",
    "    victors_lyrics = file.read()"
   ]
  },
  {
   "cell_type": "markdown",
   "metadata": {
    "id": "f7f4d7df-a7a3-4171-83d1-fc63c6302246",
    "source-id": "13065920-0e2a-499b-93c4-3b0df41e6aab"
   },
   "source": [
    "### Problem 15 Tests:"
   ]
  },
  {
   "cell_type": "code",
   "execution_count": 29,
   "metadata": {
    "id": "d758fc7f-4d1a-4f20-b4b8-23a843543490",
    "source-id": "493e8933-9d06-45b5-b614-d277bf048b7d"
   },
   "outputs": [],
   "source": [
    "assert \"\"\"Now for a cheer they are here, triumphant!\n",
    "Here they come with banners flying,\n",
    "In stalwart step they're nighing,\n",
    "With shouts of vict'ry crying,\n",
    "We hurrah, hurrah, we greet you now,\n",
    "Hail!\n",
    "\n",
    "Far we their praises sing\n",
    "For the glory and fame they've bro't us\n",
    "Loud let the bells them ring\n",
    "For here they come with banners flying\n",
    "Far we their praises tell\n",
    "For the glory and fame they've bro't us\n",
    "Loud let the bells them ring\n",
    "For here they come with banners flying\n",
    "Here they come, Hurrah!\n",
    "\n",
    "Hail! to the victors valiant\n",
    "Hail! to the conqu'ring heroes\n",
    "Hail! Hail! to Michigan\n",
    "the leaders and best\n",
    "Hail! to the victors valiant\n",
    "Hail! to the conqu'ring heroes\n",
    "Hail! Hail! to Michigan,\n",
    "the champions of the West!\n",
    "\n",
    "We cheer them again\n",
    "We cheer and cheer again\n",
    "For Michigan, we cheer for Michigan\n",
    "We cheer with might and main\n",
    "We cheer, cheer, cheer\n",
    "With might and main we cheer!\n",
    "\n",
    "Hail! to the victors valiant\n",
    "Hail! to the conqu'ring heroes\n",
    "Hail! Hail! to Michigan,\n",
    "the champions of the West!\"\"\" in victors_lyrics"
   ]
  },
  {
   "cell_type": "markdown",
   "metadata": {
    "id": "880a8073-c2de-47b1-9e5e-00af86d5fd0f",
    "source-id": "0e50cf60-c394-4120-a36f-3df60180e5bc"
   },
   "source": [
    "---\n",
    "---\n",
    "## Collaborators and Sources of Help\n",
    "In this markdown cell, list names of any people you worked with or got help from, and provide links to or descriptions of any external resources you consulted."
   ]
  },
  {
   "cell_type": "markdown",
   "metadata": {
    "id": "e9c1e834-8a36-4435-97e3-44b675572165",
    "source-id": "7d0c1fa1-1285-417b-89b5-fd6aa8a22112"
   },
   "source": [
    "https://www.educative.io/edpresso/how-to-generate-a-random-string-in-python for string function specs, as I needed to generate an integer as a string"
   ]
  },
  {
   "cell_type": "markdown",
   "metadata": {
    "id": "ff21cb82-44d1-4a76-baff-dc2133a80d08",
    "source-id": "5d93359c-09bb-4512-a25c-6181f1bb511f"
   },
   "source": [
    "## Upload your solutions to Canvas\n",
    "\n",
    "Click File -> Download as -> Notebook (.ipynb)\n",
    "\n",
    "Save the file to your computer. Upload your .ipynb file to Canvas. **Files submitted after midnight will _NOT_ be accepted. Be sure to upload on time.**\n",
    "\n",
    "*Note: You may submit any number of times before the deadline*"
   ]
  },
  {
   "cell_type": "markdown",
   "metadata": {
    "id": "be01ba19-2062-47f5-951c-09516c292922",
    "source-id": "3b487a02-08fb-4099-b52a-92d340ba66e4"
   },
   "source": [
    "\n",
    "    MMMMMMMMMMMMMMMMMMMMMMMMMMMMMMMMMMMMMMMMMMMMMMMMMMMMMMMMMMMM\n",
    "    MMMMMMMMMMMMMMMMMMMMMMMMMMMMMMMMMMMMMMMMMMMMMMMMMMMMMMMMMMMM\n",
    "    MMMMMMMMMMMMMMMMMMMMMMMMMMMMMMMMMMMMMMMMMMMMMMMMMMMMMMMMMMMM\n",
    "    MMMMMMMMMMMMMMMMMMMMMMMMMMMMMMMMMMMMMMMMMMMMMMMMMMMMMMMMMMMM\n",
    "    MMMMMMMM             MMMMMMMMMMMMMMMMM             MMMMMMMMM\n",
    "    MMMMMMMM              MMMMMMMMMMMMMMM              MMMMMMMMM\n",
    "    MMMMMMMM                MMMMMMMMMMM                MMMMMMMMM\n",
    "    MMMMMMMM                 MMMMMMMMM                 MMMMMMMMM\n",
    "    MMMMMMMM                  MMMMMMM                  MMMMMMMMM\n",
    "    MMMMMMMMMMMM               MMMMM                MMMMMMMMMMMM\n",
    "    MMMMMMMMMMMM                MMM                 MMMMMMMMMMMM\n",
    "    MMMMMMMMMMMM                 V                  MMMMMMMMMMMM\n",
    "    MMMMMMMMMMMM                                    MMMMMMMMMMMM\n",
    "    MMMMMMMMMMMM         ^               ^          MMMMMMMMMMMM\n",
    "    MMMMMMMMMMMM         MM             MM          MMMMMMMMMMMM\n",
    "    MMMMMMMMMMMM         MMMM         MMMM          MMMMMMMMMMMM\n",
    "    MMMMMMMMMMMM         MMMMM       MMMMM          MMMMMMMMMMMM\n",
    "    MMMMMMMMMMMM         MMMMMM     MMMMMM          MMMMMMMMMMMM\n",
    "    MMMMMMMM                MMMM   MMMM                MMMMMMMMM\n",
    "    MMMMMMMM                MMMMMVMMMMM                MMMMMMMMM\n",
    "    MMMMMMMM                MMMMMMMMMMM                MMMMMMMMM\n",
    "    MMMMMMMM                MMMMMMMMMMM                MMMMMMMMM\n",
    "    MMMMMMMM                MMMMMMMMMMM                MMMMMMMMM\n",
    "    MMMMMMMMMMMMMMMMMMMMMMMMMMMMMMMMMMMMMMMMMMMMMMMMMMMMMMMMMMMM\n",
    "    MMMMMMMMMMMMMMMMMMMMMMMMMMMMMMMMMMMMMMMMMMMMMMMMMMMMMMMMMMMM\n",
    "    MMMMMMMMMMMMMMMMMMMMMMMMMMMMMMMMMMMMMMMMMMMMMMMMMMMMMMMMMMMM\n",
    "    MMMMMMMMMMMMMMMMMMMMMMMMMMMMMMMMMMMMMMMMMMMMMMMMMMMMMMMMMMMM\n",
    "    MMMMMMMMMMMMMMMMMMMMMMMMMMMMMMMMMMMMMMMMMMMMMMMMMMMMMMMMMMMM  "
   ]
  }
 ],
 "metadata": {
  "exam_gen_problems": [
   "1d629121-e227-4a56-936e-3688f4240549",
   "8a81f82d-b5c1-4906-a4f1-3d1006930b3e",
   "a3311bd4-7c9f-46f2-9196-a0da84dc48a7",
   "4ed7bba2-3043-40bb-8c0e-c512e1f73b8b",
   "310a8273-6bd4-40cf-a59f-52b224d765e0",
   "0debdfde-914a-45e9-b4de-a69a0b2a2f67",
   "4f7fb134-1a20-43e9-a0ea-5075c0d58bfb",
   "decf804b-1059-4923-bd6a-91b8600d8945",
   "2592178a-5fe6-43ef-b2e7-3652e85833cd",
   "a2e2d802-a74e-4ea7-a670-1e37b639180a",
   "5d142ba2-49cc-4196-8c82-9a651e1de8b9",
   "0e5448d0-2260-41ae-b422-6664b1e799d3",
   "c68bbfed-89cf-429d-98f5-4d523ab3cf29",
   "583586d8-288d-4762-8c03-c234732cbc90",
   "2a816c73-74ad-4862-96ce-fa02747f78bd",
   "73cc861a-c0e7-4c1f-9960-f1eff0cc674b",
   "0e50cf60-c394-4120-a36f-3df60180e5bc"
  ],
  "kernelspec": {
   "display_name": "Python 3",
   "language": "python",
   "name": "python3"
  },
  "language_info": {
   "codemirror_mode": {
    "name": "ipython",
    "version": 3
   },
   "file_extension": ".py",
   "mimetype": "text/x-python",
   "name": "python",
   "nbconvert_exporter": "python",
   "pygments_lexer": "ipython3",
   "version": "3.8.5"
  }
 },
 "nbformat": 4,
 "nbformat_minor": 4
}
