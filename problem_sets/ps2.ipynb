{
 "cells": [
  {
   "cell_type": "markdown",
   "metadata": {
    "id": "5baca5be-a31c-4e8f-ac96-d74a5083447c",
    "source-id": "943b56d6-9892-4c3f-8cac-97d3d8373358"
   },
   "source": [
    "# SI 106 Problem Set 2\n",
    "\n",
    "Primary Topics:\n",
    "- Sequences\n",
    "- Iteration and the Accumulator Pattern\n",
    "\n",
    "Lookahead Topics:\n",
    "- Booleans, Conditionals, and Assertions\n",
    "- Transforming Sequences and Mutation\n",
    "\n",
    "---\n",
    "---"
   ]
  },
  {
   "cell_type": "markdown",
   "metadata": {
    "id": "b334469b-bfd8-4a64-ae7a-3d11af786ed0",
    "source-id": "85d8da70-e17f-4174-9c0c-28aa4ca6653c"
   },
   "source": [
    "---\n",
    "## Problem 1\n",
    "\n",
    "Write a program that extracts the last three items in the list `sports` and assigns it to the variable `last_three_sports`. Make sure to write your code so that it works no matter how many items are in the list."
   ]
  },
  {
   "cell_type": "code",
   "execution_count": 23,
   "metadata": {
    "id": "2a6f5e00-b0aa-4a91-9c42-01aa22a26919",
    "source-id": "2cd3aab9-9812-44e7-908c-50699882727b"
   },
   "outputs": [],
   "source": [
    "sports = ['cricket', 'football', 'volleyball', 'baseball', 'softball', 'track and field', 'curling', 'ping pong', 'hockey']\n",
    "\n",
    "last_three_sports = sports[-3:]"
   ]
  },
  {
   "cell_type": "markdown",
   "metadata": {
    "id": "79864d85-1507-46ec-86ff-302b443d7e9d",
    "source-id": "6d0a771f-c07c-4198-8407-a3a26ed2a3ae"
   },
   "source": [
    "### Problem 1 Tests:"
   ]
  },
  {
   "cell_type": "code",
   "execution_count": 24,
   "metadata": {
    "id": "b7cb8abb-96cd-4c3b-807a-45ac9be1c983",
    "source-id": "c1b16d4a-8370-47d0-acd3-6ebb88e78e18"
   },
   "outputs": [],
   "source": [
    "assert last_three_sports == ['curling', 'ping pong', 'hockey']"
   ]
  },
  {
   "cell_type": "markdown",
   "metadata": {
    "id": "76ab3e25-1259-487a-8fd5-6314f5906033",
    "source-id": "291f237f-492a-46d8-b8f6-2941c3772299"
   },
   "source": [
    "---\n",
    "## Problem 2\n",
    "\n",
    "Write code that combines the following variables so that the sentence `\"You are doing a great job, keep it up!\"` is assigned to the variable `message`. Do not edit the values assigned to `by`, `az`, `io`, or `qy`.\n",
    "\n",
    "*Note: you should use string concatenation for this. There are places where you will need to add spaces and commas*"
   ]
  },
  {
   "cell_type": "code",
   "execution_count": 25,
   "metadata": {
    "id": "1486b671-02cf-4eae-bad1-1d76e7de1ac9",
    "source-id": "5c7765ce-aa46-45d3-9229-d698efb2754f"
   },
   "outputs": [],
   "source": [
    "by = \"You are\"\n",
    "az = \"doing a great \"\n",
    "io = \"job\"\n",
    "qy = \"keep it up!\"\n",
    "\n",
    "message = by + \" \" + az + io + \", \" + qy"
   ]
  },
  {
   "cell_type": "markdown",
   "metadata": {
    "id": "cd6c9a1b-ce38-4dd0-812e-2dd7f61f8875",
    "source-id": "ee18ba20-a691-430b-a27a-5767a79f0d37"
   },
   "source": [
    "### Problem 2 Tests:"
   ]
  },
  {
   "cell_type": "code",
   "execution_count": 26,
   "metadata": {
    "id": "fb3bfa3b-84ba-4904-a874-85bb5c8f3864",
    "source-id": "d822e48d-ccb0-40ec-9487-5fc97a11640f"
   },
   "outputs": [],
   "source": [
    "assert (by, az, io, qy) == (\"You are\", \"doing a great \", \"job\", \"keep it up!\"), 'Do not change the values of by, az, io, or qy'\n",
    "assert message == \"You are doing a great job, keep it up!\""
   ]
  },
  {
   "cell_type": "markdown",
   "metadata": {
    "id": "a7826d3c-ddd4-4e7c-8462-88017c4123db",
    "source-id": "9c9dc65c-1128-44a0-a06e-27a4f12ea44a"
   },
   "source": [
    "---\n",
    "## Problem 3\n",
    "\n",
    "Write code to determine how many 9's are in the list `nums` and assign that value to the variable `how_many`. Do not use a `for` loop to do this."
   ]
  },
  {
   "cell_type": "code",
   "execution_count": 27,
   "metadata": {
    "id": "249629df-a051-497e-aebb-055be45b602e",
    "source-id": "09eafe4a-4c84-4e1f-8483-406c68daecbc"
   },
   "outputs": [],
   "source": [
    "nums = [4, 2, 23.4, 9, 545, 9, 1, 234.001, 5, 49, 8, 9 , 34, 52, 1, -2, 9.1, 4]\n",
    "\n",
    "how_many = nums.count(9)"
   ]
  },
  {
   "cell_type": "markdown",
   "metadata": {
    "id": "23b332bb-bcb4-48fe-8ad3-2e2f922c5fdd",
    "source-id": "753fb77b-fb65-4a28-861e-9aac2017cb78"
   },
   "source": [
    "### Problem 3 Tests:"
   ]
  },
  {
   "cell_type": "code",
   "execution_count": 28,
   "metadata": {
    "id": "e3a6815a-4ebb-42db-b98d-4c9a72d849ac",
    "source-id": "2a810dee-cef5-4e19-8584-5cedd584c98a"
   },
   "outputs": [],
   "source": [
    "assert how_many == 3"
   ]
  },
  {
   "cell_type": "markdown",
   "metadata": {
    "id": "2da93521-1661-4155-887b-fab43c06b77a",
    "source-id": "e33b60ab-ce63-4e09-83e6-c28a66263b62"
   },
   "source": [
    "---\n",
    "## Problem 4\n",
    "\n",
    "Assign the last element of `lst` to the variable `end_elem`. Do this so that it works no matter how long `lst` is."
   ]
  },
  {
   "cell_type": "code",
   "execution_count": 29,
   "metadata": {
    "id": "b0a65fcd-5ab4-4faa-a607-4b0389d115d9",
    "source-id": "e16dafde-e9cd-453f-a31b-a462f408ac89"
   },
   "outputs": [],
   "source": [
    "lst = [\"hi\", \"goodbye\", \"python\", \"106\", \"506\", 91, ['all', 'Paul', 'Jackie', \"UMSI\", 1, \"Stephen\", 4.5], 109, \"chair\", \"pizza\", \"wolverine\", 2017, 3.92, 1817, \"account\", \"readings\", \"papers\", 12, \"facebook\", \"twitter\", 193.2, \"snapchat\", \"leaders and the best\", \"social\", \"1986\", 9, 29, \"holiday\", [\"women\", \"olympics\", \"gold\", \"rio\", 21, \"2016\", \"men\"], \"26trombones\"]\n",
    "\n",
    "end_elem = lst[-1]"
   ]
  },
  {
   "cell_type": "markdown",
   "metadata": {
    "id": "a5d99145-4c48-4a44-a197-c35a8d876f23",
    "source-id": "3334cadd-8649-4740-9415-c1b03794b395"
   },
   "source": [
    "### Problem 4 Tests:"
   ]
  },
  {
   "cell_type": "code",
   "execution_count": 30,
   "metadata": {
    "id": "771dc629-a2f2-40c3-b888-65737d8ae415",
    "source-id": "45f1b5b5-2ad2-4c81-84f0-9f2875f68539"
   },
   "outputs": [],
   "source": [
    "assert end_elem == \"26trombones\""
   ]
  },
  {
   "cell_type": "markdown",
   "metadata": {
    "id": "f532e2ae-24df-458a-a458-c6dcdd520ade",
    "source-id": "4c2ec1ae-0b98-4a07-a786-95c53535af87"
   },
   "source": [
    "---\n",
    "## Problem 5\n",
    "\n",
    "Assign the number of elements in `nested_list` to the variable `nl_count`."
   ]
  },
  {
   "cell_type": "code",
   "execution_count": 31,
   "metadata": {
    "id": "5601b134-4411-4549-bc42-db898567ee88",
    "source-id": "0b25a4d8-d79d-4007-8690-d5d6caa5bf3b"
   },
   "outputs": [],
   "source": [
    "nested_list = [\"hi\", \"goodbye\", \"python\", \"106\", \"506\", 91, ['all', 'Paul', 'Jackie', \"UMSI\", 1, \"Stephen\", 4.5], 109, \"chair\", \"pizza\", \"wolverine\", 2017, 3.92, 1817, \"account\", \"readings\", \"papers\", 12, \"facebook\", \"twitter\", 193.2, \"snapchat\", \"leaders and the best\", \"social\", \"1986\", 9, 29, \"holiday\", [\"women\", \"olympics\", \"gold\", \"rio\", 21, \"2016\", \"men\"], \"26trombones\"]\n",
    "\n",
    "nl_count = len(nested_list)\n",
    "#or using loop:\n",
    "#nl_count = 0\n",
    "#for elem in nested_list:\n",
    "    #nl_count += 1"
   ]
  },
  {
   "cell_type": "markdown",
   "metadata": {
    "id": "2ce9aaf4-d37a-45f8-bfd4-24a2eed81b4d",
    "source-id": "31cc7e3c-de66-47ad-b1ac-f5ea092a2fbb"
   },
   "source": [
    "### Problem 5 Tests:"
   ]
  },
  {
   "cell_type": "code",
   "execution_count": 32,
   "metadata": {
    "id": "f05cec4f-1a86-472a-9ffc-0f8a018452c5",
    "source-id": "4c645fe7-0a69-44db-be3c-032435d53827"
   },
   "outputs": [],
   "source": [
    "assert nl_count == 30"
   ]
  },
  {
   "cell_type": "markdown",
   "metadata": {
    "id": "1d5c914d-c192-4dae-a142-3544359b6253",
    "source-id": "13147ec3-28ba-464a-b03e-ece4604fd3d7"
   },
   "source": [
    "---\n",
    "## Problem 6\n",
    "\n",
    "Create a variable called `wrds` and assign to it a list whose elements are the words in the string `sent`. Do not worry about punctuation."
   ]
  },
  {
   "cell_type": "code",
   "execution_count": 33,
   "metadata": {
    "id": "5b2ca866-23fe-4920-b150-e8ff83d07b7a",
    "source-id": "77aed586-199e-4afd-bd1c-cd4bf7016331"
   },
   "outputs": [],
   "source": [
    "sent = \"The bicentennial for our university was in 2017\"\n",
    "\n",
    "wrds = sent.split()"
   ]
  },
  {
   "cell_type": "markdown",
   "metadata": {
    "id": "2029306c-811b-45b2-9288-87a89203fd13",
    "source-id": "2dc888ff-7932-4df6-916d-0ba838a0d8bb"
   },
   "source": [
    "### Problem 6 Tests:"
   ]
  },
  {
   "cell_type": "code",
   "execution_count": 34,
   "metadata": {
    "id": "ec2a2f41-4aa9-43e4-8aaf-e4f2ec17b66d",
    "source-id": "e6a8fbdf-1579-4ce7-bd55-56a9b00d3d66"
   },
   "outputs": [],
   "source": [
    "assert wrds == ['The', 'bicentennial', 'for', 'our', 'university', 'was', 'in', '2017']"
   ]
  },
  {
   "cell_type": "markdown",
   "metadata": {
    "id": "5be986f5-ed1c-47bf-963e-38e7a86a36e1",
    "source-id": "382c75e5-c856-48c8-b271-dc70e786e4f1"
   },
   "source": [
    "---\n",
    "## Problem 7\n",
    "\n",
    "Write one for loop to print out each character of the string `my_str` on a separate line."
   ]
  },
  {
   "cell_type": "code",
   "execution_count": 35,
   "metadata": {
    "id": "fd4848fc-8851-4d56-bead-a08ae00cb7da",
    "source-id": "3d1e5015-f844-44ca-bfdc-bffa19b5feab"
   },
   "outputs": [
    {
     "name": "stdout",
     "output_type": "stream",
     "text": [
      "M\n",
      "I\n",
      "C\n",
      "H\n",
      "I\n",
      "G\n",
      "A\n",
      "N\n"
     ]
    }
   ],
   "source": [
    "my_str = \"MICHIGAN\"\n",
    "\n",
    "for char in my_str:\n",
    "    print(char)"
   ]
  },
  {
   "cell_type": "markdown",
   "metadata": {
    "id": "ee794009-6e76-4a9e-a918-ec0329040ef0",
    "source-id": "11276d60-521e-474f-9e2d-2049a87de697"
   },
   "source": [
    "---\n",
    "## Problem 8\n",
    "\n",
    "Write one for loop to print out each element of the list `several_things`. Then, write another for loop to print out the TYPE of each element of the list `several_things`. To complete this problem you should have written two different for loops, each of which iterates over the list `several_things`, but each of those 2 for loops should have a different result."
   ]
  },
  {
   "cell_type": "code",
   "execution_count": 36,
   "metadata": {
    "id": "4c7d3bdb-51b1-4bec-a8ea-e9a7f72d26e7",
    "source-id": "b8469b9e-0d2b-4718-aab7-ca169da7af96"
   },
   "outputs": [
    {
     "name": "stdout",
     "output_type": "stream",
     "text": [
      "hello\n",
      "2\n",
      "4\n",
      "6.0\n",
      "7.5\n",
      "234352354\n",
      "the end\n",
      "\n",
      "99\n",
      "<class 'str'>\n",
      "<class 'int'>\n",
      "<class 'int'>\n",
      "<class 'float'>\n",
      "<class 'float'>\n",
      "<class 'int'>\n",
      "<class 'str'>\n",
      "<class 'str'>\n",
      "<class 'int'>\n"
     ]
    }
   ],
   "source": [
    "several_things = [\"hello\", 2, 4, 6.0, 7.5, 234352354, \"the end\", \"\", 99]\n",
    "\n",
    "for elem in several_things:\n",
    "    print(elem)\n",
    "for elem in several_things:\n",
    "    print(type(elem))"
   ]
  },
  {
   "cell_type": "markdown",
   "metadata": {
    "id": "824214bd-28ac-4a84-8fdf-a64a7c8a2bb5",
    "source-id": "9550bdfe-abea-4a8b-8e3e-d15ec68d7bcc"
   },
   "source": [
    "---\n",
    "## Problem 9\n",
    "\n",
    "Write code that uses iteration to print out the length of each element of the list stored in `str_list`."
   ]
  },
  {
   "cell_type": "code",
   "execution_count": 37,
   "metadata": {
    "id": "d9477650-bfd3-42d9-bd3b-826fb4f21165",
    "source-id": "d3e03f58-d873-4301-baa7-c399142f48a4"
   },
   "outputs": [
    {
     "name": "stdout",
     "output_type": "stream",
     "text": [
      "5\n",
      "0\n",
      "7\n",
      "9\n",
      "13\n"
     ]
    }
   ],
   "source": [
    "str_list = [\"hello\", \"\", \"goodbye\", \"wonderful\", \"I love Python\"]\n",
    "\n",
    "for elem in str_list:\n",
    "    print(len(elem))"
   ]
  },
  {
   "cell_type": "markdown",
   "metadata": {
    "id": "4ee22bc0-fc6a-4f8c-ae35-965d10336b9a",
    "source-id": "28a35024-2e02-4a98-917c-275695116ca1"
   },
   "source": [
    "---\n",
    "## Problem 10\n",
    "\n",
    "Write code to count the number of characters in `original_str` using the accumulation pattern and assign the answer to a variable `num_chars`. Do **NOT** use the `len` function to solve the problem (if you use it while you are working on this problem, comment it out afterward!)"
   ]
  },
  {
   "cell_type": "code",
   "execution_count": 38,
   "metadata": {
    "id": "24e860a7-5d9b-4e5d-8f37-d8fb8f459909",
    "source-id": "618099f6-8b6f-4c51-a9a8-5ce15f3f507d"
   },
   "outputs": [],
   "source": [
    "original_str = \"The quick brown rhino jumped over the extremely lazy fox.\"\n",
    "\n",
    "num_chars = 0\n",
    "\n",
    "for char in original_str:\n",
    "    num_chars += 1"
   ]
  },
  {
   "cell_type": "markdown",
   "metadata": {
    "id": "bffe2104-d0af-4f1b-887e-c8e7dcdc1bdd",
    "source-id": "bc317eee-0e0b-4259-9ad3-3948f4037be4"
   },
   "source": [
    "### Problem 10 Tests:"
   ]
  },
  {
   "cell_type": "code",
   "execution_count": 39,
   "metadata": {
    "id": "c628fea5-fbad-4656-9076-c29c08f6c497",
    "source-id": "6ef717a5-760e-48c7-bbe8-122fddfe47ee"
   },
   "outputs": [],
   "source": [
    "assert num_chars == 57"
   ]
  },
  {
   "cell_type": "markdown",
   "metadata": {
    "id": "ee5353a5-6c7d-49cf-95a5-80acc396cead",
    "source-id": "f8360fc1-8e93-49b0-b4bd-45d92ddb170a"
   },
   "source": [
    "---\n",
    "## Problem 11\n",
    "\n",
    "`addition_str` is a string with a list of numbers separated by the `+` sign. Write code that uses the accumulation pattern to take the sum of all of the numbers and assigns it to `sum_val` (an integer). (You should use the `.split(\"+\")` method to split by `\"+\"` and `int()` to cast to an integer)."
   ]
  },
  {
   "cell_type": "code",
   "execution_count": 40,
   "metadata": {
    "id": "4f2583ef-23ce-42f8-9e47-e88fa2df32d2",
    "source-id": "fdb2d587-68bc-425e-a0e5-327fe68c6d3d"
   },
   "outputs": [],
   "source": [
    "addition_str = \"2+5+10+20\"\n",
    "\n",
    "addition_list = addition_str.split(\"+\")\n",
    "\n",
    "sum_val = 0\n",
    "\n",
    "for num in addition_list:\n",
    "    sum_val += int(num)"
   ]
  },
  {
   "cell_type": "markdown",
   "metadata": {
    "id": "1de81c9d-ab6c-4241-9743-9a37082b9888",
    "source-id": "67eff5d7-37eb-4e04-bd62-86228e16d54b"
   },
   "source": [
    "### Problem 11 Tests:"
   ]
  },
  {
   "cell_type": "code",
   "execution_count": 41,
   "metadata": {
    "id": "e929f72d-0c92-4735-8eb3-79b5799735e0",
    "source-id": "b3a6ff35-b2a7-42b0-aff1-112ae2237f19"
   },
   "outputs": [],
   "source": [
    "assert sum_val == 37"
   ]
  },
  {
   "cell_type": "markdown",
   "metadata": {
    "id": "684d0545-87a2-4a24-bc91-4e81857fe23e",
    "source-id": "2d8445c6-ea6c-4f00-807b-5418095a428e"
   },
   "source": [
    "---\n",
    "## Problem 12\n",
    "\n",
    "`week_temps_f` is a string with a list of fahrenheit temperatures separated by the `,` sign. Write code that uses the accumulation pattern to compute the average (sum divided by number of items) and assigns it to `avg_temp`. Do not hard code your answer (i.e., make your code compute both the sum or the number of items in `week_temps_f`) (You should use the `.split(\",\")` method to split by `\",\"` and `float()` to cast to a float)."
   ]
  },
  {
   "cell_type": "code",
   "execution_count": 42,
   "metadata": {
    "id": "1213f922-31ad-4042-a069-9b36542499c1",
    "source-id": "240902aa-cb52-43ca-acdd-dc7b9a8e781a"
   },
   "outputs": [],
   "source": [
    "week_temps_f = \"75.1,77.7,83.2,82.5,81.0,79.5,85.7\"\n",
    "\n",
    "f_temps_list = week_temps_f.split(\",\")\n",
    "\n",
    "sum_temp = 0\n",
    "\n",
    "for temp in f_temps_list:\n",
    "    sum_temp += float(temp)\n",
    "avg_temp = sum_temp/len(f_temps_list)\n",
    "#I could also used another accumulation pattern to count the number of temperatures in the list, instead of using the len() function"
   ]
  },
  {
   "cell_type": "markdown",
   "metadata": {
    "id": "53065956-fc52-4b68-ae05-fd82e22a6853",
    "source-id": "aa1c5ac9-82d3-4a6e-ac7e-f72f71e4dd7e"
   },
   "source": [
    "### Problem 12 Tests:"
   ]
  },
  {
   "cell_type": "code",
   "execution_count": 43,
   "metadata": {
    "id": "a58748e1-1562-4f7c-a7ec-a18e87acf901",
    "source-id": "d39f5a90-2adb-4896-a30c-ccc86889210f"
   },
   "outputs": [],
   "source": [
    "assert (avg_temp > 80.670) and (avg_temp < 80.672)"
   ]
  },
  {
   "cell_type": "markdown",
   "metadata": {
    "id": "fc6cb0ee-d4ea-4ba3-a0b0-ec585faf633b",
    "source-id": "7b4eb2b1-4643-4bec-8940-7db944f56c8d"
   },
   "source": [
    "---\n",
    "## Problem 13 (Demonstrate Your Understanding)\n",
    "\n",
    "Write code and/or a Python comment that demonstrates your understanding of the material in this problem set. This assignment requires effort and demonstration of true understanding and will be evaluated carefully (this does not mean it needs to be long, just clear and accurate. In fact, it should be brief; ideally just 2-3 sentences)."
   ]
  },
  {
   "cell_type": "code",
   "execution_count": null,
   "metadata": {
    "id": "e5fd8474-c6ad-4db9-90aa-96a56e52d063",
    "source-id": "f7f40863-59bb-4f70-9ae1-10b36ca16fde"
   },
   "outputs": [],
   "source": [
    "#-----\n",
    "#Topics:\n",
    "#-Sequences\n",
    "#-Iteration and the Accumulator Pattern\n",
    "#-----\n",
    "#I created an interactive mad-libs story template:\n",
    "\n",
    "gaps = [\"adjective\", \"noun\", \"adverb\", \"adjective\", \"noun\", \"noun\", \"adjective\", \"verb, present simple\", \"adverb\", \"verb, past simple\", \"adjective\"]\n",
    "filled = []\n",
    "accum = len(gaps)\n",
    "for gap in gaps:\n",
    "    task = input(\"Fill in a(n) \" + gap + \" (\" + str(accum) + \" action(s) left): \")\n",
    "    filled += [str(task)]\n",
    "    accum -= 1\n",
    "\n",
    "print(\"Today I went to the zoo. I saw a(n) \" + filled[0] + \" \" + filled[1] + \" jumping up and down in a tree. (S)he ran \" + filled[2] + \" through the large tunnel that led to a \" + filled[3] + \" \" + filled[4] + \" . I got some peanuts and passed them through the cage to a gigantic gray \" + filled[5] + \" towering above my head. Feeding that animal made me hungry. I went to get a \" + filled[6] + \" scoop of ice cream. It filled my stomach. Afterwards I had to \" + filled[7] + \" \" + filled[8] + \" to catch our bus. When I got home I \" + filled[9] + \" my mom for a \" + filled[10] + \" day at the zoo.\")"
   ]
  },
  {
   "cell_type": "markdown",
   "metadata": {
    "id": "a6322c71-934c-4a9f-acbf-b1cdf0e51c72",
    "source-id": "07df0bde-7597-4ae7-8e0c-1498523c309a"
   },
   "source": [
    "---\n",
    "## Problem 14 (Look Ahead to Conditionals)"
   ]
  },
  {
   "cell_type": "markdown",
   "metadata": {
    "id": "081ad05e-157e-42d2-98d0-dfe7180dca3a",
    "source-id": "d565f948-6ed1-4370-aaf3-a6f1457d493e"
   },
   "source": [
    "What is a boolean? What values can a boolean have?"
   ]
  },
  {
   "cell_type": "markdown",
   "metadata": {
    "id": "9a30267d-8605-4137-b5ce-b0f52cc78424",
    "source-id": "dfa848d6-528e-4f73-8283-2198a15f47e0"
   },
   "source": [
    "*The \"bool\" is another data type used in Python, which has one of the two possible boolean values True and False.*"
   ]
  },
  {
   "cell_type": "markdown",
   "metadata": {
    "id": "b02cb45d-4451-4267-a7d1-c99c4f454fa3",
    "source-id": "183bbfbf-9ce2-44ba-b050-2995b4fb9e8c"
   },
   "source": [
    "---\n",
    "## Problem 15 (Look Ahead to Conditionals)\n",
    "What is a conditional? What is the relationship between a conditional and a boolean?"
   ]
  },
  {
   "cell_type": "markdown",
   "metadata": {
    "id": "a07d596f-e389-4b94-b283-86abb20e8cae",
    "source-id": "7b8abc35-cdeb-4f06-bf98-1fd2426c60f6"
   },
   "source": [
    "*Conditional takes boolean into account and executes (or doesn't) a specific code based on the boolean's value.*"
   ]
  },
  {
   "cell_type": "markdown",
   "metadata": {
    "id": "360633c0-1977-4bba-97a1-d8e5ac9ff184",
    "source-id": "cfac7e90-d517-42cf-a133-3e152b0a70a0"
   },
   "source": [
    "---\n",
    "## Problem 16 (Look Ahead to Conditionals)\n",
    "\n",
    "In plain English, explain what the following code does:"
   ]
  },
  {
   "cell_type": "code",
   "execution_count": null,
   "metadata": {
    "id": "3849c66d-ae80-450f-a853-09e46beaa8b5",
    "source-id": "49305f2c-8375-41d2-9a4a-223861f00c39"
   },
   "outputs": [],
   "source": [
    "user_inp = int(input(\"Enter an integer:\"))\n",
    "\n",
    "if user_inp % 2 == 0:\n",
    "    print(user_inp, \"is even\")\n",
    "else:\n",
    "    print(user_inp, \"is odd\")"
   ]
  },
  {
   "cell_type": "markdown",
   "metadata": {
    "id": "ed161d18-99f9-4eb1-943f-b4acd06495bf",
    "source-id": "fb420d77-7c61-4ef9-b3ee-b635f109468f"
   },
   "source": [
    "*It asks user for an integer number input and prints whether it's even or odd, using modulo operator and conditional.*"
   ]
  },
  {
   "cell_type": "markdown",
   "metadata": {
    "id": "f5b95feb-c9a7-49d9-a737-b2f3c20b498c",
    "source-id": "0fcce589-7066-42a3-90e9-6c1ca7b906c6"
   },
   "source": [
    "---\n",
    "## Problem 17 (Look Ahead to Mutation)\n",
    "\n",
    "In the code below, `L2` and `L3` end up with the same value (`[1, 2, 3, 4, 5]`) in different ways.\n",
    "\n",
    "Explain the difference between how `L2` is assigned compared to how `L3` is assigned.\n",
    "\n",
    "After this code runs, the value of `L` is **not** `[1, 2, 3]`. Why not?"
   ]
  },
  {
   "cell_type": "code",
   "execution_count": null,
   "metadata": {
    "id": "49495400-c5bd-4047-9426-1e4c296b373b",
    "source-id": "3c4acd5e-8b5e-4a9c-95c8-e9090a97d9a4"
   },
   "outputs": [],
   "source": [
    "L  = [1,2,3]\n",
    "L2 = L + [4, 5]\n",
    "\n",
    "L3 = L\n",
    "L3.append(4)\n",
    "L3.append(5)\n",
    "\n",
    "print('L:  ', L)\n",
    "print('L2: ', L2)\n",
    "print('L3: ', L3)"
   ]
  },
  {
   "cell_type": "markdown",
   "metadata": {
    "id": "532b4503-ecec-451d-b677-3957a4c00136",
    "source-id": "c140a4dd-99d2-42b6-85c1-8c59befc98a9"
   },
   "source": [
    "*L2 creates a new list without modifying the original L. L3 uses append, which simply modifies the list (in this case the L list, as these two are aliased = use the same object, in this case the list [1,2,3]). Variable L is not [1,2,3], because it is assigned to the same object as L3, the list is aliased and changes made with one alias (L3) affect the other (L).*"
   ]
  },
  {
   "cell_type": "markdown",
   "metadata": {
    "id": "77b755f2-5cdd-4f67-809d-525f7e44735c",
    "source-id": "b59f4fad-af3b-4b91-9f45-f5e961338c60"
   },
   "source": [
    "---\n",
    "---\n",
    "## Collaborators and Sources of Help\n",
    "In this markdown cell, list names of any people you worked with or got help from, and provide links to or descriptions of any external resources you consulted."
   ]
  },
  {
   "cell_type": "markdown",
   "metadata": {
    "id": "f1e07c4b-83b1-4c32-9b82-6990d01225d9",
    "source-id": "42f8f19a-2da2-44a5-9db3-b360b31018aa"
   },
   "source": [
    "*Idea for mad-libs: https://www.upgrad.com/blog/python-projects-ideas-topics-beginners/#4_Dice_Rolling_Simulator\n",
    "Story from: https://irp-cdn.multiscreensite.com/ec2b0ab8/files/uploaded/Mad%20Libs.pdf*"
   ]
  },
  {
   "cell_type": "markdown",
   "metadata": {
    "id": "fcc785df-b204-4450-806c-47dab1b024f9",
    "source-id": "998e8e4f-d672-4c5b-b383-9699d4ca5109"
   },
   "source": [
    "## Upload your solutions to Canvas\n",
    "\n",
    "Upload your .ipynb file to Canvas.\n",
    "\n",
    "*Note: You may submit any number of times before the deadline*"
   ]
  },
  {
   "cell_type": "markdown",
   "metadata": {
    "id": "a71543ce-1171-41b1-816a-273b80843fac",
    "source-id": "ad9b7d01-b904-486f-a51f-b674e01c3d16"
   },
   "source": [
    "\n",
    "    MMMMMMMMMMMMMMMMMMMMMMMMMMMMMMMMMMMMMMMMMMMMMMMMMMMMMMMMMMMM\n",
    "    MMMMMMMMMMMMMMMMMMMMMMMMMMMMMMMMMMMMMMMMMMMMMMMMMMMMMMMMMMMM\n",
    "    MMMMMMMMMMMMMMMMMMMMMMMMMMMMMMMMMMMMMMMMMMMMMMMMMMMMMMMMMMMM\n",
    "    MMMMMMMMMMMMMMMMMMMMMMMMMMMMMMMMMMMMMMMMMMMMMMMMMMMMMMMMMMMM\n",
    "    MMMMMMMM             MMMMMMMMMMMMMMMMM             MMMMMMMMM\n",
    "    MMMMMMMM              MMMMMMMMMMMMMMM              MMMMMMMMM\n",
    "    MMMMMMMM                MMMMMMMMMMM                MMMMMMMMM\n",
    "    MMMMMMMM                 MMMMMMMMM                 MMMMMMMMM\n",
    "    MMMMMMMM                  MMMMMMM                  MMMMMMMMM\n",
    "    MMMMMMMMMMMM               MMMMM                MMMMMMMMMMMM\n",
    "    MMMMMMMMMMMM                MMM                 MMMMMMMMMMMM\n",
    "    MMMMMMMMMMMM                 V                  MMMMMMMMMMMM\n",
    "    MMMMMMMMMMMM                                    MMMMMMMMMMMM\n",
    "    MMMMMMMMMMMM         ^               ^          MMMMMMMMMMMM\n",
    "    MMMMMMMMMMMM         MM             MM          MMMMMMMMMMMM\n",
    "    MMMMMMMMMMMM         MMMM         MMMM          MMMMMMMMMMMM\n",
    "    MMMMMMMMMMMM         MMMMM       MMMMM          MMMMMMMMMMMM\n",
    "    MMMMMMMMMMMM         MMMMMM     MMMMMM          MMMMMMMMMMMM\n",
    "    MMMMMMMM                MMMM   MMMM                MMMMMMMMM\n",
    "    MMMMMMMM                MMMMMVMMMMM                MMMMMMMMM\n",
    "    MMMMMMMM                MMMMMMMMMMM                MMMMMMMMM\n",
    "    MMMMMMMM                MMMMMMMMMMM                MMMMMMMMM\n",
    "    MMMMMMMM                MMMMMMMMMMM                MMMMMMMMM\n",
    "    MMMMMMMMMMMMMMMMMMMMMMMMMMMMMMMMMMMMMMMMMMMMMMMMMMMMMMMMMMMM\n",
    "    MMMMMMMMMMMMMMMMMMMMMMMMMMMMMMMMMMMMMMMMMMMMMMMMMMMMMMMMMMMM\n",
    "    MMMMMMMMMMMMMMMMMMMMMMMMMMMMMMMMMMMMMMMMMMMMMMMMMMMMMMMMMMMM\n",
    "    MMMMMMMMMMMMMMMMMMMMMMMMMMMMMMMMMMMMMMMMMMMMMMMMMMMMMMMMMMMM\n",
    "    MMMMMMMMMMMMMMMMMMMMMMMMMMMMMMMMMMMMMMMMMMMMMMMMMMMMMMMMMMMM  "
   ]
  }
 ],
 "metadata": {
  "exam_gen_problems": [
   "943b56d6-9892-4c3f-8cac-97d3d8373358",
   "85d8da70-e17f-4174-9c0c-28aa4ca6653c",
   "291f237f-492a-46d8-b8f6-2941c3772299",
   "9c9dc65c-1128-44a0-a06e-27a4f12ea44a",
   "e33b60ab-ce63-4e09-83e6-c28a66263b62",
   "4c2ec1ae-0b98-4a07-a786-95c53535af87",
   "13147ec3-28ba-464a-b03e-ece4604fd3d7",
   "382c75e5-c856-48c8-b271-dc70e786e4f1",
   "11276d60-521e-474f-9e2d-2049a87de697",
   "9550bdfe-abea-4a8b-8e3e-d15ec68d7bcc",
   "28a35024-2e02-4a98-917c-275695116ca1",
   "f8360fc1-8e93-49b0-b4bd-45d92ddb170a",
   "2d8445c6-ea6c-4f00-807b-5418095a428e",
   "7b4eb2b1-4643-4bec-8940-7db944f56c8d",
   "07df0bde-7597-4ae7-8e0c-1498523c309a",
   "183bbfbf-9ce2-44ba-b050-2995b4fb9e8c",
   "cfac7e90-d517-42cf-a133-3e152b0a70a0",
   "0fcce589-7066-42a3-90e9-6c1ca7b906c6",
   "b59f4fad-af3b-4b91-9f45-f5e961338c60"
  ],
  "kernelspec": {
   "display_name": "Python 3",
   "language": "python",
   "name": "python3"
  },
  "language_info": {
   "codemirror_mode": {
    "name": "ipython",
    "version": 3
   },
   "file_extension": ".py",
   "mimetype": "text/x-python",
   "name": "python",
   "nbconvert_exporter": "python",
   "pygments_lexer": "ipython3",
   "version": "3.8.5"
  }
 },
 "nbformat": 4,
 "nbformat_minor": 4
}
