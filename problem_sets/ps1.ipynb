{
 "cells": [
  {
   "cell_type": "markdown",
   "metadata": {
    "id": "bc7e002a-3393-4e79-9191-63726c0c0833",
    "source-id": "7ba970d8-9ecc-4f4b-8153-242f5b1de9ab"
   },
   "source": [
    "# SI 106 Problem Set 1\n",
    "\n",
    "Primary Topics:\n",
    "- Variables, Statements, and Expressions\n",
    "- Debugging & Modules\n",
    "\n",
    "Lookahead Topics:\n",
    "- Sequences\n",
    "- Iteration and the Accumulator Pattern\n",
    "\n",
    "---\n",
    "---"
   ]
  },
  {
   "cell_type": "markdown",
   "metadata": {
    "id": "dc8b8c7b-a5b4-4bc7-8086-5865e29ea546",
    "source-id": "d42a4f6f-a253-4f53-8921-eae0aeb0a0dc"
   },
   "source": [
    "---\n",
    "## Problem 1\n",
    "\n",
    "Write code to print out the phrase `\"this is my first problem set!\"`.\n",
    "\n",
    "Note: your code **must** print this out by calling the `print()` function."
   ]
  },
  {
   "cell_type": "code",
   "execution_count": 51,
   "metadata": {
    "id": "cfdabc20-88c3-401c-ab00-47e805260536",
    "source-id": "26c6eec6-3c97-46e6-a526-bf160e8a8031"
   },
   "outputs": [
    {
     "name": "stdout",
     "output_type": "stream",
     "text": [
      "this is my first problem set!\n"
     ]
    }
   ],
   "source": [
    "print(\"this is my first problem set!\")"
   ]
  },
  {
   "cell_type": "markdown",
   "metadata": {
    "id": "6e777763-25ec-44c6-8eff-e1b715d27638",
    "source-id": "875bcad7-fca4-4b9c-9b9c-f6bd531eec0f"
   },
   "source": [
    "---\n",
    "## Problem 2\n",
    "Write code to assign the variable `course_num` to the value `106` (an integer)."
   ]
  },
  {
   "cell_type": "code",
   "execution_count": 52,
   "metadata": {
    "id": "3242badf-e1f8-4b5d-9e0f-703d6bf04e43",
    "source-id": "8e0c590f-e308-4577-9ca2-04d3cabe4b36"
   },
   "outputs": [],
   "source": [
    "course_num = 106"
   ]
  },
  {
   "cell_type": "markdown",
   "metadata": {
    "id": "9a5b0b57-e3a2-4a42-82f2-d3be36ba3b85",
    "source-id": "86da1cb0-3c0c-4312-8bc7-755478377d40"
   },
   "source": [
    "### Problem 2 Tests:"
   ]
  },
  {
   "cell_type": "code",
   "execution_count": 53,
   "metadata": {
    "id": "a9c11479-b104-4983-bb5f-9e05ec25aeaa",
    "source-id": "a247ee08-b2c9-4beb-8a37-7a3253e49006"
   },
   "outputs": [],
   "source": [
    "assert course_num == 106, 'course_num should be assigned to the integer 106'"
   ]
  },
  {
   "cell_type": "markdown",
   "metadata": {
    "id": "027523cc-cd78-46ea-a803-74e589415a79",
    "source-id": "487366e3-8a47-4546-a3cb-341582f11f8c"
   },
   "source": [
    "---\n",
    "## Problem 3\n",
    "\n",
    "The following code is supposed to ask the user to enter a temperature in Fahrenheit (using the `input()` function) and convert the temperature to Celsius using the formula:\n",
    "\n",
    "$C^{\\circ} = \\frac{5(F^{\\circ} - 32)}{9}$\n",
    "\n",
    "For example, if the user enters `75.2`, the output should be:\n",
    "\n",
    "```text\n",
    "Enter a temperature in Fahrenheit: 75.2\n",
    "\n",
    "75.2 Fahrenheit is 24.0 degrees Celsius\n",
    "```\n",
    "\n",
    "if the user enters `55`, the output should be:\n",
    "\n",
    "```text\n",
    "Enter a temperature in Fahrenheit: 55\n",
    "\n",
    "55 Fahrenheit is 12.777777777777779 degrees Celsius\n",
    "```\n",
    "\n",
    "However, it doesn't work. Fix it with a small code modification."
   ]
  },
  {
   "cell_type": "code",
   "execution_count": 55,
   "metadata": {
    "id": "86b9a8ea-58bc-4175-8637-c25574c0873d",
    "source-id": "d8b4a5df-1ef7-4b68-ac0f-792c025393de"
   },
   "outputs": [
    {
     "name": "stdout",
     "output_type": "stream",
     "text": [
      "Enter a temperature in Fahrenheit: 55\n",
      "55 Fahrenheit is 12.777777777777779 degrees Celsius\n"
     ]
    }
   ],
   "source": [
    "temp_f = input('Enter a temperature in Fahrenheit: ') # For example: 75.2\n",
    "\n",
    "temp_c = 5*(int(temp_f)-32)/9\n",
    "\n",
    "print(str(temp_f) + ' Fahrenheit is ' + str(temp_c) + ' degrees Celsius')"
   ]
  },
  {
   "cell_type": "markdown",
   "metadata": {
    "id": "a4f0a8da-c8af-4dea-9301-9a16268f3a50",
    "source-id": "cde79192-ec1e-4f70-b19c-7a7c7c5e28a9"
   },
   "source": [
    "---\n",
    "## Problem 4\n",
    "\n",
    "Write a piece of code that has a **syntax** error below.\n",
    "\n",
    "*Note: this means that trying to run your code should produce an error*"
   ]
  },
  {
   "cell_type": "code",
   "execution_count": 56,
   "metadata": {
    "id": "77912d05-a776-4473-9600-b993d17fd0d2",
    "source-id": "c5f9a328-9116-4353-a226-8f704fc324a6"
   },
   "outputs": [
    {
     "ename": "SyntaxError",
     "evalue": "unexpected EOF while parsing (<ipython-input-56-9b89f8ae8c12>, line 1)",
     "output_type": "error",
     "traceback": [
      "\u001b[1;36m  File \u001b[1;32m\"<ipython-input-56-9b89f8ae8c12>\"\u001b[1;36m, line \u001b[1;32m1\u001b[0m\n\u001b[1;33m    total = (5 + 4\u001b[0m\n\u001b[1;37m                  ^\u001b[0m\n\u001b[1;31mSyntaxError\u001b[0m\u001b[1;31m:\u001b[0m unexpected EOF while parsing\n"
     ]
    }
   ],
   "source": [
    "total = (5 + 4"
   ]
  },
  {
   "cell_type": "markdown",
   "metadata": {
    "id": "2bf51dce-713a-4a6d-804c-e68035ca4f52",
    "source-id": "5e4ef660-bd20-4c87-862a-823a53ed5b91"
   },
   "source": [
    "---\n",
    "## Problem 5\n",
    "\n",
    "Write a piece of code that has a **runtime** error below.\n",
    "\n",
    "*Note: this means that trying to run your code should produce an error*"
   ]
  },
  {
   "cell_type": "code",
   "execution_count": 57,
   "metadata": {
    "id": "66b48f0d-f3d2-4ab8-84ab-46f0146cbb1d",
    "source-id": "68511e94-7603-4a09-94ff-a506d38bc05d"
   },
   "outputs": [
    {
     "ename": "NameError",
     "evalue": "name 'x' is not defined",
     "output_type": "error",
     "traceback": [
      "\u001b[1;31m---------------------------------------------------------------------------\u001b[0m",
      "\u001b[1;31mNameError\u001b[0m                                 Traceback (most recent call last)",
      "\u001b[1;32m<ipython-input-57-2d25c2ef041b>\u001b[0m in \u001b[0;36m<module>\u001b[1;34m\u001b[0m\n\u001b[1;32m----> 1\u001b[1;33m \u001b[0mx\u001b[0m \u001b[1;33m=\u001b[0m \u001b[0mx\u001b[0m \u001b[1;33m+\u001b[0m \u001b[1;36m1\u001b[0m\u001b[1;33m\u001b[0m\u001b[1;33m\u001b[0m\u001b[0m\n\u001b[0m",
      "\u001b[1;31mNameError\u001b[0m: name 'x' is not defined"
     ]
    }
   ],
   "source": [
    "x = x + 1"
   ]
  },
  {
   "cell_type": "markdown",
   "metadata": {
    "id": "5019d214-2750-4cb0-8074-35d0c5520dab",
    "source-id": "a33c81cb-1873-4cfa-be58-66973aeacb39"
   },
   "source": [
    "---\n",
    "## Problem 6\n",
    "\n",
    "In your own words (three or fewer sentences), explain the difference between a syntax error and a runtime error."
   ]
  },
  {
   "cell_type": "markdown",
   "metadata": {
    "id": "873c6337-aea6-42ab-b09b-365174021215",
    "source-id": "f931bfb2-0f64-4cfc-8f8f-c92d892e923b"
   },
   "source": [
    "Syntax error appears, when you break the rules of the program's structure - an example could be forgetting to enclose strings in quotes. Runtime error can only happen when program starts to execute (meaning it passed syntax check; program with syntax error won't execute) and example could be trying to divide by zero."
   ]
  },
  {
   "cell_type": "markdown",
   "metadata": {
    "id": "2fcf1d71-a674-4b97-ae5e-a39424b2748c",
    "source-id": "4a2df8f6-b39d-4563-8ce2-3a561285ab13"
   },
   "source": [
    "---\n",
    "## Problem 7\n",
    "\n",
    "In your own words (two or fewere sentences), describe what a semantic error is. Then, give an example of a semantic error."
   ]
  },
  {
   "cell_type": "markdown",
   "metadata": {
    "id": "60c7ace7-41fe-437c-bd4d-01307e164296",
    "source-id": "0426b73d-b2cd-4768-9ccb-181aa5d5d1af"
   },
   "source": [
    "Program will run successfully, but will not perform exactly what the programmer intented. It will do what you told it, but not what you intended = logic error."
   ]
  },
  {
   "cell_type": "markdown",
   "metadata": {
    "id": "7d894c65-fe1b-470f-be27-cfc20f74118a",
    "source-id": "00eb47b8-961d-4423-b247-b7b222b8456d"
   },
   "source": [
    "---\n",
    "## Problem 8\n",
    "\n",
    "Write code that imports the `random` module and uses it to print a random number between `1` and `100` (your code should include `1` and `100` as possible values). Note: your code should generate and print a new random number every time you run it."
   ]
  },
  {
   "cell_type": "code",
   "execution_count": 61,
   "metadata": {
    "id": "4d2a591c-a864-436f-a04b-f243c9abddc6",
    "source-id": "d7f0f706-1572-4cd9-847b-0e60e7c3fdc9"
   },
   "outputs": [
    {
     "name": "stdout",
     "output_type": "stream",
     "text": [
      "92\n"
     ]
    }
   ],
   "source": [
    "import random\n",
    "?random.randint\n",
    "#\"Return random integer in range [a, b], including both end points.\", therefore (1,100)\n",
    "randomizer = random.randint(1, 100)\n",
    "print(randomizer)"
   ]
  },
  {
   "cell_type": "markdown",
   "metadata": {
    "id": "85cecb7e-0a2f-4ad6-b95c-0333ae9d08c4",
    "source-id": "e2d22e56-77b6-4ccc-8521-d6ccae51e834"
   },
   "source": [
    "---\n",
    "## Problem 9 (Demonstrate Your Understanding)\n",
    "\n",
    "Write code and/or a Python comment that demonstrates your understanding of the material in this problem set. This assignment requires effort and demonstration of true understanding and will be evaluated carefully (this does not mean it needs to be long, just clear and accurate. In fact, it should be brief; ideally just 2-3 sentences)."
   ]
  },
  {
   "cell_type": "code",
   "execution_count": 62,
   "metadata": {
    "id": "d6cfd6e4-36d8-4e65-a6b9-6bbbc16e8004",
    "source-id": "60f7b023-156c-49ec-86b9-e9e15db6d3ff"
   },
   "outputs": [
    {
     "name": "stdout",
     "output_type": "stream",
     "text": [
      "Choose your PIN length: 6\n",
      "Your random PIN is: 151562\n"
     ]
    }
   ],
   "source": [
    "#I built a basic PIN generator using import function, loop, different types, input,..:\n",
    "import random\n",
    "number = input(\"Choose your PIN length: \")\n",
    "length = int(number)\n",
    "password = \"\"\n",
    "#Using some knowledge of iteration from the practice tool:\n",
    "for _ in range(int(length)):\n",
    "    randomnumber=str(random.randint(0,9))\n",
    "    password = password + randomnumber\n",
    "print(\"Your random PIN is:\",password)"
   ]
  },
  {
   "cell_type": "markdown",
   "metadata": {
    "id": "9c10b8b2-fe49-4b30-8955-a2dc25327bf6",
    "source-id": "b3fe6d72-be55-4bd2-8772-b5bee29fdf78"
   },
   "source": [
    "---\n",
    "\n",
    "## Problem 10 (Look Ahead to Sequences)\n",
    "Note: these questions are basic questions on things that we are covering next week. They **are** graded parts of the problem set."
   ]
  },
  {
   "cell_type": "markdown",
   "metadata": {
    "id": "357eaf23-4b09-4a08-ba62-19ee185f9a47",
    "source-id": "65ddac3d-49e4-404c-8131-ab05fe4be11e"
   },
   "source": [
    "Write code that assigns the number of characters in the string `school` to the variable `school_char_count`.\n",
    "\n",
    "*Note: spaces and punctuation count as characters.*"
   ]
  },
  {
   "cell_type": "code",
   "execution_count": 63,
   "metadata": {
    "id": "70e16431-deb1-4a8c-a2e0-fa43f088ee7b",
    "source-id": "d8a47a45-46b2-48a6-ac8d-d18756b60d3c"
   },
   "outputs": [],
   "source": [
    "school = \"The University of Michigan\"\n",
    "\n",
    "school_char_count = len(school)"
   ]
  },
  {
   "cell_type": "markdown",
   "metadata": {
    "id": "d5f2f76a-7106-41e3-8d57-9873573db6d6",
    "source-id": "061a0bb5-b110-403c-be53-7e2391d4343f"
   },
   "source": [
    "### Problem 10 Tests:"
   ]
  },
  {
   "cell_type": "code",
   "execution_count": 64,
   "metadata": {
    "id": "673715ab-a8ed-43e0-9d6e-832d7dad6979",
    "source-id": "6821898f-aa41-421e-8e9d-6445ddb3ee70"
   },
   "outputs": [],
   "source": [
    "assert school_char_count == 26, \"'The University of Michigan' has 26 characters\""
   ]
  },
  {
   "cell_type": "markdown",
   "metadata": {
    "id": "698355d9-3348-4b5e-afb5-f0c92d40ccdb",
    "source-id": "52c8ed96-98b2-4a26-9ace-375a07548da9"
   },
   "source": [
    "---\n",
    "## Problem 11 (Look Ahead to Sequences)\n",
    "\n",
    "Define a list named `four_item_list` that has four items. It doesn't matter what these four items are, as long as there are four items."
   ]
  },
  {
   "cell_type": "code",
   "execution_count": 65,
   "metadata": {
    "id": "bebe46dd-c968-4abd-bc23-0ef61869e37e",
    "source-id": "81c802e5-e2c7-41eb-9adc-55e730746086"
   },
   "outputs": [],
   "source": [
    "four_item_list = [20.5, \"apple\", \" \", 5]"
   ]
  },
  {
   "cell_type": "markdown",
   "metadata": {
    "id": "06e8beb5-8432-4198-8dd2-987d9d15d303",
    "source-id": "bfc347bf-f2c6-44bd-ac09-7405b4cee9fa"
   },
   "source": [
    "### Problem 11 Tests:"
   ]
  },
  {
   "cell_type": "code",
   "execution_count": 66,
   "metadata": {
    "id": "419c4bda-a3eb-421a-8f33-5b69fbf0ad0b",
    "source-id": "10a15c74-5a85-4ea4-8aa2-b53b38a3ab47"
   },
   "outputs": [],
   "source": [
    "assert len(four_item_list) == 4, 'four_item_list should have four items'\n",
    "assert type(four_item_list) == type([]), 'four_item_list should be a list'"
   ]
  },
  {
   "cell_type": "markdown",
   "metadata": {
    "id": "b9482bd3-5f2b-458f-b41b-a0dbef542662",
    "source-id": "a6576a44-3208-4fef-a115-269ef2b141a2"
   },
   "source": [
    "---\n",
    "## Problem 12 (Look Ahead to Iteration)\n",
    "\n",
    "Describe what the following code does in plain English (3 sentences or fewer)."
   ]
  },
  {
   "cell_type": "code",
   "execution_count": null,
   "metadata": {
    "id": "3e4493d2-4c18-4d30-a7a1-f82bbbc72508",
    "source-id": "a2e81e75-c232-44b8-a348-ce64a9e6dcf9"
   },
   "outputs": [],
   "source": [
    "for achar in \"Go Spot Go\":\n",
    "    print(achar)"
   ]
  },
  {
   "cell_type": "markdown",
   "metadata": {
    "id": "10709253-580c-4c40-bfd4-7340b621d0e3",
    "source-id": "85920e2b-2926-4e50-b446-ba78e38e7182"
   },
   "source": [
    "It prints every single character in the \"Go Spot Go\" string, one by one (spaces included), using the loop variable achar. The loop (in this case the print function) is performed one time for each character in the string."
   ]
  },
  {
   "cell_type": "markdown",
   "metadata": {
    "id": "cc8f6b72-3bd7-41bf-9bbb-86ae986a57da",
    "source-id": "5188098b-9431-4c5f-bb1f-666123cee624"
   },
   "source": [
    "---\n",
    "---\n",
    "## Collaborators and Sources of Help\n",
    "In this markdown cell, list names of any people you worked with or got help from, and provide links to or descriptions of any external resources you consulted."
   ]
  },
  {
   "cell_type": "markdown",
   "metadata": {
    "id": "51f6a1e6-f310-4f4a-90e1-c43e8dfdccd3",
    "source-id": "ec6efe30-b452-4c6b-9084-77efe17d3aab"
   },
   "source": [
    "- List your collaborators here"
   ]
  },
  {
   "cell_type": "markdown",
   "metadata": {
    "id": "3eb096e3-cb9b-40c5-86b3-358f77842d1c",
    "source-id": "4f72ea97-083a-4287-99a7-906c5592dec4"
   },
   "source": [
    "## Upload your solutions to Canvas\n",
    "\n",
    "Upload your .ipynb file to Canvas.\n",
    "\n",
    "*Note: You may submit any number of times before the deadline*"
   ]
  },
  {
   "cell_type": "markdown",
   "metadata": {
    "id": "81753a3d-5b23-40d5-9c7c-f7e314e9755f",
    "source-id": "b9923865-327a-4161-b59b-56d5ea0525fe"
   },
   "source": [
    "\n",
    "    MMMMMMMMMMMMMMMMMMMMMMMMMMMMMMMMMMMMMMMMMMMMMMMMMMMMMMMMMMMM\n",
    "    MMMMMMMMMMMMMMMMMMMMMMMMMMMMMMMMMMMMMMMMMMMMMMMMMMMMMMMMMMMM\n",
    "    MMMMMMMMMMMMMMMMMMMMMMMMMMMMMMMMMMMMMMMMMMMMMMMMMMMMMMMMMMMM\n",
    "    MMMMMMMMMMMMMMMMMMMMMMMMMMMMMMMMMMMMMMMMMMMMMMMMMMMMMMMMMMMM\n",
    "    MMMMMMMM             MMMMMMMMMMMMMMMMM             MMMMMMMMM\n",
    "    MMMMMMMM              MMMMMMMMMMMMMMM              MMMMMMMMM\n",
    "    MMMMMMMM                MMMMMMMMMMM                MMMMMMMMM\n",
    "    MMMMMMMM                 MMMMMMMMM                 MMMMMMMMM\n",
    "    MMMMMMMM                  MMMMMMM                  MMMMMMMMM\n",
    "    MMMMMMMMMMMM               MMMMM                MMMMMMMMMMMM\n",
    "    MMMMMMMMMMMM                MMM                 MMMMMMMMMMMM\n",
    "    MMMMMMMMMMMM                 V                  MMMMMMMMMMMM\n",
    "    MMMMMMMMMMMM                                    MMMMMMMMMMMM\n",
    "    MMMMMMMMMMMM         ^               ^          MMMMMMMMMMMM\n",
    "    MMMMMMMMMMMM         MM             MM          MMMMMMMMMMMM\n",
    "    MMMMMMMMMMMM         MMMM         MMMM          MMMMMMMMMMMM\n",
    "    MMMMMMMMMMMM         MMMMM       MMMMM          MMMMMMMMMMMM\n",
    "    MMMMMMMMMMMM         MMMMMM     MMMMMM          MMMMMMMMMMMM\n",
    "    MMMMMMMM                MMMM   MMMM                MMMMMMMMM\n",
    "    MMMMMMMM                MMMMMVMMMMM                MMMMMMMMM\n",
    "    MMMMMMMM                MMMMMMMMMMM                MMMMMMMMM\n",
    "    MMMMMMMM                MMMMMMMMMMM                MMMMMMMMM\n",
    "    MMMMMMMM                MMMMMMMMMMM                MMMMMMMMM\n",
    "    MMMMMMMMMMMMMMMMMMMMMMMMMMMMMMMMMMMMMMMMMMMMMMMMMMMMMMMMMMMM\n",
    "    MMMMMMMMMMMMMMMMMMMMMMMMMMMMMMMMMMMMMMMMMMMMMMMMMMMMMMMMMMMM\n",
    "    MMMMMMMMMMMMMMMMMMMMMMMMMMMMMMMMMMMMMMMMMMMMMMMMMMMMMMMMMMMM\n",
    "    MMMMMMMMMMMMMMMMMMMMMMMMMMMMMMMMMMMMMMMMMMMMMMMMMMMMMMMMMMMM\n",
    "    MMMMMMMMMMMMMMMMMMMMMMMMMMMMMMMMMMMMMMMMMMMMMMMMMMMMMMMMMMMM  "
   ]
  }
 ],
 "metadata": {
  "exam_gen_problems": [
   "7ba970d8-9ecc-4f4b-8153-242f5b1de9ab",
   "d42a4f6f-a253-4f53-8921-eae0aeb0a0dc",
   "875bcad7-fca4-4b9c-9b9c-f6bd531eec0f",
   "487366e3-8a47-4546-a3cb-341582f11f8c",
   "cde79192-ec1e-4f70-b19c-7a7c7c5e28a9",
   "5e4ef660-bd20-4c87-862a-823a53ed5b91",
   "a33c81cb-1873-4cfa-be58-66973aeacb39",
   "4a2df8f6-b39d-4563-8ce2-3a561285ab13",
   "00eb47b8-961d-4423-b247-b7b222b8456d",
   "e2d22e56-77b6-4ccc-8521-d6ccae51e834",
   "b3fe6d72-be55-4bd2-8772-b5bee29fdf78",
   "52c8ed96-98b2-4a26-9ace-375a07548da9",
   "a6576a44-3208-4fef-a115-269ef2b141a2",
   "5188098b-9431-4c5f-bb1f-666123cee624"
  ],
  "kernelspec": {
   "display_name": "Python 3",
   "language": "python",
   "name": "python3"
  },
  "language_info": {
   "codemirror_mode": {
    "name": "ipython",
    "version": 3
   },
   "file_extension": ".py",
   "mimetype": "text/x-python",
   "name": "python",
   "nbconvert_exporter": "python",
   "pygments_lexer": "ipython3",
   "version": "3.8.5"
  }
 },
 "nbformat": 4,
 "nbformat_minor": 4
}
