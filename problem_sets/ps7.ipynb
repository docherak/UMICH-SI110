{
 "cells": [
  {
   "cell_type": "markdown",
   "metadata": {
    "id": "ad7bc4f4-cdca-4138-8134-67c75db8a5c6",
    "source-id": "7f5e2d74-1b8f-4e7a-be74-055a8809fb9e"
   },
   "source": [
    "# SI 106 Problem Set 7\n",
    "\n",
    "Primary Topics:\n",
    "- Sorting\n",
    "- Nested Data, Nested Iteration, JSON\n",
    "\n",
    "Lookahead Topics:\n",
    "- Internet APIs I\n",
    "\n",
    "---\n",
    "---"
   ]
  },
  {
   "cell_type": "markdown",
   "metadata": {
    "id": "3ab64ae5-57bb-4a3d-b6b4-a19f378a2686",
    "source-id": "ca20167a-4e10-42da-8194-4b4bef864495"
   },
   "source": [
    "---\n",
    "## Problem 1\n",
    "\n",
    "Define a function `sortFoodByPrice` that accepts a list of dictionaries. Every dictionary in that list contains two key-value pairs: `'name'` (a string representing the name of a food) and `'price'` (an integer representing the price of that food).\n",
    "\n",
    "`sortFoodByPrice` should return a list of food names (strings) sorted by their price from low to high.\n",
    "\n",
    "For example:\n",
    "\n",
    "```python\n",
    "foods = [{'name': 'pizza', 'price': 12}, {'name': 'orange', 'price': 2}, {'name': 'burger', 'price': 8}]\n",
    "\n",
    "sortedFoodNames = sortFoodByPrice(foods)\n",
    "# sortedFoodNames should be: ['orange', 'burger', 'pizza']\n",
    "```"
   ]
  },
  {
   "cell_type": "markdown",
   "metadata": {
    "id": "d649a98a-194a-4811-9a98-120ec838dbc5",
    "source-id": "d190e97d-ba73-40a3-a14a-e9d9269c92c3"
   },
   "source": [
    "### Problem 1 Tests:"
   ]
  },
  {
   "cell_type": "code",
   "execution_count": 1,
   "metadata": {
    "id": "8a55132d-e308-44e3-8494-9c38081d6160",
    "source-id": "6963807e-844b-4b2f-ac47-9e881554a5fb"
   },
   "outputs": [],
   "source": [
    "def sortFoodByPrice(dict_lst):\n",
    "    new_dict = {}\n",
    "    for dictio in dict_lst:\n",
    "        new_dict[dictio['name']] = dictio['price']\n",
    "    new_dict_sort = sorted(new_dict.keys(), key = lambda x: new_dict[x])\n",
    "    return new_dict_sort"
   ]
  },
  {
   "cell_type": "code",
   "execution_count": 2,
   "metadata": {
    "id": "1694d993-902a-432d-82a5-9cd9a0be9479",
    "source-id": "8fe18c6e-6a6b-44ee-a0f5-c9bc90cf956e"
   },
   "outputs": [],
   "source": [
    "foods = [{'name': 'pizza', 'price': 12}, {'name': 'orange', 'price': 2}, {'name': 'burger', 'price': 8}]\n",
    "sortedFoodNames = sortFoodByPrice(foods)\n",
    "assert sortedFoodNames == ['orange', 'burger', 'pizza']\n",
    "\n",
    "assert sortFoodByPrice([]) == []\n",
    "assert sortFoodByPrice([{'name': 'f', 'price': 0}]) == ['f']"
   ]
  },
  {
   "cell_type": "markdown",
   "metadata": {
    "id": "b7a8d4b6-0f80-447f-80e0-4972ce7fb035",
    "source-id": "67a59ccd-a8f0-47c9-9c6c-209d005d0b50"
   },
   "source": [
    "---\n",
    "## Problem 2\n",
    "\n",
    "The file `stadiums.csv` is a CSV-formatted file that contains information about various college football stadiums. Reference stadiums.csv to:\n",
    "\n",
    "1. Assign `sortedStadiums` to be a list of stadiums names, sorted by capacity (from largest to smallest).\n",
    "    - Note: Your code should handle the fact that some stadium names are not unique (for example, there are multiple `\"Memorial Stadium\"`s).\n",
    "2. Assign `stateCapacities` to be a dictionary where the keys are state abbreviations (for example, `'MI'`) and the values are the **total** capacity of every stadium in that state\n",
    "\n",
    "* Credit to Geoff Boeing for [the original data used for stadiums.csv](https://github.com/gboeing/data-visualization/blob/master/ncaa-football-stadiums/data/stadiums-geocoded.csv)"
   ]
  },
  {
   "cell_type": "code",
   "execution_count": 3,
   "metadata": {
    "id": "6d183a79-f532-401d-a079-9d5249239586",
    "source-id": "20e0bce8-35e0-4f30-993a-095c31d4b5fa"
   },
   "outputs": [],
   "source": [
    "with open('stadiums.csv','r') as csv_file:\n",
    "    lines = csv_file.readlines()\n",
    "    lst = []\n",
    "    adict = {}\n",
    "    stateCapacities = {}\n",
    "    \n",
    "    for aline in lines[1:]:\n",
    "        line = aline.strip().split(',')  # The \"-\" changes to \"â€“\" here, don't know why, .replace method didn't work\n",
    "        if line[0] in adict.keys():\n",
    "            adict[line[0] + ', ' + line[1]] = int(line[5]) # Added city name after it, to differentiate stadium names, which are not unique \n",
    "        else:\n",
    "            adict[line[0]] = int(line[5])\n",
    "    sortedStadiums = list(sorted(adict, key = lambda x: adict[x], reverse = True))\n",
    "    \n",
    "    for aline in lines[1:]:\n",
    "        line = aline.strip().split(',')\n",
    "        if line[2] not in stateCapacities:\n",
    "            stateCapacities[line[2]] = 0\n",
    "        stateCapacities[line[2]] = stateCapacities[line[2]] + int(line[5])\n",
    "        \n",
    "# Two two assert functions work, first doesn't bc of the \"-\"\n",
    "assert len(sortedStadiums) == 128\n",
    "assert stateCapacities == {'OH': 298202, 'NM': 69567, 'IA': 132085, 'NY': 116263, 'MI': 275891, 'MD': 85802, 'GA': 200201, 'AL': 252772, 'TX': 650204, 'LA': 230248, 'CA': 440914, 'VA': 147851, 'IN': 212654, 'FL': 400854, 'ID': 53000, 'NC': 275368, 'CO': 131275, 'KY': 139206, 'IL': 133300, 'MA': 61500, 'SC': 161750, 'MO': 71168, 'OR': 99674, 'CT': 40000, 'AR': 102964, 'MS': 157917, 'HI': 50000, 'WV': 98019, 'TN': 236185, 'WY': 29181, 'KS': 100071, 'NE': 87091, 'UT': 134255, 'WI': 80321, 'MN': 52525, 'OK': 177872, 'PA': 243504, 'NJ': 52454, 'WA': 102748, 'NV': 66800, 'AZ': 123517}"
   ]
  },
  {
   "cell_type": "markdown",
   "metadata": {
    "id": "1c34c76f-5d87-4e0d-8a76-c7cb8595cac7",
    "source-id": "a9340287-c423-468f-adc7-70881cd0ab05"
   },
   "source": [
    "### Problem 2 Tests:"
   ]
  },
  {
   "cell_type": "code",
   "execution_count": 4,
   "metadata": {
    "id": "b0f3526f-a471-4fe2-b333-c73352a3ed5f",
    "source-id": "4e37ad62-4549-47db-85bf-1b17353a5965"
   },
   "outputs": [
    {
     "ename": "AssertionError",
     "evalue": "",
     "output_type": "error",
     "traceback": [
      "\u001b[1;31m---------------------------------------------------------------------------\u001b[0m",
      "\u001b[1;31mAssertionError\u001b[0m                            Traceback (most recent call last)",
      "\u001b[1;32m<ipython-input-4-13c7ee34d8b7>\u001b[0m in \u001b[0;36m<module>\u001b[1;34m\u001b[0m\n\u001b[1;32m----> 1\u001b[1;33m \u001b[1;32massert\u001b[0m \u001b[0msortedStadiums\u001b[0m\u001b[1;33m[\u001b[0m\u001b[1;33m:\u001b[0m\u001b[1;36m12\u001b[0m\u001b[1;33m]\u001b[0m \u001b[1;33m==\u001b[0m \u001b[1;33m[\u001b[0m\u001b[1;34m'Michigan Stadium'\u001b[0m\u001b[1;33m,\u001b[0m \u001b[1;34m'Beaver Stadium'\u001b[0m\u001b[1;33m,\u001b[0m \u001b[1;34m'Ohio Stadium'\u001b[0m\u001b[1;33m,\u001b[0m \u001b[1;34m'Kyle Field'\u001b[0m\u001b[1;33m,\u001b[0m \u001b[1;34m'Neyland Stadium'\u001b[0m\u001b[1;33m,\u001b[0m \u001b[1;34m'Tiger Stadium'\u001b[0m\u001b[1;33m,\u001b[0m \u001b[1;34m'Bryant–Denny Stadium'\u001b[0m\u001b[1;33m,\u001b[0m \u001b[1;34m'Darrell K Royal–Texas Memorial Stadium'\u001b[0m\u001b[1;33m,\u001b[0m \u001b[1;34m'Los Angeles Memorial Coliseum'\u001b[0m\u001b[1;33m,\u001b[0m \u001b[1;34m'Sanford Stadium'\u001b[0m\u001b[1;33m,\u001b[0m \u001b[1;34m'Rose Bowl'\u001b[0m\u001b[1;33m,\u001b[0m \u001b[1;34m'Ben Hill Griffin Stadium'\u001b[0m\u001b[1;33m]\u001b[0m\u001b[1;33m\u001b[0m\u001b[1;33m\u001b[0m\u001b[0m\n\u001b[0m\u001b[0;32m      2\u001b[0m \u001b[1;32massert\u001b[0m \u001b[0mlen\u001b[0m\u001b[1;33m(\u001b[0m\u001b[0msortedStadiums\u001b[0m\u001b[1;33m)\u001b[0m \u001b[1;33m==\u001b[0m \u001b[1;36m128\u001b[0m\u001b[1;33m\u001b[0m\u001b[1;33m\u001b[0m\u001b[0m\n\u001b[0;32m      3\u001b[0m \u001b[1;33m\u001b[0m\u001b[0m\n\u001b[0;32m      4\u001b[0m \u001b[1;32massert\u001b[0m \u001b[0mstateCapacities\u001b[0m \u001b[1;33m==\u001b[0m \u001b[1;33m{\u001b[0m\u001b[1;34m'OH'\u001b[0m\u001b[1;33m:\u001b[0m \u001b[1;36m298202\u001b[0m\u001b[1;33m,\u001b[0m \u001b[1;34m'NM'\u001b[0m\u001b[1;33m:\u001b[0m \u001b[1;36m69567\u001b[0m\u001b[1;33m,\u001b[0m \u001b[1;34m'IA'\u001b[0m\u001b[1;33m:\u001b[0m \u001b[1;36m132085\u001b[0m\u001b[1;33m,\u001b[0m \u001b[1;34m'NY'\u001b[0m\u001b[1;33m:\u001b[0m \u001b[1;36m116263\u001b[0m\u001b[1;33m,\u001b[0m \u001b[1;34m'MI'\u001b[0m\u001b[1;33m:\u001b[0m \u001b[1;36m275891\u001b[0m\u001b[1;33m,\u001b[0m \u001b[1;34m'MD'\u001b[0m\u001b[1;33m:\u001b[0m \u001b[1;36m85802\u001b[0m\u001b[1;33m,\u001b[0m \u001b[1;34m'GA'\u001b[0m\u001b[1;33m:\u001b[0m \u001b[1;36m200201\u001b[0m\u001b[1;33m,\u001b[0m \u001b[1;34m'AL'\u001b[0m\u001b[1;33m:\u001b[0m \u001b[1;36m252772\u001b[0m\u001b[1;33m,\u001b[0m \u001b[1;34m'TX'\u001b[0m\u001b[1;33m:\u001b[0m \u001b[1;36m650204\u001b[0m\u001b[1;33m,\u001b[0m \u001b[1;34m'LA'\u001b[0m\u001b[1;33m:\u001b[0m \u001b[1;36m230248\u001b[0m\u001b[1;33m,\u001b[0m \u001b[1;34m'CA'\u001b[0m\u001b[1;33m:\u001b[0m \u001b[1;36m440914\u001b[0m\u001b[1;33m,\u001b[0m \u001b[1;34m'VA'\u001b[0m\u001b[1;33m:\u001b[0m \u001b[1;36m147851\u001b[0m\u001b[1;33m,\u001b[0m \u001b[1;34m'IN'\u001b[0m\u001b[1;33m:\u001b[0m \u001b[1;36m212654\u001b[0m\u001b[1;33m,\u001b[0m \u001b[1;34m'FL'\u001b[0m\u001b[1;33m:\u001b[0m \u001b[1;36m400854\u001b[0m\u001b[1;33m,\u001b[0m \u001b[1;34m'ID'\u001b[0m\u001b[1;33m:\u001b[0m \u001b[1;36m53000\u001b[0m\u001b[1;33m,\u001b[0m \u001b[1;34m'NC'\u001b[0m\u001b[1;33m:\u001b[0m \u001b[1;36m275368\u001b[0m\u001b[1;33m,\u001b[0m \u001b[1;34m'CO'\u001b[0m\u001b[1;33m:\u001b[0m \u001b[1;36m131275\u001b[0m\u001b[1;33m,\u001b[0m \u001b[1;34m'KY'\u001b[0m\u001b[1;33m:\u001b[0m \u001b[1;36m139206\u001b[0m\u001b[1;33m,\u001b[0m \u001b[1;34m'IL'\u001b[0m\u001b[1;33m:\u001b[0m \u001b[1;36m133300\u001b[0m\u001b[1;33m,\u001b[0m \u001b[1;34m'MA'\u001b[0m\u001b[1;33m:\u001b[0m \u001b[1;36m61500\u001b[0m\u001b[1;33m,\u001b[0m \u001b[1;34m'SC'\u001b[0m\u001b[1;33m:\u001b[0m \u001b[1;36m161750\u001b[0m\u001b[1;33m,\u001b[0m \u001b[1;34m'MO'\u001b[0m\u001b[1;33m:\u001b[0m \u001b[1;36m71168\u001b[0m\u001b[1;33m,\u001b[0m \u001b[1;34m'OR'\u001b[0m\u001b[1;33m:\u001b[0m \u001b[1;36m99674\u001b[0m\u001b[1;33m,\u001b[0m \u001b[1;34m'CT'\u001b[0m\u001b[1;33m:\u001b[0m \u001b[1;36m40000\u001b[0m\u001b[1;33m,\u001b[0m \u001b[1;34m'AR'\u001b[0m\u001b[1;33m:\u001b[0m \u001b[1;36m102964\u001b[0m\u001b[1;33m,\u001b[0m \u001b[1;34m'MS'\u001b[0m\u001b[1;33m:\u001b[0m \u001b[1;36m157917\u001b[0m\u001b[1;33m,\u001b[0m \u001b[1;34m'HI'\u001b[0m\u001b[1;33m:\u001b[0m \u001b[1;36m50000\u001b[0m\u001b[1;33m,\u001b[0m \u001b[1;34m'WV'\u001b[0m\u001b[1;33m:\u001b[0m \u001b[1;36m98019\u001b[0m\u001b[1;33m,\u001b[0m \u001b[1;34m'TN'\u001b[0m\u001b[1;33m:\u001b[0m \u001b[1;36m236185\u001b[0m\u001b[1;33m,\u001b[0m \u001b[1;34m'WY'\u001b[0m\u001b[1;33m:\u001b[0m \u001b[1;36m29181\u001b[0m\u001b[1;33m,\u001b[0m \u001b[1;34m'KS'\u001b[0m\u001b[1;33m:\u001b[0m \u001b[1;36m100071\u001b[0m\u001b[1;33m,\u001b[0m \u001b[1;34m'NE'\u001b[0m\u001b[1;33m:\u001b[0m \u001b[1;36m87091\u001b[0m\u001b[1;33m,\u001b[0m \u001b[1;34m'UT'\u001b[0m\u001b[1;33m:\u001b[0m \u001b[1;36m134255\u001b[0m\u001b[1;33m,\u001b[0m \u001b[1;34m'WI'\u001b[0m\u001b[1;33m:\u001b[0m \u001b[1;36m80321\u001b[0m\u001b[1;33m,\u001b[0m \u001b[1;34m'MN'\u001b[0m\u001b[1;33m:\u001b[0m \u001b[1;36m52525\u001b[0m\u001b[1;33m,\u001b[0m \u001b[1;34m'OK'\u001b[0m\u001b[1;33m:\u001b[0m \u001b[1;36m177872\u001b[0m\u001b[1;33m,\u001b[0m \u001b[1;34m'PA'\u001b[0m\u001b[1;33m:\u001b[0m \u001b[1;36m243504\u001b[0m\u001b[1;33m,\u001b[0m \u001b[1;34m'NJ'\u001b[0m\u001b[1;33m:\u001b[0m \u001b[1;36m52454\u001b[0m\u001b[1;33m,\u001b[0m \u001b[1;34m'WA'\u001b[0m\u001b[1;33m:\u001b[0m \u001b[1;36m102748\u001b[0m\u001b[1;33m,\u001b[0m \u001b[1;34m'NV'\u001b[0m\u001b[1;33m:\u001b[0m \u001b[1;36m66800\u001b[0m\u001b[1;33m,\u001b[0m \u001b[1;34m'AZ'\u001b[0m\u001b[1;33m:\u001b[0m \u001b[1;36m123517\u001b[0m\u001b[1;33m}\u001b[0m\u001b[1;33m\u001b[0m\u001b[1;33m\u001b[0m\u001b[0m\n",
      "\u001b[1;31mAssertionError\u001b[0m: "
     ]
    }
   ],
   "source": [
    "assert sortedStadiums[:12] == ['Michigan Stadium', 'Beaver Stadium', 'Ohio Stadium', 'Kyle Field', 'Neyland Stadium', 'Tiger Stadium', 'Bryant–Denny Stadium', 'Darrell K Royal–Texas Memorial Stadium', 'Los Angeles Memorial Coliseum', 'Sanford Stadium', 'Rose Bowl', 'Ben Hill Griffin Stadium']\n",
    "assert len(sortedStadiums) == 128\n",
    "\n",
    "assert stateCapacities == {'OH': 298202, 'NM': 69567, 'IA': 132085, 'NY': 116263, 'MI': 275891, 'MD': 85802, 'GA': 200201, 'AL': 252772, 'TX': 650204, 'LA': 230248, 'CA': 440914, 'VA': 147851, 'IN': 212654, 'FL': 400854, 'ID': 53000, 'NC': 275368, 'CO': 131275, 'KY': 139206, 'IL': 133300, 'MA': 61500, 'SC': 161750, 'MO': 71168, 'OR': 99674, 'CT': 40000, 'AR': 102964, 'MS': 157917, 'HI': 50000, 'WV': 98019, 'TN': 236185, 'WY': 29181, 'KS': 100071, 'NE': 87091, 'UT': 134255, 'WI': 80321, 'MN': 52525, 'OK': 177872, 'PA': 243504, 'NJ': 52454, 'WA': 102748, 'NV': 66800, 'AZ': 123517}"
   ]
  },
  {
   "cell_type": "markdown",
   "metadata": {
    "id": "5cbd64ca-fb2e-41ee-a29c-32418ea2b9e2",
    "source-id": "52f4c4a2-e97c-46a8-aa8f-b7428aab69f5"
   },
   "source": [
    "# Distances Between UMich Buildings"
   ]
  },
  {
   "cell_type": "markdown",
   "metadata": {
    "id": "69d75cd3-8b57-4552-bd95-0ea38b3b4ade",
    "source-id": "946665a8-c964-498c-8f8c-70725aa29602"
   },
   "source": [
    "---\n",
    "# Problem 3\n",
    "\n",
    "Write code that will read the contents of `umich_buildings.json` and load its value\n",
    "into the gobal variable umich_buildings. Note that umich_buildings will be a list."
   ]
  },
  {
   "cell_type": "code",
   "execution_count": 5,
   "metadata": {
    "id": "35f7abff-76b7-4a35-b266-819a8124db47",
    "source-id": "73a406a8-af64-4c34-8679-7d3f50d920b5"
   },
   "outputs": [],
   "source": [
    "import json\n",
    "with open('umich_buildings.json','r') as file:\n",
    "    j_son = file.read()\n",
    "    umich_buildings = json.loads(j_son)"
   ]
  },
  {
   "cell_type": "markdown",
   "metadata": {
    "id": "8b96ec68-018e-4e29-bba0-becb43bd71a3",
    "source-id": "6b62e3b3-87bf-46ec-be64-19d7b473069a"
   },
   "source": [
    "### Problem 3 Tests (do not modify)"
   ]
  },
  {
   "cell_type": "code",
   "execution_count": 6,
   "metadata": {
    "id": "bc37a016-8246-436e-9f4a-91a99fac7f72",
    "source-id": "57ebe100-e94f-40a9-9fab-384fbbf0d492"
   },
   "outputs": [],
   "source": [
    "assert type(umich_buildings) == list\n",
    "assert umich_buildings[0]['name'] == '1000 Victors Way'"
   ]
  },
  {
   "cell_type": "markdown",
   "metadata": {
    "id": "3d478200-be8f-4a57-8056-e6ddcce4a74b",
    "source-id": "43288067-88b0-4c67-baae-a4623eae32a7"
   },
   "source": [
    "---\n",
    "# Problem 4\n",
    "Write a function named `buildingLatLong` that returns\n",
    "a (latitude, longitude) tuple for any building id in `umich_buildings`.\n",
    "\n",
    "If that building ID could not be found, return None"
   ]
  },
  {
   "cell_type": "code",
   "execution_count": 7,
   "metadata": {
    "id": "da4f1250-2210-4608-a974-aa4a0738722d",
    "source-id": "bd136f25-fb26-4c5f-9d35-d09ec43db975"
   },
   "outputs": [],
   "source": [
    "def buildingLatLong(building_id):\n",
    "    id_lat_long = {}\n",
    "    for adict in umich_buildings:\n",
    "        id_lat_long[adict['id']] = (adict['lat'], adict['lng'])\n",
    "    return id_lat_long[building_id]"
   ]
  },
  {
   "cell_type": "markdown",
   "metadata": {
    "id": "a13453e1-8735-4877-865b-3a516e2da1b7",
    "source-id": "0f05ed75-3394-4dc7-b49a-62264fcfdc90"
   },
   "source": [
    "### Problem 4 Tests (do not modify)"
   ]
  },
  {
   "cell_type": "code",
   "execution_count": 8,
   "metadata": {
    "id": "5761fed3-e371-4b6e-88df-f1e6cfa4da2e",
    "source-id": "b7c4ddb4-763b-4234-ae09-161db3bb0c95"
   },
   "outputs": [],
   "source": [
    "assert buildingLatLong('nq') == (42.280477, -83.740131)\n",
    "assert buildingLatLong('rack') == (42.280842, -83.738286)\n",
    "assert buildingLatLong('track') == (42.267522, -83.743746)"
   ]
  },
  {
   "cell_type": "markdown",
   "metadata": {
    "id": "397c7b89-a43d-4856-88cd-ce79b91e999f",
    "source-id": "a9aa18c2-931b-4b9e-a0a5-c1d57ba79f80"
   },
   "source": [
    "---\n",
    "# Problem 5\n",
    "The provided file `vincenty.py` contains code that calculates the \"vincenty distance\" between two points' latitude and longitude, in meters."
   ]
  },
  {
   "cell_type": "code",
   "execution_count": 9,
   "metadata": {
    "id": "c9d8fc5e-5798-499e-b69f-63aed14f2901",
    "source-id": "6edc142f-6e99-419d-b527-2f2840464ef5"
   },
   "outputs": [
    {
     "data": {
      "text/plain": [
       "1041653.5180616631"
      ]
     },
     "execution_count": 9,
     "metadata": {},
     "output_type": "execute_result"
    }
   ],
   "source": [
    "from vincenty import latLngDistanceMeters # define the function latLngDistanceKilometers\n",
    "# example call (getting the distance from Cambridge, MA to Ann Arbor, MI):\n",
    "latLngDistanceMeters((42.3584, -71.0912), (42.278, -83.7382))"
   ]
  },
  {
   "cell_type": "markdown",
   "metadata": {
    "id": "f29dbf39-fe3f-4f25-a207-53e7e91e0aa8",
    "source-id": "39567581-0a4e-4e75-b28a-43546ccb1d23"
   },
   "source": [
    "Write a function named `buildingDistance` that determines the distance\n",
    "between two building IDs."
   ]
  },
  {
   "cell_type": "code",
   "execution_count": 10,
   "metadata": {
    "id": "98e160fa-a43a-4a10-8afb-babd8af00dfe",
    "source-id": "a968c65f-a386-4bfc-b8fa-8aadb90c5dd6"
   },
   "outputs": [],
   "source": [
    "def buildingDistance(building1_id, building2_id):\n",
    "    id_lat_long = {}\n",
    "    for adict in umich_buildings:\n",
    "        id_lat_long[adict['id']] = (adict['lat'], adict['lng'])\n",
    "    return latLngDistanceMeters(id_lat_long[building1_id], id_lat_long[building2_id])"
   ]
  },
  {
   "cell_type": "markdown",
   "metadata": {
    "id": "d0c7ffe7-5b32-4c72-980f-2106b395db55",
    "source-id": "5cfefef7-737a-4670-96e8-6f1b1962952b"
   },
   "source": [
    "### Problem 5 Tests (do not modify)"
   ]
  },
  {
   "cell_type": "code",
   "execution_count": 11,
   "metadata": {
    "id": "27918dcb-e7b3-403b-9de5-9718ea8c7cfb",
    "source-id": "54daa7bb-2c3e-441d-b0e7-ba5a90b5ad1a"
   },
   "outputs": [],
   "source": [
    "assert buildingDistance('nq', 'stadm') == 1850.3417342836317\n",
    "assert buildingDistance('nq', 'ncrb') == 2315.700814194105"
   ]
  },
  {
   "cell_type": "markdown",
   "metadata": {
    "id": "569499e7-e2d6-42f1-9179-6976367be5da",
    "source-id": "31c0eda7-48ac-49e0-bb44-d5cf5dd1e167"
   },
   "source": [
    "---\n",
    "## Problem 6\n",
    "Write a function that returns the NAMES (not IDs) of the n closest buildings\n",
    "to a given building ID. (Note: make sure you exclude the building itself)"
   ]
  },
  {
   "cell_type": "code",
   "execution_count": 12,
   "metadata": {
    "id": "1d621609-b1d1-4a01-b1d9-eb14f828fc4d",
    "source-id": "5811447c-c41c-47dd-b041-1ef742fe62e0"
   },
   "outputs": [],
   "source": [
    "def closestBuildingNames(building_id, n=3):\n",
    "    name_lat_long = {}\n",
    "    our_build = {}\n",
    "    distance = {}\n",
    "    for adict in umich_buildings:\n",
    "        if adict['id'] == building_id:\n",
    "            our_build[adict['name']] = (adict['lat'], adict['lng'])\n",
    "        else:\n",
    "            name_lat_long[adict['name']] = (adict['lat'], adict['lng'])\n",
    "\n",
    "    for latlong in our_build.values():\n",
    "        for name, avalue in name_lat_long.items():\n",
    "            avalue = latLngDistanceMeters(avalue, latlong)\n",
    "            distance[name] = float(avalue)\n",
    "    srt = list(sorted(distance, key = lambda x: distance[x]))[0:n]\n",
    "    return srt"
   ]
  },
  {
   "cell_type": "markdown",
   "metadata": {
    "id": "01200968-9990-4704-969b-a32020bf0cea",
    "source-id": "31563cae-575c-4112-b010-a66257255170"
   },
   "source": [
    "### Problem 6 Tests (do not modify)"
   ]
  },
  {
   "cell_type": "code",
   "execution_count": 13,
   "metadata": {
    "id": "816064f6-f5d5-4fd5-af5f-dc100e8c0090",
    "source-id": "0e032de1-5d4b-4601-bd1d-0cc8f3a95b47"
   },
   "outputs": [],
   "source": [
    "assert closestBuildingNames('nq') == ['Modern Languages Building',\n",
    " 'Rackham School of Graduate Studies, Horace H.',\n",
    " 'Hamilton Square']"
   ]
  },
  {
   "cell_type": "markdown",
   "metadata": {
    "id": "ca50943a-b5c2-4239-8ed8-bac35cbd791e",
    "source-id": "9187b121-4a68-4770-a599-706f4050ee46"
   },
   "source": [
    "# Problem 7\n",
    "\n",
    "Define a function `getSeconds()` that accepts one argument: a list of lists. `getSeconds()` should return the **second** item in every sublist that has at least two items. If the sublist has fewer than two items, it should be ignored. For example:\n",
    "\n",
    "`getSeconds([[1,2], ['a', 'b', 'c'], ['x'], [10, 20]])` should be `[2, 'b', 20]`"
   ]
  },
  {
   "cell_type": "code",
   "execution_count": 14,
   "metadata": {
    "id": "ac288701-3b4f-4e8c-b001-bf87d7fc263d",
    "source-id": "6a05450a-94e1-4ae8-940d-a0944c373d39"
   },
   "outputs": [],
   "source": [
    "def getSeconds(lst_of_lsts):\n",
    "    new_lst = []\n",
    "    for lst in lst_of_lsts:\n",
    "        if len(lst) >= 2:\n",
    "            new_lst.append(lst[1])\n",
    "    return new_lst"
   ]
  },
  {
   "cell_type": "markdown",
   "metadata": {
    "id": "e32aef7e-0175-47ad-b79c-3e1a1a258ecd",
    "source-id": "7af87226-7b49-42fb-84db-c8a9cebf04a0"
   },
   "source": [
    "### Problem 7 Tests"
   ]
  },
  {
   "cell_type": "code",
   "execution_count": 15,
   "metadata": {
    "id": "d727aa27-dfa0-4391-af63-401618c905d1",
    "source-id": "4a35c285-7bf1-4ffb-8f21-9ea2a6ec84c9"
   },
   "outputs": [],
   "source": [
    "assert getSeconds([[1,2], ['a', 'b', 'c'], ['x'], [10, 20]]) == [2, 'b', 20]\n",
    "assert getSeconds([]) == []\n",
    "assert getSeconds([[]]) == []\n",
    "assert getSeconds([[1,2,3,4]]) == [2]"
   ]
  },
  {
   "cell_type": "markdown",
   "metadata": {
    "id": "e3ea4086-3c33-4c0e-b15e-8b989b8397ef",
    "source-id": "e23f7066-e394-4db1-8e7a-fe559ca81ee4"
   },
   "source": [
    "---\n",
    "## Problem 8\n",
    "\n",
    "Suppose we have a list of students where every student is a dictionary with the following keys:\n",
    "  - `name` (the student's name)\n",
    "  - `ms_course` (the student's \"mastery course\"; they only have one)\n",
    "  - `height` (the student's height in cm)\n",
    "\n",
    "Define the function `getAverageHeight`, to take in a list of such student\n",
    "dictionaries (`studentData`) and one course name(`course`). It should return\n",
    "the average height for students whose `ms_course` is `course`.\n",
    "\n",
    "Hint: If you don't know where to start, see if you can print the height of\n",
    "every student on a different line."
   ]
  },
  {
   "cell_type": "code",
   "execution_count": 16,
   "metadata": {
    "id": "ee230f5a-6323-4b54-90d2-05aa24d32042",
    "source-id": "47e1ac1a-7e0d-4023-9d83-caeb11a443b0"
   },
   "outputs": [],
   "source": [
    "def getAverageHeight(studentData, course):\n",
    "    total_height = 0\n",
    "    total_people = 0\n",
    "    for adict in studentData:\n",
    "        if adict['ms_course'] == course:\n",
    "            total_height += adict['height']\n",
    "            total_people += 1\n",
    "    avg_height = total_height / total_people\n",
    "    return avg_height"
   ]
  },
  {
   "cell_type": "markdown",
   "metadata": {
    "id": "476de755-0cbc-4d83-a1ee-a03e9117423b",
    "source-id": "888ac0fa-168e-4d53-ac4c-1f6cba53f82b"
   },
   "source": [
    "### Problem 8 Tests (do not modify)"
   ]
  },
  {
   "cell_type": "code",
   "execution_count": 17,
   "metadata": {
    "id": "5246420f-8e99-4f32-a208-df031a5de29b",
    "source-id": "0df48dda-04ca-41b9-877d-91e3053702de"
   },
   "outputs": [],
   "source": [
    "exAHData = [\n",
    "    {'name': 'Tom',    'ms_course': 'Big Data Analytics',     'height': 170},\n",
    "    {'name': 'Janet',  'ms_course': 'UX Research and Design', 'height': 154},\n",
    "    {'name': 'John',   'ms_course': 'Libraries and Archives', 'height': 180},\n",
    "    {'name': 'Wilson', 'ms_course': 'Social Computing',       'height': 200},\n",
    "    {'name': 'Megh',   'ms_course': 'Libraries and Archives', 'height': 150},\n",
    "    {'name': 'Amy',    'ms_course': 'UX Research and Design', 'height': 180},\n",
    "    {'name': 'Isabel', 'ms_course': 'Big Data Analytics',     'height': 160},\n",
    "    {'name': 'Yoshi',  'ms_course': 'UX Research and Design', 'height': 165},\n",
    "    {'name': 'Jane',   'ms_course': 'UX Research and Design', 'height': 162},\n",
    "]\n",
    "exAHCourse = 'Big Data Analytics'\n",
    "\n",
    "assert getAverageHeight(exAHData, exAHCourse) == 165.0 # Should be 165.0\n",
    "assert getAverageHeight([\n",
    "    {'name': 'Chris', 'ms_course': 'SI 999', 'height': 220},\n",
    "    {'name': 'Jason', 'ms_course': 'SI 506', 'height': 200},\n",
    "    {'name': 'Amy',   'ms_course': 'SI 506', 'height': 220}\n",
    "], 'SI 506')==210.0 # Should be 210.0"
   ]
  },
  {
   "cell_type": "markdown",
   "metadata": {
    "id": "992ec948-eb24-46f2-8e4f-76628e3805e2",
    "source-id": "8ed44111-1c2d-48f7-807a-a215394e122b"
   },
   "source": [
    "---\n",
    "## Problem 9\n",
    "The dictionary `umSchools` maps the names of schools at Michigan to the year they were founded. Write code that assigns `sortedSchools` to a list of school names, sorted by the year they were founded (from oldest to newest)"
   ]
  },
  {
   "cell_type": "code",
   "execution_count": 18,
   "metadata": {
    "id": "b771cdb6-e35a-49d1-a345-52d5d11d15f9",
    "source-id": "a6ba2171-5638-43b5-bd03-318aea3c983a"
   },
   "outputs": [],
   "source": [
    "umSchools = {\n",
    "  \"A. Alfred Taubman College of Architecture & Urban Planning\": 1906,\n",
    "  \"College of Engineering\": 1854,\n",
    "  \"College of Literature, Science, and the Arts\": 1841,\n",
    "  \"Gerald R. Ford School of Public Policy\": 1914,\n",
    "  \"Horace H. Rackham School of Graduate Studies\": 1912,\n",
    "  \"Penny W. Stamps School of Art & Design\": 1974,\n",
    "  \"School of Dentistry\": 1875,\n",
    "  \"School of Education\": 1921,\n",
    "  \"School of Information\": 1996,\n",
    "  \"School of Kinesiology\": 1984,\n",
    "  \"School of Law\": 1859,\n",
    "  \"School of Medicine\": 1850,\n",
    "  \"School of Music, Theatre & Dance\": 1880,\n",
    "  \"School of Natural Resources & Environment\": 1927,\n",
    "  \"School of Nursing\": 1893,\n",
    "  \"School of Pharmacy\": 1876,\n",
    "  \"School of Public Health\": 1941,\n",
    "  \"School of Social Work\": 1951,\n",
    "  \"Stephen M. Ross School of Business\": 1924\n",
    "}\n",
    "\n",
    "sortedSchools = list(sorted(umSchools.keys(), key = lambda x: umSchools[x]))"
   ]
  },
  {
   "cell_type": "markdown",
   "metadata": {
    "id": "81f3c219-959f-4b0d-8669-e4fa7d2c1048",
    "source-id": "845fd596-abf7-4c94-94f3-bd985479e79a"
   },
   "source": [
    "### Problem 9 Tests:"
   ]
  },
  {
   "cell_type": "code",
   "execution_count": 19,
   "metadata": {
    "id": "198716f7-a0d0-4472-89f3-53ee520677c7",
    "source-id": "8e8bbb87-a942-4a71-9224-2806472d516a"
   },
   "outputs": [],
   "source": [
    "assert sortedSchools == ['College of Literature, Science, and the Arts', 'School of Medicine', 'College of Engineering', 'School of Law', 'School of Dentistry', 'School of Pharmacy', 'School of Music, Theatre & Dance', 'School of Nursing', 'A. Alfred Taubman College of Architecture & Urban Planning', 'Horace H. Rackham School of Graduate Studies', 'Gerald R. Ford School of Public Policy', 'School of Education', 'Stephen M. Ross School of Business', 'School of Natural Resources & Environment', 'School of Public Health', 'School of Social Work', 'Penny W. Stamps School of Art & Design', 'School of Kinesiology', 'School of Information']"
   ]
  },
  {
   "cell_type": "markdown",
   "metadata": {
    "id": "35bfe674-a216-4b65-90a3-33c72bdd05b6",
    "source-id": "fb5b0b04-05c3-4ba3-a90a-7f9ec237d64e"
   },
   "source": [
    "---\n",
    "## Problem 10\n",
    "The variable `movies` contains a list of dictionaries with information about movies."
   ]
  },
  {
   "cell_type": "code",
   "execution_count": 20,
   "metadata": {
    "id": "b3a30efd-343e-4af9-b6c8-d6e54f94cfda",
    "source-id": "0d432651-fbb3-4617-87e7-18b6a1ff9f54"
   },
   "outputs": [],
   "source": [
    "movies = [{ \"name\" : \"Inception\", \"rating\" : 9, \"no_of_votes\": 10000},  \n",
    "{ \"name\" : \"Tamasha\", \"rating\" : 8, \"no_of_votes\" : 1000  }, \n",
    "{ \"name\" : \"Dark Knight Rises\" , \"rating\" : 9, \"no_of_votes\": 10200 }] "
   ]
  },
  {
   "cell_type": "markdown",
   "metadata": {
    "id": "d24e4fe6-ed6f-49b0-8a73-1149ac5abd30",
    "source-id": "cb1d5604-bb2f-48c2-b141-41bfc63759d5"
   },
   "source": [
    "### Problem 10.1\n",
    "Sort `movies` based on the rating of the movie (key: `'rating'`) from highest to lowest. Assign the result to the variable `sortedMovies1`"
   ]
  },
  {
   "cell_type": "code",
   "execution_count": 21,
   "metadata": {
    "id": "87f15ce6-e05a-4746-899d-fcbe65824ed2",
    "source-id": "ccb027bb-3e6c-4198-90ae-ea5cf119e7dc"
   },
   "outputs": [],
   "source": [
    "sortedMovies1 = sorted(movies, key = lambda i: i['rating'], reverse = True)"
   ]
  },
  {
   "cell_type": "markdown",
   "metadata": {
    "id": "0d6021f9-6adc-4cb6-9652-2b17e6e9cecd",
    "source-id": "41b351f7-e54f-425b-8cef-0090fb8b324e"
   },
   "source": [
    "#### Problem 10.1 Tests:"
   ]
  },
  {
   "cell_type": "code",
   "execution_count": 22,
   "metadata": {
    "id": "8d72f791-687a-447a-b2e1-86fb0a047b88",
    "source-id": "ec3cc15c-672d-4397-9825-866b2ce027d0"
   },
   "outputs": [],
   "source": [
    "assert sortedMovies1 == [{'name': 'Inception', 'rating': 9, 'no_of_votes': 10000}, {'name': 'Dark Knight Rises', 'rating': 9, 'no_of_votes': 10200}, {'name': 'Tamasha', 'rating': 8, 'no_of_votes': 1000}]"
   ]
  },
  {
   "cell_type": "markdown",
   "metadata": {
    "id": "57a3af1f-c882-43ac-b517-fea8bec1c699",
    "source-id": "8cd3bab3-2723-4032-97a2-d0e5dd35ddc5"
   },
   "source": [
    "### Problem 10.2\n",
    "Sort `movies` based on the rating of the movie (key: `'rating'`) from highest to lowest. This time, break ties with the value of `'no_of_votes'` (if two movies have the same rating, the one with more votes should come first)"
   ]
  },
  {
   "cell_type": "code",
   "execution_count": 23,
   "metadata": {
    "id": "2f77aab7-4cf1-4e52-9bb1-7215c7f79ad3",
    "source-id": "68c8fec3-6994-4e86-8297-61768c3e6eb0"
   },
   "outputs": [],
   "source": [
    "sortedMovies2 = sorted(movies, key = lambda i: (i['rating'], i['no_of_votes']), reverse = True)"
   ]
  },
  {
   "cell_type": "markdown",
   "metadata": {
    "id": "3f2fe82c-0d25-47f2-aebe-932181e15051",
    "source-id": "2a80f406-5d71-4c67-8bcd-5d0f34dba4a8"
   },
   "source": [
    "#### Problem 10.2 Tests:"
   ]
  },
  {
   "cell_type": "code",
   "execution_count": 24,
   "metadata": {
    "id": "2b04e8ca-a3d1-42fb-9f1d-c4bc5f1a6812",
    "source-id": "eb471a7f-552a-423d-9c86-d3052824e85d"
   },
   "outputs": [],
   "source": [
    "assert sortedMovies2 == [{'name': 'Dark Knight Rises', 'rating': 9, 'no_of_votes': 10200}, {'name': 'Inception', 'rating': 9, 'no_of_votes': 10000}, {'name': 'Tamasha', 'rating': 8, 'no_of_votes': 1000}]"
   ]
  },
  {
   "cell_type": "markdown",
   "metadata": {
    "id": "8185ebbe-cfbc-43a6-ae81-6bb3125a9a6b",
    "source-id": "dc2d3f50-2df6-415e-ad89-6b3aa57389ca"
   },
   "source": [
    "---\n",
    "## Problem 11 (Demonstrate Your Understanding)\n",
    "\n",
    "Write code and/or a Python comment that demonstrates your understanding of the material in this problem set. This assignment requires effort and demonstration of true understanding and will be evaluated carefully (this does not mean it needs to be long, just clear and accurate. In fact, it should be brief; ideally just 2-3 sentences)."
   ]
  },
  {
   "cell_type": "code",
   "execution_count": 25,
   "metadata": {
    "id": "f931fbfb-9479-4ba5-ad85-557729d7032a",
    "source-id": "92cbec94-06cd-4a85-8a29-845f9ad1a25a"
   },
   "outputs": [],
   "source": [
    "#-----Sorting-----\n",
    "#-We can use either .sort() method or sorted() function to sort a list or dictionary. Method changes the original, function\n",
    "#-does not. There is optional reverse parameter, which can be =True or =False (default). There is also optional key parameter\n",
    "#-which orders things in specified way (absolute values; using lambda function). We can add more values to key in case we\n",
    "#-need to break ties, using tuples. Default sorting: low to high/alphabetic order.\n",
    "#-----\n",
    "#-----Nested; JSON-----\n",
    "#-We use indexes in order to get nested values.\n",
    "#-We produce a Python object from JSON by using json.loads()\n",
    "#-Vice versa with json.dumps()\n"
   ]
  },
  {
   "cell_type": "markdown",
   "metadata": {
    "id": "370cfbcc-b303-4a71-9abd-7f4b93dba9aa",
    "source-id": "e99e5163-990e-4b29-8e8f-944f7fc035ab"
   },
   "source": [
    "---\n",
    "## Problem 12 (Look Ahead to Internet APIs I)\n",
    "\n",
    "Write code that uses the [iTunes API](https://affiliate.itunes.apple.com/resources/documentation/itunes-store-web-service-search-api/) to search for the term `\"Ann Arbor\"`. Assign the resulting data to the variable `itunes_data`."
   ]
  },
  {
   "cell_type": "code",
   "execution_count": 26,
   "metadata": {
    "id": "e601d700-5f95-4eac-b9f2-f6c6f25ecebe",
    "source-id": "cbea7cea-9048-4b34-a1a1-0cac91f68c97"
   },
   "outputs": [
    {
     "name": "stdout",
     "output_type": "stream",
     "text": [
      "found in page-specific cache\n"
     ]
    }
   ],
   "source": [
    "import requests_with_caching\n",
    "import json\n",
    "page = requests_with_caching.get(\"https://itunes.apple.com/search?term=Ann+Arbor\")\n",
    "itunes_data = page.json()"
   ]
  },
  {
   "cell_type": "markdown",
   "metadata": {
    "id": "2b167f91-26b6-4320-8374-c05978bcc4e9",
    "source-id": "70944c1c-3ae2-4abf-a83d-05b20d72704b"
   },
   "source": [
    "### Problem 12 Tests:"
   ]
  },
  {
   "cell_type": "code",
   "execution_count": 27,
   "metadata": {
    "id": "11d7064d-eb85-42fe-aaf7-dccf76205bae",
    "source-id": "f23a00e3-bf0c-4f49-bc09-a8364a8043e0"
   },
   "outputs": [],
   "source": [
    "assert type(itunes_data) == dict\n",
    "assert sorted(itunes_data.keys()) == sorted(['results', 'resultCount'])\n",
    "assert type(itunes_data['results']) == list"
   ]
  },
  {
   "cell_type": "markdown",
   "metadata": {
    "id": "918cbc03-7005-4b07-8f33-37895afe300d",
    "source-id": "37ca4161-ece9-44c8-bdc9-4b6506935f38"
   },
   "source": [
    "---\n",
    "---\n",
    "## Collaborators and Sources of Help\n",
    "In this markdown cell, list names of any people you worked with or got help from, and provide links to or descriptions of any external resources you consulted."
   ]
  },
  {
   "cell_type": "markdown",
   "metadata": {
    "id": "0863fb25-224d-4822-9df8-2795cd5a5929",
    "source-id": "787b8658-9ff6-4304-ae38-9ebd1c7228c7"
   },
   "source": [
    "- List your collaborators here"
   ]
  },
  {
   "cell_type": "markdown",
   "metadata": {
    "id": "b8cd916c-e3c6-4242-afa9-49e4aa26da86",
    "source-id": "2055afaa-e91d-44d5-9d12-f54271c862f7"
   },
   "source": [
    "## Upload your solutions to Canvas\n",
    "\n",
    "Upload your .ipynb file to Canvas.\n",
    "\n",
    "*Note: You may submit any number of times before the deadline*"
   ]
  },
  {
   "cell_type": "markdown",
   "metadata": {
    "id": "dc254040-71b1-413d-9000-820a79d23814",
    "source-id": "dd2057b8-d2d4-45f9-b86c-d22fcb94c265"
   },
   "source": [
    "    MMMMMMMMMMMMMMMMMMMMMMMMMMMMMMMMMMMMMMMMMMMMMMMMMMMMMMMMMMMM\n",
    "    MMMMMMMMMMMMMMMMMMMMMMMMMMMMMMMMMMMMMMMMMMMMMMMMMMMMMMMMMMMM\n",
    "    MMMMMMMMMMMMMMMMMMMMMMMMMMMMMMMMMMMMMMMMMMMMMMMMMMMMMMMMMMMM\n",
    "    MMMMMMMMMMMMMMMMMMMMMMMMMMMMMMMMMMMMMMMMMMMMMMMMMMMMMMMMMMMM\n",
    "    MMMMMMMM             MMMMMMMMMMMMMMMMM             MMMMMMMMM\n",
    "    MMMMMMMM              MMMMMMMMMMMMMMM              MMMMMMMMM\n",
    "    MMMMMMMM                MMMMMMMMMMM                MMMMMMMMM\n",
    "    MMMMMMMM                 MMMMMMMMM                 MMMMMMMMM\n",
    "    MMMMMMMM                  MMMMMMM                  MMMMMMMMM\n",
    "    MMMMMMMMMMMM               MMMMM                MMMMMMMMMMMM\n",
    "    MMMMMMMMMMMM                MMM                 MMMMMMMMMMMM\n",
    "    MMMMMMMMMMMM                 V                  MMMMMMMMMMMM\n",
    "    MMMMMMMMMMMM                                    MMMMMMMMMMMM\n",
    "    MMMMMMMMMMMM         ^               ^          MMMMMMMMMMMM\n",
    "    MMMMMMMMMMMM         MM             MM          MMMMMMMMMMMM\n",
    "    MMMMMMMMMMMM         MMMM         MMMM          MMMMMMMMMMMM\n",
    "    MMMMMMMMMMMM         MMMMM       MMMMM          MMMMMMMMMMMM\n",
    "    MMMMMMMMMMMM         MMMMMM     MMMMMM          MMMMMMMMMMMM\n",
    "    MMMMMMMM                MMMM   MMMM                MMMMMMMMM\n",
    "    MMMMMMMM                MMMMMVMMMMM                MMMMMMMMM\n",
    "    MMMMMMMM                MMMMMMMMMMM                MMMMMMMMM\n",
    "    MMMMMMMM                MMMMMMMMMMM                MMMMMMMMM\n",
    "    MMMMMMMM                MMMMMMMMMMM                MMMMMMMMM\n",
    "    MMMMMMMMMMMMMMMMMMMMMMMMMMMMMMMMMMMMMMMMMMMMMMMMMMMMMMMMMMMM\n",
    "    MMMMMMMMMMMMMMMMMMMMMMMMMMMMMMMMMMMMMMMMMMMMMMMMMMMMMMMMMMMM\n",
    "    MMMMMMMMMMMMMMMMMMMMMMMMMMMMMMMMMMMMMMMMMMMMMMMMMMMMMMMMMMMM\n",
    "    MMMMMMMMMMMMMMMMMMMMMMMMMMMMMMMMMMMMMMMMMMMMMMMMMMMMMMMMMMMM\n",
    "    MMMMMMMMMMMMMMMMMMMMMMMMMMMMMMMMMMMMMMMMMMMMMMMMMMMMMMMMMMMM"
   ]
  }
 ],
 "metadata": {
  "env": {
   "filename": "PS 7.ipynb",
   "points": 2,
   "problem": 13,
   "totalpoints": 35,
   "totalproblems": 12
  },
  "exam_gen_problems": [
   "7f5e2d74-1b8f-4e7a-be74-055a8809fb9e",
   "ca20167a-4e10-42da-8194-4b4bef864495",
   "67a59ccd-a8f0-47c9-9c6c-209d005d0b50",
   "946665a8-c964-498c-8f8c-70725aa29602",
   "43288067-88b0-4c67-baae-a4623eae32a7",
   "a9aa18c2-931b-4b9e-a0a5-c1d57ba79f80",
   "31c0eda7-48ac-49e0-bb44-d5cf5dd1e167",
   "9187b121-4a68-4770-a599-706f4050ee46",
   "e23f7066-e394-4db1-8e7a-fe559ca81ee4",
   "8ed44111-1c2d-48f7-807a-a215394e122b",
   "fb5b0b04-05c3-4ba3-a90a-7f9ec237d64e",
   "dc2d3f50-2df6-415e-ad89-6b3aa57389ca",
   "e99e5163-990e-4b29-8e8f-944f7fc035ab",
   "37ca4161-ece9-44c8-bdc9-4b6506935f38"
  ],
  "file_extension": ".py",
  "kernelspec": {
   "display_name": "Python 3",
   "language": "python",
   "name": "python3"
  },
  "language_info": {
   "codemirror_mode": {
    "name": "ipython",
    "version": 3
   },
   "file_extension": ".py",
   "mimetype": "text/x-python",
   "name": "python",
   "nbconvert_exporter": "python",
   "pygments_lexer": "ipython3",
   "version": "3.8.5"
  },
  "mimetype": "text/x-python",
  "name": "python",
  "npconvert_exporter": "python",
  "pygments_lexer": "ipython2",
  "version": 2
 },
 "nbformat": 4,
 "nbformat_minor": 4
}
