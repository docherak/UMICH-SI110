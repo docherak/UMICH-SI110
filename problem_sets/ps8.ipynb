{
 "cells": [
  {
   "cell_type": "markdown",
   "metadata": {
    "id": "18f1f6c9-f091-423a-b93d-2b93b72cf2a5",
    "source-id": "ffe6be4b-85fd-4f7b-ba3e-97af1e9b78cb"
   },
   "source": [
    "# SI 106 Problem Set 8\n",
    "\n",
    "Primary Topics:\n",
    "- Internet APIs I\n",
    "- Internet APIs II\n",
    "\n",
    "Lookahead Topics:\n",
    "- Exceptions\n",
    "\n",
    "---\n",
    "---"
   ]
  },
  {
   "cell_type": "markdown",
   "metadata": {
    "id": "4412c352-5eb3-4722-8772-e7bf24e1dc79",
    "source-id": "7a676ca9-f584-45b7-ab2c-623639fdb3f2"
   },
   "source": [
    "To avoid problems with rate limits and site accessibility, we have provided a cache file with results for all the queries you need to make . Just use ``requests_with_caching.get()`` rather than ``requests.get()``-- as described in the textbook, they both take the same parameters and return the same kinds of `Response` objects. \n",
    "\n",
    "If you're having trouble, you may not be formatting your queries properly, or you may not be asking for data that exists in our cache. We will try to provide as much information as we can to help guide you to form queries for which data exists in the cache.\n",
    "\n",
    "### TasteDive\n",
    "Your first task will be to fetch data from TasteDive. The documentation for the API is at https://tastedive.com/read/api."
   ]
  },
  {
   "cell_type": "code",
   "execution_count": 18,
   "metadata": {
    "id": "11f8aa79-686d-4960-ba31-1c201d7ba1bb",
    "source-id": "1f8fc349-7fc7-482c-98b5-803a09dd3b48"
   },
   "outputs": [],
   "source": [
    "import requests_with_caching"
   ]
  },
  {
   "cell_type": "markdown",
   "metadata": {
    "id": "a729ba9a-b14f-40e5-b1b6-ce9b529873c9",
    "source-id": "75af2727-8c03-449b-8cf3-527691a39e7a"
   },
   "source": [
    "---\n",
    "## Problem 1\n",
    "Define a function, called `get_movies_from_tastedive`. It should take one input parameter, a string that is the name of a movie or music artist. The function should return the 5 TasteDive results that are associated with that string; be sure to only get movies, not other kinds of media. It will be a python dictionary with just one key, 'Similar'.\n",
    "\n",
    "Try invoking your function with the input \"Black Panther\".\n",
    "\n",
    "HINT: Be sure to include **only** `q`, `type`, and `limit` as parameters in order to extract data from the cache. If any other parameters are included, then the function will not be able to recognize the data that you're attempting to pull from the cache. \n",
    "\n",
    "You will *not* need an api key in order to complete the project, because all data will be found in the cache. If you ever get a result indicating that the result was not found in the permanent cache, it means you haven't formulated the query quite right. If you do provide a tastedive API key, your request may succeed even when the data is not found in cache. That may be useful to you in your explorations, but you will not pass the tests for the problem set unless you find the data in the permanent cache.\n",
    "\n",
    "    The cache includes data for the following queries:\n",
    "\n",
    "        =============== ==========  ==========\n",
    "          q             type        limit\n",
    "        =============== ==========  ==========\n",
    "        Black Panther   <omitted>   <omitted>\n",
    "        Black Panther   <omitted>   5\n",
    "        Black Panther   movies      <omitted>\n",
    "        Black Panther   movies      5\n",
    "        Tony Bennett    <omitted>   5\n",
    "        Tony Bennett    movies      5\n",
    "        Captain Marvel  movies      5\n",
    "        Bridesmaids     movies      5\n",
    "        Sherlock Holmes movies      5\n",
    "        =============== ==========  =========="
   ]
  },
  {
   "cell_type": "code",
   "execution_count": 19,
   "metadata": {
    "id": "25ee280b-dd2b-41e4-8da8-f741b94e1c73",
    "source-id": "0ed774d2-3bc2-461c-87ad-960d61a5a82d"
   },
   "outputs": [
    {
     "name": "stdout",
     "output_type": "stream",
     "text": [
      "found in permanent_cache\n"
     ]
    },
    {
     "data": {
      "text/plain": [
       "{'Similar': {'Info': [{'Name': 'Black Panther', 'Type': 'movie'}],\n",
       "  'Results': [{'Name': 'Captain Marvel', 'Type': 'movie'},\n",
       "   {'Name': 'Avengers: Infinity War', 'Type': 'movie'},\n",
       "   {'Name': 'Ant-Man And The Wasp', 'Type': 'movie'},\n",
       "   {'Name': 'The Fate Of The Furious', 'Type': 'movie'},\n",
       "   {'Name': 'Deadpool 2', 'Type': 'movie'}]}}"
      ]
     },
     "execution_count": 19,
     "metadata": {},
     "output_type": "execute_result"
    }
   ],
   "source": [
    "import json\n",
    "\n",
    "def get_movies_from_tastedive(movie):\n",
    "    param = {\"q\": movie, \"type\": \"movies\", \"limit\": 5}\n",
    "    td_response = requests_with_caching.get(\"https://tastedive.com/api/similar\", params = param)\n",
    "    py_data = json.loads(td_response.text)\n",
    "    return py_data\n",
    "\n",
    "get_movies_from_tastedive(\"Black Panther\")"
   ]
  },
  {
   "cell_type": "markdown",
   "metadata": {
    "id": "9c862e63-a204-45fa-94b7-7e0d0d02301c",
    "source-id": "daefc7de-9ea2-4712-a515-666b24bf9d8d"
   },
   "source": [
    "### Problem 1 Tests:"
   ]
  },
  {
   "cell_type": "code",
   "execution_count": 20,
   "metadata": {
    "id": "642df3dd-b437-4a80-9467-148702ffb5a2",
    "source-id": "d2979543-2d41-4134-9973-20c6db2c006c"
   },
   "outputs": [
    {
     "name": "stdout",
     "output_type": "stream",
     "text": [
      "found in permanent_cache\n",
      "found in permanent_cache\n",
      "found in permanent_cache\n",
      "found in permanent_cache\n",
      "found in permanent_cache\n",
      "{'Similar': {'Info': [{'Name': 'Tony Bennett', 'Type': 'music'}], 'Results': [{'Name': 'The Startup Kids', 'Type': 'movie'}, {'Name': 'Charlie Chaplin', 'Type': 'movie'}, {'Name': 'Venus In Fur', 'Type': 'movie'}, {'Name': 'Loving', 'Type': 'movie'}, {'Name': 'The African Queen', 'Type': 'movie'}]}}\n"
     ]
    }
   ],
   "source": [
    "# sample invocation\n",
    "get_movies_from_tastedive(\"Black Panther\")\n",
    "\n",
    "assert type(get_movies_from_tastedive(\"Black Panther\")) == dict\n",
    "\n",
    "assert get_movies_from_tastedive(\"Bridesmaids\")['Similar'][\"Info\"][0][\"Name\"] == \"Bridesmaids\"\n",
    "\n",
    "assert len(get_movies_from_tastedive(\"Black Panther\")['Similar']['Results']) == 5\n",
    "\n",
    "# check that only movies are returned unless we ask for something else\n",
    "results = get_movies_from_tastedive(\"Tony Bennett\")\n",
    "print(results)\n",
    "non_movies = [x for x in results['Similar'][\"Results\"] if x['Type'] != \"movie\"]\n",
    "assert non_movies == []"
   ]
  },
  {
   "cell_type": "markdown",
   "metadata": {
    "id": "cbb0990f-cb9b-417e-ac19-5290485fa3c7",
    "source-id": "38d2b5cc-a3d6-4f2f-9a5d-1a07cc359ea3"
   },
   "source": [
    "---\n",
    "## Problem 2\n",
    "Next, you will need to write a function that extracts movie titles. Call it ``extract_movie_titles``. It takes as input a dictionary that was returned by ``get_movies_from_tastedive``. ``extract_movie_titles`` should return a list containing just the titles of the movies."
   ]
  },
  {
   "cell_type": "code",
   "execution_count": 21,
   "metadata": {
    "id": "866bd7f5-1b9a-435b-aa2d-11ea7b47bbaa",
    "source-id": "512b73d3-0d87-41ea-83a4-c1ab36515750"
   },
   "outputs": [],
   "source": [
    "def extract_movie_titles(get_mov_dict):\n",
    "    mov_title = []\n",
    "    mov_info = get_mov_dict[\"Similar\"][\"Results\"]\n",
    "    for mov in mov_info:\n",
    "        mov_title.append(mov[\"Name\"])\n",
    "    return mov_title"
   ]
  },
  {
   "cell_type": "markdown",
   "metadata": {
    "id": "98e82350-e946-4bee-907f-c33db9acb93e",
    "source-id": "287778ba-e1d4-46f8-886e-6e93cbb6fb4b"
   },
   "source": [
    "### Problem 2 Tests:"
   ]
  },
  {
   "cell_type": "code",
   "execution_count": 22,
   "metadata": {
    "id": "58e69beb-9659-4b94-86cc-a9649acc5ce5",
    "source-id": "640a3c60-1264-409e-b9e3-5a5f41fa7d17"
   },
   "outputs": [
    {
     "name": "stdout",
     "output_type": "stream",
     "text": [
      "found in permanent_cache\n",
      "found in permanent_cache\n"
     ]
    }
   ],
   "source": [
    "extract_movie_titles(get_movies_from_tastedive(\"Tony Bennett\"))\n",
    "\n",
    "assert extract_movie_titles(get_movies_from_tastedive(\"Tony Bennett\")) == ['The Startup Kids', 'Charlie Chaplin', 'Venus In Fur', 'Loving', 'The African Queen']"
   ]
  },
  {
   "cell_type": "markdown",
   "metadata": {
    "id": "77c99917-3de6-49e2-928f-2237544c953e",
    "source-id": "ddb029e9-2a89-4544-b0f8-c4e06eabdd10"
   },
   "source": [
    "---\n",
    "## Problem 3\n",
    "Next, you'll write a function, called ``get_related_titles``. It takes *a list of movie titles* as input. It gets five related movies for each from TasteDive, extracts the titles for all of them, and combines them all into a single list. Don't include the same movie twice."
   ]
  },
  {
   "cell_type": "code",
   "execution_count": 23,
   "metadata": {
    "id": "be17bf76-dd26-4cc6-ba89-7a74d21e12f4",
    "source-id": "b1786306-1ff7-44a1-85ad-b14d3969e0f7"
   },
   "outputs": [],
   "source": [
    "def get_related_titles(mov_lst):\n",
    "    new_lst = []\n",
    "    for title in mov_lst:\n",
    "        x = get_movies_from_tastedive(title)\n",
    "        y = extract_movie_titles(x)\n",
    "        for movie in y:\n",
    "            if movie not in new_lst:\n",
    "                new_lst.append(movie)\n",
    "    return new_lst"
   ]
  },
  {
   "cell_type": "markdown",
   "metadata": {
    "id": "60522292-fd71-4396-84c7-24f1cad218d8",
    "source-id": "039f80b9-7c78-4361-a901-62556235355c"
   },
   "source": [
    "### Problem 3 Tests:"
   ]
  },
  {
   "cell_type": "code",
   "execution_count": 24,
   "metadata": {
    "id": "1e8b5063-e7c1-4f63-8fe1-851b48b97653",
    "source-id": "3e55c6c6-0aa8-4949-83da-5f7b4945f62f"
   },
   "outputs": [
    {
     "name": "stdout",
     "output_type": "stream",
     "text": [
      "found in permanent_cache\n",
      "found in permanent_cache\n"
     ]
    },
    {
     "data": {
      "text/plain": [
       "['Captain Marvel',\n",
       " 'Avengers: Infinity War',\n",
       " 'Ant-Man And The Wasp',\n",
       " 'The Fate Of The Furious',\n",
       " 'Deadpool 2',\n",
       " 'Inhumans',\n",
       " 'Venom',\n",
       " 'American Assassin',\n",
       " 'Black Panther']"
      ]
     },
     "execution_count": 24,
     "metadata": {},
     "output_type": "execute_result"
    }
   ],
   "source": [
    "get_related_titles([\"Black Panther\", \"Captain Marvel\"])"
   ]
  },
  {
   "cell_type": "code",
   "execution_count": 25,
   "metadata": {
    "id": "1bcdcb5d-6a5d-4483-a6f7-999a1cb5249f",
    "source-id": "d057cc85-5849-43fd-af45-a5d1eb9f1dfe"
   },
   "outputs": [],
   "source": [
    "assert get_related_titles([]) == []"
   ]
  },
  {
   "cell_type": "code",
   "execution_count": 26,
   "metadata": {
    "id": "c6952bf1-0ed9-48c1-bba7-d213060cf7cb",
    "source-id": "7031b8d8-0154-429c-8f5d-8b8b3f29205f"
   },
   "outputs": [
    {
     "name": "stdout",
     "output_type": "stream",
     "text": [
      "found in permanent_cache\n",
      "found in permanent_cache\n"
     ]
    }
   ],
   "source": [
    "assert get_related_titles([\"Black Panther\", \"Captain Marvel\"]) == ['Captain Marvel', 'Avengers: Infinity War', 'Ant-Man And The Wasp', 'The Fate Of The Furious', 'Deadpool 2', 'Inhumans', 'Venom', 'American Assassin', 'Black Panther']"
   ]
  },
  {
   "cell_type": "markdown",
   "metadata": {
    "id": "618533b9-2b29-4c78-a29f-e716bbff4ad2",
    "source-id": "21b91d7b-ff8b-4342-8270-4fa17c114139"
   },
   "source": [
    "## OMDB"
   ]
  },
  {
   "cell_type": "markdown",
   "metadata": {
    "id": "af0f7308-b972-4035-b248-b4edf69773ce",
    "source-id": "616e3dc8-9585-4a4f-8b4d-ff003dd3aa73"
   },
   "source": [
    "---\n",
    "## Problem 4: OMDB `get_movie_data`\n",
    "Your next task will be to fetch data from OMDB. The documentation for the API is at https://www.omdbapi.com/\n",
    "\n",
    "Define a function called ``get_movie_data``. It takes in one parameter which is a string that should represent the title of a movie you want to search. The function should return a dictionary with information about that movie.\n",
    "\n",
    "Again, use ``requests_with_caching.get()``. For the queries on movies that are already in the cache, you *won't* need an api key. You will need to provide the following keys: ``t`` and ``r``. As with the TasteDive cache, be sure to **only** include those two parameters in order to extract existing data from the cache."
   ]
  },
  {
   "cell_type": "code",
   "execution_count": 27,
   "metadata": {
    "id": "f7c15dee-e8e2-4b31-8d19-185abef1ad22",
    "source-id": "862ca0f8-f6fc-4935-959a-987d1bf5a2cb"
   },
   "outputs": [],
   "source": [
    "def get_movie_data(mov_title):\n",
    "    param = {\"t\": mov_title, \"r\": \"json\"}\n",
    "    omdb_response = requests_with_caching.get(\"http://www.omdbapi.com/\", params=param)\n",
    "    info = json.loads(omdb_response.text)\n",
    "    return info"
   ]
  },
  {
   "cell_type": "markdown",
   "metadata": {
    "id": "0229dff3-6175-42da-9d28-cbbeb0ce2a28",
    "source-id": "e10f0365-f204-461a-b27b-25e8e15bc087"
   },
   "source": [
    "### Problem 4 Tests"
   ]
  },
  {
   "cell_type": "code",
   "execution_count": 28,
   "metadata": {
    "id": "44320e72-ca8a-4684-a07e-c8062119f978",
    "source-id": "25a0a1ce-de19-458a-90e5-c25a06d68f10"
   },
   "outputs": [
    {
     "name": "stdout",
     "output_type": "stream",
     "text": [
      "found in permanent_cache\n",
      "found in permanent_cache\n",
      "found in permanent_cache\n",
      "http://www.ombdapi.com/?apikey=5df43a8e&t=Bridesmaids&r=json\n",
      "found in page-specific cache\n"
     ]
    },
    {
     "data": {
      "text/plain": [
       "{'Response': 'False', 'Error': 'No API key provided.'}"
      ]
     },
     "execution_count": 28,
     "metadata": {},
     "output_type": "execute_result"
    }
   ],
   "source": [
    "get_movie_data(\"Venom\")\n",
    "\n",
    "assert type(get_movie_data(\"Venom\")) == dict\n",
    "\n",
    "assert get_movie_data(\"Baby Mama\")[\"Title\"] == \"Baby Mama\"\n",
    "print(\"http://www.ombdapi.com/?apikey=5df43a8e&t=Bridesmaids&r=json\")\n",
    "get_movie_data(\"Bridesmaids\")"
   ]
  },
  {
   "cell_type": "markdown",
   "metadata": {
    "id": "4b9d3da4-99c9-4df7-a11b-107b4ebe61d9",
    "source-id": "a6455502-96c9-40b8-b1f0-49280a57b842"
   },
   "source": [
    "---\n",
    "## Problem 5: OMDB `get_movie_rating`\n",
    "Now write a function called ``get_movie_rating``. It takes an OMDB dictionary result for one movie and extracts the Rotten Tomatoes rating as an integer. For example, if given the OMDB dictionary for `\"Black Panther\"`, it would return `97`. If there is no Rotten Tomatoes rating, return `0`."
   ]
  },
  {
   "cell_type": "code",
   "execution_count": 29,
   "metadata": {
    "id": "e25dd3c1-bf78-4ceb-a45c-2f6a62e1a61b",
    "source-id": "518cb21e-c24f-4d26-980f-72fed019686f"
   },
   "outputs": [],
   "source": [
    "def get_movie_rating(omdb_dict):\n",
    "    strRating=\"\"\n",
    "    for typeRatingList in omdb_dict[\"Ratings\"]:\n",
    "        if typeRatingList[\"Source\"]== \"Rotten Tomatoes\":\n",
    "            strRating = typeRatingList[\"Value\"]\n",
    "    if strRating != \"\":\n",
    "        rating = int(strRating[:2])\n",
    "    else:\n",
    "        rating = 0\n",
    "    return rating"
   ]
  },
  {
   "cell_type": "markdown",
   "metadata": {
    "id": "4225b777-6779-4a93-b096-3ad81a70f4e1",
    "source-id": "1b634ec4-8748-4c3c-9986-027f2d559e69"
   },
   "source": [
    "### Problem 5 Tests:"
   ]
  },
  {
   "cell_type": "code",
   "execution_count": 30,
   "metadata": {
    "id": "89ab4c50-b156-43b5-8aeb-f632df3f006a",
    "source-id": "20056645-ccba-496c-8645-04e8cbe9994c"
   },
   "outputs": [
    {
     "name": "stdout",
     "output_type": "stream",
     "text": [
      "found in permanent_cache\n",
      "found in permanent_cache\n",
      "found in permanent_cache\n",
      "found in permanent_cache\n"
     ]
    }
   ],
   "source": [
    "get_movie_rating(get_movie_data(\"Deadpool 2\"))\n",
    "\n",
    "assert type(get_movie_rating(get_movie_data(\"Deadpool 2\"))) == int\n",
    "\n",
    "assert get_movie_rating(get_movie_data(\"Venom\")) == 0\n",
    "\n",
    "assert get_movie_rating(get_movie_data(\"Deadpool 2\")) == 83"
   ]
  },
  {
   "cell_type": "markdown",
   "metadata": {
    "id": "07540f7f-f3dd-46c8-a0e3-da6e069b51bd",
    "source-id": "aac8d8ab-51f7-4ef2-b29f-6b3f005b6284"
   },
   "source": [
    "---\n",
    "## Problem 6: OMDB `get_sorted_recommendations`\n",
    "\n",
    "Now, you'll put it all together. Define a function ``get_sorted_recommendations``. It takes a list of movie titles as an input. It returns a sorted list of related movie titles as output, up to five related movies for each input movie title. The movies should be sorted in descending order by their Rotten Tomatoes rating, as returned by the ``get_movie_rating`` function. Break ties in reverse alphabetic order, so that `'Yahşi Batı'` comes before `'Eyyvah Eyvah'`."
   ]
  },
  {
   "cell_type": "code",
   "execution_count": 31,
   "metadata": {
    "id": "66025292-7576-4540-af20-5afad1c79a57",
    "source-id": "0a7d5960-2986-4553-9eb1-91d7d3f11222"
   },
   "outputs": [],
   "source": [
    "def get_sorted_recommendations(movie_titles_lst):\n",
    "    list_movie= get_related_titles(movie_titles_lst)\n",
    "    list_movie= sorted(list_movie, key = lambda movie_name: (get_movie_rating(get_movie_data(movie_name)), movie_name), reverse=True)\n",
    "    \n",
    "    return list_movie"
   ]
  },
  {
   "cell_type": "markdown",
   "metadata": {
    "id": "df9f9eb9-524e-4da3-97d4-75cfd005eddc",
    "source-id": "2b62cfb2-00fa-4d8e-9336-896bced52ce9"
   },
   "source": [
    "#### Problem 6 Tests"
   ]
  },
  {
   "cell_type": "code",
   "execution_count": 32,
   "metadata": {
    "id": "9289d66a-ca88-44d2-b28f-6cd720024e96",
    "source-id": "e1b240f4-f541-4f87-b986-d45f1786e94e"
   },
   "outputs": [
    {
     "name": "stdout",
     "output_type": "stream",
     "text": [
      "found in permanent_cache\n",
      "found in permanent_cache\n",
      "found in permanent_cache\n",
      "found in permanent_cache\n",
      "found in permanent_cache\n",
      "found in permanent_cache\n",
      "found in permanent_cache\n",
      "found in permanent_cache\n",
      "found in permanent_cache\n",
      "found in permanent_cache\n",
      "found in permanent_cache\n",
      "found in permanent_cache\n"
     ]
    }
   ],
   "source": [
    "sample_actual_recommendations = get_sorted_recommendations([\"Bridesmaids\", \"Sherlock Holmes\"])\n",
    "assert type(sample_actual_recommendations) == list\n",
    "assert sample_actual_recommendations == ['Date Night', 'The Heat', 'Baby Mama', 'The Five-Year Engagement', 'Sherlock Holmes: A Game Of Shadows', 'Bachelorette', 'Prince Of Persia: The Sands Of Time', 'Pirates Of The Caribbean: On Stranger Tides', 'Yahşi Batı', 'Eyyvah Eyvah']"
   ]
  },
  {
   "cell_type": "markdown",
   "metadata": {
    "id": "588ba8ee-31fe-4e13-b07c-a90f682809b4",
    "source-id": "7b2a55ae-24d0-4594-8ee0-c03b8e4aa4bd"
   },
   "source": [
    "---\n",
    "## Problem 7 (Demonstrate Your Understanding)\n",
    "\n",
    "For this problem, you will show that you understand how to look at API documentation and write code to reference an API. Look at [this list of public APIs](https://github.com/public-apis/public-apis). Select an API **that we have not used in problem sets, discussion sections, or the textbook** where \"Auth\" is either \"No\" or \"`apiKey`\" and write code that references that API. Your code should pass in at least one variable parameter to the API (meaning that you should select an API that accepts parameters)."
   ]
  },
  {
   "cell_type": "code",
   "execution_count": null,
   "metadata": {
    "id": "3fa1d28d-bb4b-4d03-82f9-3bb57875c774",
    "source-id": "2c1275d7-2c6d-40bf-8d31-3bd102e15f4b"
   },
   "outputs": [],
   "source": []
  },
  {
   "cell_type": "markdown",
   "metadata": {
    "id": "bc491fa0-222f-496c-b3c6-f131c6d1f56a",
    "source-id": "b6b07617-e144-41de-8b73-67de64d4d47f"
   },
   "source": [
    "---\n",
    "## Problem 8 (Look Ahead to Exceptions)\n",
    "\n",
    "In plain English, explain what the `getInteger` function below does. What is the role of the `try` and `except` blocks?\n",
    "\n",
    "```python\n",
    "def getInteger(low=0, high=100):\n",
    "    while True:\n",
    "        user_inp = input('Enter a number between {} and {}'.format(low, high))\n",
    "        try:\n",
    "            val = int(user_inp)\n",
    "        except ValueError:\n",
    "            print('Enter an integer!')\n",
    "            continue\n",
    "        if val >= low and val <= high:\n",
    "            return val\n",
    "```"
   ]
  },
  {
   "cell_type": "markdown",
   "metadata": {
    "id": "055560bd-d2c1-45d9-87c2-7886a72fc18c",
    "source-id": "a7ac0dce-8e68-45c1-bab6-fda1728ae087"
   },
   "source": [
    "It will keep asking for a number between 0 and 100 (defaultly, you can change it using optional paramaters while invoking the function) until you input one and then returns that value. Try is used to run the function and except is used to deal with the situation, when there's a ValueError (e.g. you write a string). If you write e.g. the string, the function will print an Error message, asking for an integer and will run the function again."
   ]
  },
  {
   "cell_type": "markdown",
   "metadata": {
    "id": "b0758066-b820-4fd2-bf84-cbafaf02e478",
    "source-id": "2cd5f392-114f-46e2-9a47-da66c7015b6c"
   },
   "source": [
    "---\n",
    "---\n",
    "## Collaborators and Sources of Help\n",
    "In this markdown cell, list names of any people you worked with or got help from, and provide links to or descriptions of any external resources you consulted."
   ]
  },
  {
   "cell_type": "markdown",
   "metadata": {
    "id": "1d969182-bf62-4fbb-9628-547e0bf248f1",
    "source-id": "6c6b5343-0994-4276-83b7-39af99d04c82"
   },
   "source": [
    "- List your collaborators here"
   ]
  },
  {
   "cell_type": "markdown",
   "metadata": {
    "id": "5c67c5a3-b03b-42d1-b97e-24585ffbd72f",
    "source-id": "2590df92-5191-4352-8f44-72df0e648d08"
   },
   "source": [
    "## Upload your solutions to Canvas\n",
    "\n",
    "Upload your .ipynb file to Canvas.\n",
    "\n",
    "*Note: You may submit any number of times before the deadline*"
   ]
  },
  {
   "cell_type": "markdown",
   "metadata": {
    "id": "24d674b3-e669-40f7-a4d5-26516075285d",
    "source-id": "f293f82f-1a64-4dbf-a38a-57f31ad77663"
   },
   "source": [
    "\n",
    "    MMMMMMMMMMMMMMMMMMMMMMMMMMMMMMMMMMMMMMMMMMMMMMMMMMMMMMMMMMMM\n",
    "    MMMMMMMMMMMMMMMMMMMMMMMMMMMMMMMMMMMMMMMMMMMMMMMMMMMMMMMMMMMM\n",
    "    MMMMMMMMMMMMMMMMMMMMMMMMMMMMMMMMMMMMMMMMMMMMMMMMMMMMMMMMMMMM\n",
    "    MMMMMMMMMMMMMMMMMMMMMMMMMMMMMMMMMMMMMMMMMMMMMMMMMMMMMMMMMMMM\n",
    "    MMMMMMMM             MMMMMMMMMMMMMMMMM             MMMMMMMMM\n",
    "    MMMMMMMM              MMMMMMMMMMMMMMM              MMMMMMMMM\n",
    "    MMMMMMMM                MMMMMMMMMMM                MMMMMMMMM\n",
    "    MMMMMMMM                 MMMMMMMMM                 MMMMMMMMM\n",
    "    MMMMMMMM                  MMMMMMM                  MMMMMMMMM\n",
    "    MMMMMMMMMMMM               MMMMM                MMMMMMMMMMMM\n",
    "    MMMMMMMMMMMM                MMM                 MMMMMMMMMMMM\n",
    "    MMMMMMMMMMMM                 V                  MMMMMMMMMMMM\n",
    "    MMMMMMMMMMMM                                    MMMMMMMMMMMM\n",
    "    MMMMMMMMMMMM         ^               ^          MMMMMMMMMMMM\n",
    "    MMMMMMMMMMMM         MM             MM          MMMMMMMMMMMM\n",
    "    MMMMMMMMMMMM         MMMM         MMMM          MMMMMMMMMMMM\n",
    "    MMMMMMMMMMMM         MMMMM       MMMMM          MMMMMMMMMMMM\n",
    "    MMMMMMMMMMMM         MMMMMM     MMMMMM          MMMMMMMMMMMM\n",
    "    MMMMMMMM                MMMM   MMMM                MMMMMMMMM\n",
    "    MMMMMMMM                MMMMMVMMMMM                MMMMMMMMM\n",
    "    MMMMMMMM                MMMMMMMMMMM                MMMMMMMMM\n",
    "    MMMMMMMM                MMMMMMMMMMM                MMMMMMMMM\n",
    "    MMMMMMMM                MMMMMMMMMMM                MMMMMMMMM\n",
    "    MMMMMMMMMMMMMMMMMMMMMMMMMMMMMMMMMMMMMMMMMMMMMMMMMMMMMMMMMMMM\n",
    "    MMMMMMMMMMMMMMMMMMMMMMMMMMMMMMMMMMMMMMMMMMMMMMMMMMMMMMMMMMMM\n",
    "    MMMMMMMMMMMMMMMMMMMMMMMMMMMMMMMMMMMMMMMMMMMMMMMMMMMMMMMMMMMM\n",
    "    MMMMMMMMMMMMMMMMMMMMMMMMMMMMMMMMMMMMMMMMMMMMMMMMMMMMMMMMMMMM\n",
    "    MMMMMMMMMMMMMMMMMMMMMMMMMMMMMMMMMMMMMMMMMMMMMMMMMMMMMMMMMMMM  "
   ]
  }
 ],
 "metadata": {
  "env": {
   "filename": "PS 8.ipynb",
   "points": 4,
   "problem": 9,
   "totalpoints": 35,
   "totalproblems": 8
  },
  "exam_gen_problems": [
   "ffe6be4b-85fd-4f7b-ba3e-97af1e9b78cb",
   "75af2727-8c03-449b-8cf3-527691a39e7a",
   "38d2b5cc-a3d6-4f2f-9a5d-1a07cc359ea3",
   "ddb029e9-2a89-4544-b0f8-c4e06eabdd10",
   "616e3dc8-9585-4a4f-8b4d-ff003dd3aa73",
   "a6455502-96c9-40b8-b1f0-49280a57b842",
   "aac8d8ab-51f7-4ef2-b29f-6b3f005b6284",
   "7b2a55ae-24d0-4594-8ee0-c03b8e4aa4bd",
   "b6b07617-e144-41de-8b73-67de64d4d47f",
   "2cd5f392-114f-46e2-9a47-da66c7015b6c"
  ],
  "kernelspec": {
   "display_name": "Python 3",
   "language": "python",
   "name": "python3"
  },
  "language_info": {
   "codemirror_mode": {
    "name": "ipython",
    "version": 3
   },
   "file_extension": ".py",
   "mimetype": "text/x-python",
   "name": "python",
   "nbconvert_exporter": "python",
   "pygments_lexer": "ipython3",
   "version": "3.8.5"
  }
 },
 "nbformat": 4,
 "nbformat_minor": 4
}
