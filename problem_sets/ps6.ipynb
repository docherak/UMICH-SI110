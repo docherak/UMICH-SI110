{
 "cells": [
  {
   "cell_type": "markdown",
   "metadata": {
    "id": "2e17cab2-d478-4b39-979a-5cceff8c2188",
    "source-id": "0f67b68b-a8e4-442f-b4ac-81a426800374"
   },
   "source": [
    "# SI 106 Problem Set 6\n",
    "\n",
    "Primary Topics:\n",
    "- Advanced Functions (keyword & optional parameters, lambda expressions)\n",
    "- Indefinite Iteration (`while` loops)\n",
    "\n",
    "Lookahead Topics:\n",
    "- Sorting\n",
    "- Nested Data, Nested Iteration, JSON\n",
    "- Internet APIs I\n",
    "\n",
    "---\n",
    "---"
   ]
  },
  {
   "cell_type": "markdown",
   "metadata": {
    "id": "d23d1603-65f4-4867-adb1-6c52d572bbe2",
    "source-id": "c0fa2ddb-430a-4d39-b584-8c92ab5aeaa7"
   },
   "source": [
    "# PART 1\n",
    "\n",
    "In this problem, you'll build components and then a complete program that lets people play Hangman.\n",
    "Below is an image from the middle of a game...In the next few questions, you’ll build components and then a complete program that lets people play Hangman.\n",
    "Below is an image from the middle of a game...\n",
    "\n",
    "![Hangman Gameplay](./hangman_gameplay.png)\n",
    "\n",
    "See the flow chart below for a better understanding of what's happening in the code for the Hangman game overall.\n",
    "\n",
    "![Hangman Flowchart](./HangmanFlowchart.jpg)\n",
    "\n",
    "Your first task is just to understand the logic of the program, by matching up elements of the flow chart above with elements of the code below. In later problems, you'll fill in a few details that aren't fully implemented here.  \n",
    "\n",
    "You may find it helpful to run the `play()` function in order to understand it. It will tell you feedback about your last guess, but won't tell you where the correct letters were or how much health you have, and it won't stop if you guess all the letters, so you can't *really* play with this version of the code. Adding the missing elements is what you'll do in later problems!\n",
    "\n",
    "Don't change any code in the cell below!"
   ]
  },
  {
   "cell_type": "code",
   "execution_count": 1,
   "metadata": {
    "id": "e597e673-15f6-423f-9d51-a525fc0ddb1c",
    "source-id": "c343f403-a8d7-4c6e-a28e-e91405c2370b"
   },
   "outputs": [],
   "source": [
    "# DON'T CHANGE ANY CODE IN THIS CELL!\n",
    "import random\n",
    "def blanked(word, guesses):\n",
    "    return \"TODO: implement the blanked function\"\n",
    "\n",
    "def health_prompt(current, max_health):\n",
    "    return \"TODO: implement the health_prompt function\"\n",
    "\n",
    "def game_state_prompt(txt, health, max_health, word, guesses):\n",
    "    res = \"\\n\" + txt + \"\\n\"\n",
    "    res = res + health_prompt(health, max_health) + \"\\n\"\n",
    "    if guesses != \"\":\n",
    "        res = res + \"Guesses so far: \" + guesses.upper() + \"\\n\"\n",
    "    else:\n",
    "        res = res + \"No guesses so far\" + \"\\n\"\n",
    "    res = res + \"Word: \" + blanked(word, guesses) + \"\\n\"\n",
    "\n",
    "    return(res)\n",
    "\n",
    "\n",
    "def play(max_health):\n",
    "    health = max_health\n",
    "    with open('words.txt') as words_file:\n",
    "        secret_word = random.choice(words_file.readlines()).strip().upper() # everything in all capitals to avoid mismatch of caps vs. lower case\n",
    "    guesses_so_far = \"\"\n",
    "    game_over = False\n",
    "\n",
    "    feedback = \"let's get started\"\n",
    "\n",
    "    # Now interactively ask the (other) user to guess\n",
    "    while (game_over == False):\n",
    "        prompt = game_state_prompt(feedback, health, max_health, secret_word, guesses_so_far)\n",
    "        next_guess = input(prompt)\n",
    "        next_guess = next_guess.upper()\n",
    "        feedback = \"\"\n",
    "        if len(next_guess) != 1:\n",
    "            feedback = \"I only understand single letter guesses. Please try again.\"\n",
    "        elif next_guess in guesses_so_far:\n",
    "            feedback = \"You already guessed that\"\n",
    "        else:\n",
    "            guesses_so_far = guesses_so_far + next_guess\n",
    "            if next_guess in secret_word:\n",
    "                if blanked(secret_word, guesses_so_far) == secret_word:\n",
    "                    feedback = \"Congratulations\"\n",
    "                    game_over = True\n",
    "                else:\n",
    "                    feedback = \"Yes, that letter is in the word\"\n",
    "            else: # next_guess is not in the word secret_word\n",
    "                feedback = \"Sorry, \" + next_guess + \" is not in the word.\"\n",
    "                health = health - 1\n",
    "                if health <= 0:\n",
    "                    feedback = \"Waah, waah, waah. Game over.\"\n",
    "                    game_over= True\n",
    "\n",
    "    print(feedback)\n",
    "    print(\"The word was...\" + secret_word)"
   ]
  },
  {
   "cell_type": "markdown",
   "metadata": {
    "id": "25e294be-d705-48cb-a629-e049a5309eb0",
    "source-id": "7d84453c-239f-4b26-9451-43810afb139a"
   },
   "source": [
    "# Problem 1\n",
    "\n",
    "Answer the questions below. (The answers should be a number or numbers that corresponds to a line or lines of code in the Hangman game code above!)\n",
    "\n",
    "Click (View -> Toggle Line Numbers) to show line numbers.Click (View -> Toggle Line Numbers) to show line numbers."
   ]
  },
  {
   "cell_type": "markdown",
   "metadata": {
    "id": "b265cc2c-a4fb-4d9c-b363-6d8b29fc4e38",
    "source-id": "53d51930-5d0b-4ee4-afdd-90b608b455d4"
   },
   "source": [
    "1. What line(s) of code in the above code window do what's mentioned in the flowchart's Box 1?\n",
    "*??*\n",
    "\n",
    "2. What line(s) of code do what's mentioned in Box 2?\n",
    "*??*\n",
    "\n",
    "3. What line(s) of code do what's mentioned in Box 3?\n",
    "*??*\n",
    "\n",
    "4. What line(s) of code do what's mentioned in Box 4?\n",
    "*??*\n",
    "\n",
    "5. What line(s) of code do what's mentioned in Box 5?\n",
    "*??*\n",
    "\n",
    "6. What line(s) of code do what's mentioned in Box 6?\n",
    "*??*\n",
    "\n",
    "7. What line(s) of code do what's mentioned in Box 7?\n",
    "*??*\n",
    "\n",
    "8. What line(s) of code do what's mentioned in Box 8?\n",
    "*??*\n",
    "\n",
    "9. What line(s) of code do what's mentioned in Box 9?\n",
    "*??*\n",
    "\n",
    "10. What line(s) of code do what's mentioned in Box 10?\n",
    "*??*\n",
    "\n",
    "11. What line(s) of code do what's mentioned in Box 11?\n",
    "*??*"
   ]
  },
  {
   "cell_type": "markdown",
   "metadata": {
    "id": "a29197e8-0989-468b-b1ff-9ada8e91a121",
    "source-id": "151555e4-90f2-4bb1-89ba-f085ba03d5d4"
   },
   "source": [
    "# Problem 2: define `blanked()`\n",
    "\n",
    "The next task you have is to create a correct version of the ``blanked`` function. You don't need to delete the definition in the code cell above. It's OK to have a second definition; the last definition that is executed is the one that will be used.\n",
    "\n",
    "It should take 2 inputs: a word, and a string of the letters that have been guessed already. \n",
    "\n",
    "It should return a string with the same number of characters as the word, but with the *unrevealed* characters replaced by an underscore (``_``). \n",
    "\n",
    "**HINT:** Iterate through the letters in the word, accumulating characters as you go. If you try to iterate through the guesses, it's harder."
   ]
  },
  {
   "cell_type": "code",
   "execution_count": 2,
   "metadata": {
    "id": "9c9f87cc-c213-4fc4-88b4-769919d86aa7",
    "source-id": "4dc4f99c-ea45-4ac4-a06d-7650f7dcf267"
   },
   "outputs": [],
   "source": [
    "def blanked(word, guesses):\n",
    "    string = \"\"\n",
    "    for letter in word:\n",
    "        if letter in guesses:\n",
    "            string += letter\n",
    "        else:\n",
    "            string += \"_\"\n",
    "    return string"
   ]
  },
  {
   "cell_type": "markdown",
   "metadata": {
    "id": "b783cf1a-570e-46e2-9d0f-f2d0cc383e41",
    "source-id": "22f8f9c3-d3b1-49c5-be04-03343801b305"
   },
   "source": [
    "### Problem 2 Tests:"
   ]
  },
  {
   "cell_type": "code",
   "execution_count": 3,
   "metadata": {
    "id": "dfdd88a6-3096-47ef-b40c-940be4cfb891",
    "source-id": "ba16a0c4-8c1a-4636-8e48-e99952191db3"
   },
   "outputs": [],
   "source": [
    "assert blanked('hello', 'elj') == \"_ell_\", \"testing blanking of hello when e,l, and j have been guessed.\"\n",
    "assert blanked('hello', '') == '_____', \"testing blanking of hello when nothing has been guessed.\"\n",
    "assert blanked('ground', 'rn') == '_r__n_', \"testing blanking of ground when r and n have been guessed.\"\n",
    "assert blanked('almost', 'vrnalmqpost') == 'almost', \"testing blanking of almost when all the letters have been guessed.\""
   ]
  },
  {
   "cell_type": "markdown",
   "metadata": {
    "id": "724eb4a1-b7c9-41b0-9b42-674340437918",
    "source-id": "bf03ac19-8b42-4570-8f82-f521d4c47527"
   },
   "source": [
    "# Problem 3: define `health_prompt()`\n",
    "\n",
    "Now you have to create a good version of the ``health_prompt`` function: \n",
    "\n",
    "Define a function called ``health_prompt``. The first parameter should be the current health the player has (an integer), and the second parameter should be the maximum health a player can have (an integer). \n",
    "\n",
    "The function should return a string with ``+`` signs for the current health, and ``-`` signs for the health that has been lost so far."
   ]
  },
  {
   "cell_type": "code",
   "execution_count": 4,
   "metadata": {
    "id": "7efd6bc2-d40c-4be2-8c1b-110234d1bdd3",
    "source-id": "3b2ea944-9b08-4855-98a8-e2d21eee20dd"
   },
   "outputs": [],
   "source": [
    "def health_prompt(current, max_health):\n",
    "    plus_symbol = current * '+'\n",
    "    minus_symbol = (max_health - current) * '-'\n",
    "    return plus_symbol + minus_symbol"
   ]
  },
  {
   "cell_type": "markdown",
   "metadata": {
    "id": "bd5d3002-9402-4adb-9ab2-c7e96e21aac5",
    "source-id": "cb9cded1-fdd6-41ff-9766-ffc3c9e34fb8"
   },
   "source": [
    "### Problem 3 Tests:"
   ]
  },
  {
   "cell_type": "code",
   "execution_count": 5,
   "metadata": {
    "id": "e413d934-a6e3-4469-a4d7-09da8bbe8298",
    "source-id": "8e255053-521e-4ee8-862c-08bf9f051384"
   },
   "outputs": [],
   "source": [
    "assert health_prompt(3,7) == \"+++----\", \"Testing health_prompt(3,7)\"\n",
    "assert health_prompt(0,4) == \"----\", \"Testing health_prompt(0,4)\"\n",
    "assert health_prompt(5,5) == \"+++++\", \"Testing health_prompt(5,5)\""
   ]
  },
  {
   "cell_type": "markdown",
   "metadata": {
    "id": "e51c8bc6-643e-4aff-9e76-d842f1bade91",
    "source-id": "d2011c2b-15a5-498f-bc5a-8113e9d6cbe3"
   },
   "source": [
    "# Play the game\n",
    "\n",
    "Invoke `play()` passing in whatever starting health level you would like."
   ]
  },
  {
   "cell_type": "code",
   "execution_count": 6,
   "metadata": {
    "id": "e9ffc773-b508-47bf-a942-d055ab70149e",
    "source-id": "cd4f1a89-4b41-4c6b-b420-d2d44158cb91"
   },
   "outputs": [
    {
     "name": "stdout",
     "output_type": "stream",
     "text": [
      "\n",
      "let's get started\n",
      "+++++\n",
      "No guesses so far\n",
      "Word: _______\n",
      "e\n",
      "\n",
      "Yes, that letter is in the word\n",
      "+++++\n",
      "Guesses so far: E\n",
      "Word: ___E___\n",
      "a\n",
      "\n",
      "Yes, that letter is in the word\n",
      "+++++\n",
      "Guesses so far: EA\n",
      "Word: ___EA__\n",
      "r\n",
      "\n",
      "Yes, that letter is in the word\n",
      "+++++\n",
      "Guesses so far: EAR\n",
      "Word: __REA__\n",
      "t\n",
      "\n",
      "Yes, that letter is in the word\n",
      "+++++\n",
      "Guesses so far: EART\n",
      "Word: T_REAT_\n",
      "h\n",
      "\n",
      "Yes, that letter is in the word\n",
      "+++++\n",
      "Guesses so far: EARTH\n",
      "Word: THREAT_\n",
      "s\n",
      "Congratulations\n",
      "The word was...THREATS\n"
     ]
    }
   ],
   "source": [
    "play(5)"
   ]
  },
  {
   "cell_type": "markdown",
   "metadata": {
    "id": "a3be22b2-dac7-4565-99dc-65cdcee0ccfd",
    "source-id": "6917d4f0-ec24-4f34-947c-4dfaa964a3f0"
   },
   "source": [
    "# PART 2"
   ]
  },
  {
   "cell_type": "markdown",
   "metadata": {
    "id": "1c8d6aca-cd9a-49e9-81b9-f4fb8ee33ab0",
    "source-id": "02c08256-65ab-47f2-be66-f9acb0f2f012"
   },
   "source": [
    "---\n",
    "## Problem 4 \n",
    "\n",
    "Write a function `biggestAndRest` that accepts one argument---a list containing integers. `biggestAndRest` should then return a tuple with two items: (1) the **largest** integer in the original list and (2) a nested list containing the rest of the items in the original list (in any order).\n",
    "\n",
    "For example, `biggestAndRest([3,1,4,2])` should return `(4, [3,2,1])` (but it's OK if the second item is in a different order).\n",
    "\n",
    "Hint: one way to approach this problem is by finding the **index** of the largest item, making a clone of the original list (using `[:]` slicing), and removing that index from the cloned list using `del`."
   ]
  },
  {
   "cell_type": "code",
   "execution_count": 7,
   "metadata": {
    "id": "812cb340-7f10-433e-bb8e-01b1e08dd480",
    "source-id": "320e45ac-7298-4190-83f0-2d82d8c18dcd"
   },
   "outputs": [],
   "source": [
    "def biggestAndRest(int_lst):\n",
    "    int_lst_sorted = sorted(int_lst, reverse = True)\n",
    "    return (int_lst_sorted[0],int_lst_sorted[1:])"
   ]
  },
  {
   "cell_type": "markdown",
   "metadata": {
    "id": "2231eee8-8c6a-480b-965a-fab7c7dcb583",
    "source-id": "bcae931f-1532-4afc-844f-773f50a8b36e"
   },
   "source": [
    "### Problem 4 Tests:"
   ]
  },
  {
   "cell_type": "code",
   "execution_count": 8,
   "metadata": {
    "id": "293724e9-a182-4ecc-9dd2-9b5b6da0b29b",
    "source-id": "4d43fd97-3881-439a-b42b-809499122ecc"
   },
   "outputs": [],
   "source": [
    "L = [3, 1, 4, 2]\n",
    "assert biggestAndRest(L)[0] == 4\n",
    "assert sorted(biggestAndRest(L)[1]) == sorted([1, 2, 3])\n",
    "assert L == [3, 1, 4, 2], \"Making sure biggestAndRest does not mutate the original list\"\n",
    "assert biggestAndRest([106]) == (106, [])"
   ]
  },
  {
   "cell_type": "markdown",
   "metadata": {
    "id": "e94de6cb-6fb2-4fa9-b1d3-ba2294c24525",
    "source-id": "77307255-84ab-4010-b6c2-65359b9b2b71"
   },
   "source": [
    "---\n",
    "## Problem 5\n",
    "Define a function `getNumberList` that repeatedly asks users to enter a number until they enter `'q'`. After the user enters `'q'`, `getNumberList` should return a list of the integers the user entered.\n",
    "\n",
    "An example interaction:\n",
    "\n",
    "(`getNumberList()` called)\n",
    "```text\n",
    "Enter a number:\n",
    "  > 10\n",
    "Enter a number:\n",
    "  > 5\n",
    "Enter a number:\n",
    "  > 3\n",
    "Enter a number:\n",
    "  > q\n",
    "```\n",
    "(`getNumberList()` returns `[10, 5, 3]`)"
   ]
  },
  {
   "cell_type": "code",
   "execution_count": 9,
   "metadata": {
    "id": "cfec6b78-ce0b-40e1-8ee5-3fe5598886fe",
    "source-id": "3f27ebc7-09d0-4c1a-a199-ca3082d89a9b"
   },
   "outputs": [
    {
     "name": "stdout",
     "output_type": "stream",
     "text": [
      "Enter a number (or \"q\" when done): 10\n",
      "Enter a number (or \"q\" when done): 5\n",
      "Enter a number (or \"q\" when done): 3\n",
      "Enter a number (or \"q\" when done): q\n"
     ]
    },
    {
     "data": {
      "text/plain": [
       "[10, 5, 3]"
      ]
     },
     "execution_count": 9,
     "metadata": {},
     "output_type": "execute_result"
    }
   ],
   "source": [
    "def getNumberList():\n",
    "    add_integer = True\n",
    "    lst = []\n",
    "    while add_integer:\n",
    "        string = input('Enter a number (or \"q\" when done): ')\n",
    "        if string != 'q':\n",
    "            num = int(string)\n",
    "            lst.append(num)    \n",
    "        else:\n",
    "            add_integer = False\n",
    "    return lst\n",
    "            \n",
    "getNumberList()"
   ]
  },
  {
   "cell_type": "code",
   "execution_count": 10,
   "metadata": {
    "id": "15da31d7-9bd9-4ed8-b6bb-484f982d7ff1",
    "source-id": "eb6e69fc-beb9-4e76-b17f-291d1912f12b"
   },
   "outputs": [
    {
     "name": "stdout",
     "output_type": "stream",
     "text": [
      "Enter a number (or \"q\" when done): 10\n",
      "Enter a number (or \"q\" when done): 5\n",
      "Enter a number (or \"q\" when done): 3\n",
      "Enter a number (or \"q\" when done): q\n"
     ]
    },
    {
     "data": {
      "text/plain": [
       "[10, 5, 3]"
      ]
     },
     "execution_count": 10,
     "metadata": {},
     "output_type": "execute_result"
    }
   ],
   "source": [
    "# (you are responsible for testing your own solution for problem 5). The 106 instructors will test manually\n",
    "getNumberList()"
   ]
  },
  {
   "cell_type": "markdown",
   "metadata": {
    "id": "ba68f34a-0d59-43c9-a359-42a7aab651d0",
    "source-id": "5730ba6f-3aa4-4d10-8ff4-89bb5f9ed3b2"
   },
   "source": [
    "---\n",
    "## Problem 6\n",
    "Define a function `smallest` that accepts a list of integer and returns the smallest integer in the list passed to it.\n",
    "\n",
    "For example, `smallest([4221, 5464, 34345, 45458])` should be `4221`"
   ]
  },
  {
   "cell_type": "code",
   "execution_count": 12,
   "metadata": {
    "id": "87fd02b2-48b7-4099-a6c6-db5d52cef568",
    "source-id": "2eddde62-f2ad-45f7-a686-15653b067695"
   },
   "outputs": [],
   "source": [
    "def smallest(lst):\n",
    "    ordered = sorted(lst)\n",
    "    return ordered[0]"
   ]
  },
  {
   "cell_type": "markdown",
   "metadata": {
    "id": "6865c62a-9af4-49f7-9f35-b99bb71640b8",
    "source-id": "e1efd2e5-9bfc-414e-9f6d-b028e49e2fd9"
   },
   "source": [
    "### Problem 6 Tests:"
   ]
  },
  {
   "cell_type": "code",
   "execution_count": 13,
   "metadata": {
    "id": "7069483a-fa79-443a-8efc-aff6ec5b4d29",
    "source-id": "dd371aa1-ea84-42b7-9281-9b992f70ea78"
   },
   "outputs": [],
   "source": [
    "assert smallest([10]) == 10\n",
    "assert smallest([5, 20, 1]) == 1\n",
    "assert smallest([2, -1, 20]) == -1\n",
    "assert smallest([-1000, -10000, -999999]) == -999999"
   ]
  },
  {
   "cell_type": "markdown",
   "metadata": {
    "id": "f8558915-7a43-464b-8480-2396388dc301",
    "source-id": "a244d370-d4fa-4642-84c5-8c9c3cd05a26"
   },
   "source": [
    "---\n",
    "## Problem 7\n",
    "Define a function `voweliest` that takes as input a string and returns as output a tuple where the string that has the most vowels (a, e, i, o, u) in it is the first element and the second is the number of vowels in that string.\n",
    "\n",
    "Note: don't worry about ties or capital letters\n",
    "\n",
    "Hint: consider defining and using a separate function that counts the number of vowels in a given string"
   ]
  },
  {
   "cell_type": "code",
   "execution_count": 14,
   "metadata": {
    "id": "94c57e6f-02a9-4417-8939-ecc92b4e4c29",
    "source-id": "05279663-5564-42d8-82af-0066a833bc74"
   },
   "outputs": [],
   "source": [
    "vowels = ['a', 'e', 'i', 'o', 'u']\n",
    "\n",
    "def voweliest(s):\n",
    "    dictio = {}\n",
    "    split = s.split(\" \")\n",
    "    for wrd in split:\n",
    "        for achar in wrd:\n",
    "            if achar in vowels:\n",
    "                dictio[wrd] = dictio.get(wrd, 0) + 1\n",
    "    dictio_srt = list(sorted(dictio, key = lambda x: dictio[x], reverse = True))\n",
    "    values_srt = list(sorted(dictio.values(), reverse = True))\n",
    "    return (dictio_srt[0], values_srt[0])\n",
    "\n",
    "\n",
    "        "
   ]
  },
  {
   "cell_type": "markdown",
   "metadata": {
    "id": "7f5c9b39-8954-4baf-8a64-b432a47ae06b",
    "source-id": "75558a64-fce9-4e82-9c3d-313954a35139"
   },
   "source": [
    "### Problem 7 Tests:"
   ]
  },
  {
   "cell_type": "code",
   "execution_count": 15,
   "metadata": {
    "id": "5c94816b-d943-4cfe-ac31-2a477d62f80d",
    "source-id": "e874f5b7-fdf4-4df4-ae57-90a72a86a82a"
   },
   "outputs": [],
   "source": [
    "assert voweliest('an onomatopoeia that phonetically imitates the sound that it describes') == ('onomatopoeia', 8)\n",
    "assert voweliest('hello world') == ('hello', 2) "
   ]
  },
  {
   "cell_type": "markdown",
   "metadata": {
    "id": "1e07e862-ce0b-4412-befe-0930c895d422",
    "source-id": "c2f5d8cd-4a31-4114-b278-d8a48ba96291"
   },
   "source": [
    "---\n",
    "## Problem 8\n",
    "\n",
    "Define a function `remove_chars` that takes 2 inputs: \n",
    "- any string (`s`)\n",
    "- a string of letters to be removed (`to_remove`). \n",
    "\n",
    "The default value of `to_remove` should be `'aeiou'`. \n",
    "\n",
    "The function should return the first string, but without\n",
    "any of the characters that are included in the `to_remove` parameters.\n",
    "\n",
    "For example :\n",
    "\n",
    "```\n",
    "remove_chars(\"hello\") # should be 'hll'\n",
    "remove_chars(\"hallo\", \"l\") # should be 'hao'\n",
    "```\n",
    "\n",
    "**Do this without using any string methods (like replace); just use concatenation and the accumulation pattern.**"
   ]
  },
  {
   "cell_type": "code",
   "execution_count": 16,
   "metadata": {
    "id": "5f506b44-d513-4cd6-9be4-50f11f120fb2",
    "source-id": "ff3b6404-2132-4e6d-bbd1-1ce3776bd38a"
   },
   "outputs": [],
   "source": [
    "def remove_chars(s, to_remove = 'aeiou'):\n",
    "    string = ''\n",
    "    for achar in s:\n",
    "        if achar not in to_remove:\n",
    "            string += achar\n",
    "    return string"
   ]
  },
  {
   "cell_type": "markdown",
   "metadata": {
    "id": "18cdb4fb-9865-408e-a6d7-b7c8066b6f82",
    "source-id": "88ffd295-5f50-45b5-ae22-83edf4e18402"
   },
   "source": [
    "### Problem 8 Tests:"
   ]
  },
  {
   "cell_type": "code",
   "execution_count": 17,
   "metadata": {
    "id": "730a2166-b58b-4366-ab51-9a03a50bbd55",
    "source-id": "1b741701-133b-40c2-9847-65d0a38c3199"
   },
   "outputs": [],
   "source": [
    "assert remove_chars(\"hello\") == \"hll\"\n",
    "assert remove_chars(\"hallo\", \"l\") == \"hao\"\n",
    "assert remove_chars(\"facetious\") == \"fcts\""
   ]
  },
  {
   "cell_type": "markdown",
   "metadata": {
    "id": "231eed82-5571-4323-9de3-e172db97dc5d",
    "source-id": "a7cc02e8-5563-41ad-8645-a5c5b979de72"
   },
   "source": [
    "---\n",
    "## Problem 9 (Demonstrate Your Understanding)\n",
    "\n",
    "Write code and/or a Python comment that demonstrates your understanding of the material in this problem set. This assignment requires effort and demonstration of true understanding and will be evaluated carefully (this does not mean it needs to be long, just clear and accurate. In fact, it should be brief; ideally just 2-3 sentences)."
   ]
  },
  {
   "cell_type": "code",
   "execution_count": 18,
   "metadata": {
    "id": "a838e830-677a-465e-941c-7840f4ddd800",
    "source-id": "2f4611ed-cd67-4d4c-ba74-40ef6517c1c9"
   },
   "outputs": [],
   "source": [
    "#---Advanced Functions---\n",
    "#-We can add optional parameter by specifying it in a function: def function(x, y = 3) - we can either call the function\n",
    "#-only specifying x and let y be 3 or we can specify both\n",
    "#-We can use lambda functions in following format:\n",
    "#-lambda arguments: returning value\n",
    "#-------------------------------------------------\n",
    "#---While Loop---\n",
    "#-We can use while to repeat certain action, as long as specific statement is true\n",
    "#-e.g. for validating input"
   ]
  },
  {
   "cell_type": "markdown",
   "metadata": {
    "id": "493908dc-0774-4750-983a-f66d4b26e345",
    "source-id": "ab3be00d-6b8f-47ec-99ee-d6f5143ba84c"
   },
   "source": [
    "---\n",
    "## Problem 10 (Look Ahead to Nested Data, Nested Iteration, and JSON)\n",
    "This is a warmup for dealing with very nested data. It's a simplified version of the kind of data we'd get back from Facebook's API. The next problem set will have you work with actual APIs.\n",
    "\n",
    "First, just get familiar with the structure of the data. You may want to copy and paste it to a site like [https://jsoneditoronline.org/](https://jsoneditoronline.org/)."
   ]
  },
  {
   "cell_type": "code",
   "execution_count": 19,
   "metadata": {
    "id": "319e6bd9-3e1b-4337-8569-ba8445d54cb4",
    "source-id": "9b751229-ef1e-4505-9da4-9cccdeea8d5c"
   },
   "outputs": [],
   "source": [
    "fb_data = {\n",
    " \"data\": [\n",
    "  {\n",
    "    \"id\": \"2253324325325123432madeup\", \n",
    "    \"from\": {\n",
    "      \"id\": \"23243152523425madeup\", \n",
    "      \"name\": \"Jane Smith\"\n",
    "    }, \n",
    "    \"to\": {\n",
    "      \"data\": [\n",
    "        {\n",
    "          \"name\": \"Your Facebook Group\", \n",
    "          \"id\": \"432542543635453245madeup\"\n",
    "        }\n",
    "      ]\n",
    "    }, \n",
    "    \"message\": \"Understand. Extract. Repeat.\", \n",
    "    \"type\": \"status\", \n",
    "    \"created_time\": \"2014-10-03T02:07:19+0000\", \n",
    "    \"updated_time\": \"2014-10-03T02:07:19+0000\"\n",
    "  }, \n",
    " \n",
    "  {\n",
    "    \"id\": \"2359739457974250975madeup\", \n",
    "    \"from\": {\n",
    "      \"id\": \"4363684063madeup\", \n",
    "      \"name\": \"John Smythe\"\n",
    "    }, \n",
    "    \"to\": {\n",
    "      \"data\": [\n",
    "        {\n",
    "          \"name\": \"Your Facebook Group\", \n",
    "          \"id\": \"432542543635453245madeup\"\n",
    "        }\n",
    "      ]\n",
    "    }, \n",
    "    \"message\": \"Here is a fun link about programming\", \n",
    "    \"type\": \"status\", \n",
    "    \"created_time\": \"2014-10-02T20:12:28+0000\", \n",
    "    \"updated_time\": \"2014-10-02T20:12:28+0000\"\n",
    "  }]\n",
    "}"
   ]
  },
  {
   "cell_type": "markdown",
   "metadata": {
    "id": "265701f2-e42b-44aa-9d5d-5b6c8c68101c",
    "source-id": "da71fb5a-50d3-4455-bf0e-be201ded6ee1"
   },
   "source": [
    "### Problem 10.a\n",
    "Extract the contents of the first message into a variable called `first_message`"
   ]
  },
  {
   "cell_type": "code",
   "execution_count": 20,
   "metadata": {
    "id": "b5c3bfc6-bd02-4302-bec2-4b1553c97912",
    "source-id": "86f1f90c-6e3d-47c3-8afb-03fb74d56d24"
   },
   "outputs": [],
   "source": [
    "first_message = fb_data[\"data\"][0][\"message\"]"
   ]
  },
  {
   "cell_type": "markdown",
   "metadata": {
    "id": "e351320a-0976-4211-ad5c-c0b1a2f079b1",
    "source-id": "df43ad4a-aa86-4c0c-b500-33ac293c9037"
   },
   "source": [
    "#### Problem 10.a Test (do not modify)"
   ]
  },
  {
   "cell_type": "code",
   "execution_count": 21,
   "metadata": {
    "id": "98311198-250e-4ae6-86a8-5d9a2b5930d0",
    "source-id": "02492285-93ff-40bc-bc82-da42d29e2292"
   },
   "outputs": [],
   "source": [
    "assert first_message == \"Understand. Extract. Repeat.\""
   ]
  },
  {
   "cell_type": "markdown",
   "metadata": {
    "id": "4da203b8-17e9-4417-b62e-800c6024083e",
    "source-id": "cd9c081b-2b81-4981-a6f4-736bfa2f2a78"
   },
   "source": [
    "### Problem 10.b\n",
    "Extract the name of the author of the second post, into a variable called `second_name`"
   ]
  },
  {
   "cell_type": "code",
   "execution_count": 22,
   "metadata": {
    "id": "4e1c7bb1-8308-4d57-8431-97840278f2fb",
    "source-id": "22cff0d7-ff2d-45b4-aa50-458f0f53063c"
   },
   "outputs": [],
   "source": [
    "second_name = fb_data[\"data\"][1][\"from\"][\"name\"]"
   ]
  },
  {
   "cell_type": "markdown",
   "metadata": {
    "id": "12d0900c-4bdd-4e4a-be4f-1b5eaa29c8a1",
    "source-id": "4e66c571-b175-4860-b541-b4bae1d6a7c1"
   },
   "source": [
    "#### Problem 10.b Test (do not modify)"
   ]
  },
  {
   "cell_type": "code",
   "execution_count": 23,
   "metadata": {
    "id": "261fc1d1-35f7-48e0-b4a5-e850d5ce4afb",
    "source-id": "db5c9e5e-d388-4f8b-b28a-0a8791971dcf"
   },
   "outputs": [],
   "source": [
    "assert second_name == 'John Smythe'"
   ]
  },
  {
   "cell_type": "markdown",
   "metadata": {
    "id": "7bd666a3-c799-4925-af35-da61cacf6a8e",
    "source-id": "4720f017-0de3-4866-b066-a544e606bcb6"
   },
   "source": [
    "### Problem 10.c\n",
    "Write code that generates a list of the names of all the senders of the messages in `fb_data`. Store it in a variable called `senders`."
   ]
  },
  {
   "cell_type": "code",
   "execution_count": 24,
   "metadata": {
    "id": "d755c8d8-f78b-4e0e-bfaf-f11c716e0da3",
    "source-id": "8d503fb7-36ba-49c0-b751-edfe1ddfb525"
   },
   "outputs": [],
   "source": [
    "senders = []\n",
    "for i in range(len(fb_data[\"data\"])):\n",
    "    senders.append(fb_data[\"data\"][i][\"from\"][\"name\"])"
   ]
  },
  {
   "cell_type": "markdown",
   "metadata": {
    "id": "0123e4e9-9bf7-4f3e-bbcf-bafd45bcf673",
    "source-id": "1b157a7d-d92b-42d1-a011-b02b7afcaa6f"
   },
   "source": [
    "#### Problem 10.c Test (do not modify)"
   ]
  },
  {
   "cell_type": "code",
   "execution_count": 25,
   "metadata": {
    "id": "7b0c1644-ddd4-4d5b-baf4-3d1fa07a183a",
    "source-id": "dc5c2ac0-88ed-4212-a693-dc1e842af059"
   },
   "outputs": [],
   "source": [
    "assert senders == ['Jane Smith', 'John Smythe']"
   ]
  },
  {
   "cell_type": "markdown",
   "metadata": {
    "id": "b02300a3-4a16-418d-b474-9a0cc540bc1d",
    "source-id": "a33a7d51-17d7-4e4e-82b8-61a0713bbc7e"
   },
   "source": [
    "---\n",
    "## Problem 11 (Look Ahead to Sorting)\n",
    "\n",
    "`unsorted_lst` is a list of numbers. Write code to assign `sorted_lst` to have the same contents as `unsorted_lst` but sorted in ascending order (from smallest to largest). **Do not hardcode**."
   ]
  },
  {
   "cell_type": "code",
   "execution_count": 26,
   "metadata": {
    "id": "8955f336-fba9-41fd-a75e-445d799ca524",
    "source-id": "1f641c0c-e075-47d2-9daa-119ca5bc72b7"
   },
   "outputs": [],
   "source": [
    "unsorted_lst = [5, 2, 4, 1]\n",
    "\n",
    "sorted_lst = sorted(unsorted_lst)"
   ]
  },
  {
   "cell_type": "markdown",
   "metadata": {
    "id": "572baf03-2a23-425d-9f5c-afba877b43be",
    "source-id": "b86cec6e-10ed-4868-9fc8-64cb052f85e7"
   },
   "source": [
    "### Problem 11 Tests:"
   ]
  },
  {
   "cell_type": "code",
   "execution_count": 27,
   "metadata": {
    "id": "2fa28a75-d0ed-4411-82d1-e5b44ed69ddd",
    "source-id": "f6c4fcc4-ab3e-430d-b1f1-fa58d5b00cdc"
   },
   "outputs": [],
   "source": [
    "assert sorted_lst == [1, 2, 4, 5]\n",
    "assert unsorted_lst == [5, 2, 4, 1]"
   ]
  },
  {
   "cell_type": "markdown",
   "metadata": {
    "id": "e2706774-c87d-43f7-bec9-a00060768cc6",
    "source-id": "840c9aeb-9f0f-48c2-8891-c657bc6747b9"
   },
   "source": [
    "---\n",
    "---\n",
    "## Collaborators and Sources of Help\n",
    "In this markdown cell, list names of any people you worked with or got help from, and provide links to or descriptions of any external resources you consulted."
   ]
  },
  {
   "cell_type": "markdown",
   "metadata": {
    "id": "5ca00583-82b8-488a-8ee6-07a6b79db6dc",
    "source-id": "a8f9703b-5fe8-46d0-b6a7-dc79ac40e712"
   },
   "source": [
    "- List your collaborators here"
   ]
  },
  {
   "cell_type": "markdown",
   "metadata": {
    "id": "d2338c03-a45c-40c6-8b1b-f59269187cc4",
    "source-id": "8ee0278a-50b4-438b-9730-dc7f6f72221b"
   },
   "source": [
    "## Upload your solutions to Canvas\n",
    "\n",
    "Upload your .ipynb file to Canvas. **Files submitted after midnight will _NOT_ be accepted. Be sure to upload on time.**\n",
    "\n",
    "*Note: You may submit any number of times before the deadline*"
   ]
  },
  {
   "cell_type": "markdown",
   "metadata": {
    "id": "f0e87031-f145-4afd-89e8-5cb66f31aec4",
    "source-id": "60a4ca8d-80e5-41a8-a46b-77982f5fafc2"
   },
   "source": [
    "\n",
    "    MMMMMMMMMMMMMMMMMMMMMMMMMMMMMMMMMMMMMMMMMMMMMMMMMMMMMMMMMMMM\n",
    "    MMMMMMMMMMMMMMMMMMMMMMMMMMMMMMMMMMMMMMMMMMMMMMMMMMMMMMMMMMMM\n",
    "    MMMMMMMMMMMMMMMMMMMMMMMMMMMMMMMMMMMMMMMMMMMMMMMMMMMMMMMMMMMM\n",
    "    MMMMMMMMMMMMMMMMMMMMMMMMMMMMMMMMMMMMMMMMMMMMMMMMMMMMMMMMMMMM\n",
    "    MMMMMMMM             MMMMMMMMMMMMMMMMM             MMMMMMMMM\n",
    "    MMMMMMMM              MMMMMMMMMMMMMMM              MMMMMMMMM\n",
    "    MMMMMMMM                MMMMMMMMMMM                MMMMMMMMM\n",
    "    MMMMMMMM                 MMMMMMMMM                 MMMMMMMMM\n",
    "    MMMMMMMM                  MMMMMMM                  MMMMMMMMM\n",
    "    MMMMMMMMMMMM               MMMMM                MMMMMMMMMMMM\n",
    "    MMMMMMMMMMMM                MMM                 MMMMMMMMMMMM\n",
    "    MMMMMMMMMMMM                 V                  MMMMMMMMMMMM\n",
    "    MMMMMMMMMMMM                                    MMMMMMMMMMMM\n",
    "    MMMMMMMMMMMM         ^               ^          MMMMMMMMMMMM\n",
    "    MMMMMMMMMMMM         MM             MM          MMMMMMMMMMMM\n",
    "    MMMMMMMMMMMM         MMMM         MMMM          MMMMMMMMMMMM\n",
    "    MMMMMMMMMMMM         MMMMM       MMMMM          MMMMMMMMMMMM\n",
    "    MMMMMMMMMMMM         MMMMMM     MMMMMM          MMMMMMMMMMMM\n",
    "    MMMMMMMM                MMMM   MMMM                MMMMMMMMM\n",
    "    MMMMMMMM                MMMMMVMMMMM                MMMMMMMMM\n",
    "    MMMMMMMM                MMMMMMMMMMM                MMMMMMMMM\n",
    "    MMMMMMMM                MMMMMMMMMMM                MMMMMMMMM\n",
    "    MMMMMMMM                MMMMMMMMMMM                MMMMMMMMM\n",
    "    MMMMMMMMMMMMMMMMMMMMMMMMMMMMMMMMMMMMMMMMMMMMMMMMMMMMMMMMMMMM\n",
    "    MMMMMMMMMMMMMMMMMMMMMMMMMMMMMMMMMMMMMMMMMMMMMMMMMMMMMMMMMMMM\n",
    "    MMMMMMMMMMMMMMMMMMMMMMMMMMMMMMMMMMMMMMMMMMMMMMMMMMMMMMMMMMMM\n",
    "    MMMMMMMMMMMMMMMMMMMMMMMMMMMMMMMMMMMMMMMMMMMMMMMMMMMMMMMMMMMM\n",
    "    MMMMMMMMMMMMMMMMMMMMMMMMMMMMMMMMMMMMMMMMMMMMMMMMMMMMMMMMMMMM  "
   ]
  }
 ],
 "metadata": {
  "env": {
   "filename": "PS 6.ipynb",
   "points": 3,
   "problem": 12,
   "totalpoints": 35,
   "totalproblems": 11
  },
  "exam_gen_problems": [
   "0f67b68b-a8e4-442f-b4ac-81a426800374",
   "7d84453c-239f-4b26-9451-43810afb139a",
   "151555e4-90f2-4bb1-89ba-f085ba03d5d4",
   "bf03ac19-8b42-4570-8f82-f521d4c47527",
   "02c08256-65ab-47f2-be66-f9acb0f2f012",
   "77307255-84ab-4010-b6c2-65359b9b2b71",
   "5730ba6f-3aa4-4d10-8ff4-89bb5f9ed3b2",
   "a244d370-d4fa-4642-84c5-8c9c3cd05a26",
   "c2f5d8cd-4a31-4114-b278-d8a48ba96291",
   "a7cc02e8-5563-41ad-8645-a5c5b979de72",
   "ab3be00d-6b8f-47ec-99ee-d6f5143ba84c",
   "a33a7d51-17d7-4e4e-82b8-61a0713bbc7e",
   "840c9aeb-9f0f-48c2-8891-c657bc6747b9"
  ],
  "kernelspec": {
   "display_name": "Python 3",
   "language": "python",
   "name": "python3"
  },
  "language_info": {
   "codemirror_mode": {
    "name": "ipython",
    "version": 3
   },
   "file_extension": ".py",
   "mimetype": "text/x-python",
   "name": "python",
   "nbconvert_exporter": "python",
   "pygments_lexer": "ipython3",
   "version": "3.8.5"
  }
 },
 "nbformat": 4,
 "nbformat_minor": 4
}
