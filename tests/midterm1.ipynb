{
 "cells": [
  {
   "cell_type": "markdown",
   "metadata": {
    "id": "a82f34a4-b356-4739-8235-d47adce43fe0",
    "source-id": "5d87d47f-94f6-42e9-9934-d6aabde5479f"
   },
   "source": [
    "# SI 106 Winter 2021\n",
    "# Tomas Rehak - Midterm #1\n",
    "\n",
    "This exam is for Tomas Rehak (docherak). If that is not you, you have opened the wrong file. This exam is worth 150 points. There are 15 problems.\n",
    "\n",
    "Please be sure you are on [Slack](https://slack.si.umich.edu/) in case there are any announcements during the exam.\n",
    "\n",
    "If you have technical difficulties during the exam or need clarification on a question, please contact Professor Oney on Slack immediately.\n",
    "\n",
    "## Notes:\n",
    "- The answers towards the beginning of the exam should be shorter and easier. The answers toward the end will be more difficult.\n",
    "- Try to avoid getting fixated on one problem. Try to attempt every problem.\n",
    "- You may receive partial credit for answers that are partially complete.\n",
    "- Passing all of the tests is not a guarantee that your solution is correct.\n",
    "- Hard-coded answers will receive no credit\n",
    "- **Uploading your exam past the due time is equivalent to not turning it in at all.**\n",
    "---"
   ]
  },
  {
   "cell_type": "markdown",
   "metadata": {
    "id": "862b13f2-6a56-4564-aab7-22117eac9fdd",
    "source-id": "307476d4-a7ae-493a-9cb0-8a39add03022"
   },
   "source": [
    "# Problem 1\n",
    "\n",
    "`lst_a` is a list of strings. Write code that assigns `second_item_length` to the length of the second item in `lst_a`.\n",
    "\n",
    "*(5 points)*"
   ]
  },
  {
   "cell_type": "code",
   "execution_count": 1,
   "metadata": {
    "id": "c40f73bb-a4cf-4f1d-b4e9-c458d45b6f63",
    "source-id": "1d92bfbe-0f80-4fa1-9c92-a01a932d8b22"
   },
   "outputs": [],
   "source": [
    "lst_a = [\"w\", \"xy\", \"z\", \"abc\"]\n",
    "\n",
    "second_item_length = len(lst_a[1])"
   ]
  },
  {
   "cell_type": "markdown",
   "metadata": {
    "id": "d988c32d-a25c-47f2-91d1-d834adcc6cd8",
    "source-id": "6354d642-a0d9-47ca-9d2b-18c09793ad22"
   },
   "source": [
    "### Problem 1 Tests:"
   ]
  },
  {
   "cell_type": "code",
   "execution_count": 2,
   "metadata": {
    "id": "a0b8ffc0-cebf-4658-a5e7-3b510013c226",
    "source-id": "15d63406-6ad1-41a9-810c-9219c52b915f"
   },
   "outputs": [],
   "source": [
    "assert second_item_length == 2"
   ]
  },
  {
   "cell_type": "markdown",
   "metadata": {
    "id": "30abb316-c1da-48c4-b52e-405258c459c1",
    "source-id": "bb13b9fb-0de1-4f46-9580-b7533b17e01d"
   },
   "source": [
    "# Problem 2\n",
    "\n",
    "`dict_b` is a dictionary. Write code that assigns `b_key_count` to be the number of key-value pairs in `dict_b`.\n",
    "\n",
    "*(5 points)*"
   ]
  },
  {
   "cell_type": "code",
   "execution_count": 3,
   "metadata": {
    "id": "84037770-95d5-4f44-9e42-1e78f68006e2",
    "source-id": "3b6fa861-f500-41ef-bd1c-f38de292196e"
   },
   "outputs": [],
   "source": [
    "dict_b = {'x': 1, 'y': 2}\n",
    "\n",
    "b_key_count = len(dict_b)"
   ]
  },
  {
   "cell_type": "markdown",
   "metadata": {
    "id": "bdf0246f-7cfa-4390-9115-7841406b0e09",
    "source-id": "2544ecc1-5af4-457b-b890-374c664bcc95"
   },
   "source": [
    "### Problem 2 Tests:"
   ]
  },
  {
   "cell_type": "code",
   "execution_count": 4,
   "metadata": {
    "id": "b9784661-1547-41cc-8db2-22c351af8f36",
    "source-id": "a98fc310-5b76-46ee-98de-9e26866757f5"
   },
   "outputs": [],
   "source": [
    "assert b_key_count == 2"
   ]
  },
  {
   "cell_type": "markdown",
   "metadata": {
    "id": "1e0a7e4b-b6de-42ce-966a-8eb83e7d0e48",
    "source-id": "ebe41d36-5f15-46d3-8a9a-4f92b5eaac5d"
   },
   "source": [
    "# Problem 3\n",
    "\n",
    "The variable `foods` maps food names to their calorie counts. Write code that assigns `apple_and_banana` to the calorie count associated with `'apple'` plus that associated with `'banana'`.\n",
    "\n",
    "*(5 points)*"
   ]
  },
  {
   "cell_type": "code",
   "execution_count": 5,
   "metadata": {
    "id": "3f92c3e4-17ce-4e92-9718-ddfb8d9d8626",
    "source-id": "2ae00e3a-e7f9-48be-a4be-bd6d86e60ded"
   },
   "outputs": [],
   "source": [
    "foods = { 'lemon': 17, 'tomato': 22, 'onion': 44, 'watermelon': 85, 'apple': 95, 'banana': 105, 'grapes': 62, 'carrot':  25 }\n",
    "\n",
    "apple_and_banana = foods['apple'] + foods['banana']"
   ]
  },
  {
   "cell_type": "markdown",
   "metadata": {
    "id": "69d31c95-c2ab-4964-87c7-0f083b6f0ea6",
    "source-id": "8113b2ac-71b8-4e9d-83f7-2a05723bd669"
   },
   "source": [
    "### Problem 3 Tests:"
   ]
  },
  {
   "cell_type": "code",
   "execution_count": 6,
   "metadata": {
    "id": "aba7ca94-4ae5-432d-89aa-b2725efcaf8f",
    "source-id": "f557ac93-ef0c-4c20-8302-46ad67d769d4"
   },
   "outputs": [],
   "source": [
    "assert apple_and_banana == 95 + 105"
   ]
  },
  {
   "cell_type": "markdown",
   "metadata": {
    "id": "b21a2c68-9905-4a73-92df-6d06ce501a69",
    "source-id": "025bcba7-7b9f-4b81-bd69-a75447955bd6"
   },
   "source": [
    "# Problem 4\n",
    "\n",
    "Write code that assigns `third_item` to be the third element in the list `my_short_lst`\n",
    "\n",
    "*(5 points)*"
   ]
  },
  {
   "cell_type": "code",
   "execution_count": 7,
   "metadata": {
    "id": "81f83f7d-b4e8-45fc-926a-c58f42202d3f",
    "source-id": "f60fb595-d96f-48da-afd9-0682e17e0535"
   },
   "outputs": [],
   "source": [
    "my_short_lst = [ 1, [\"a\", \"b\"], \"wxyz\", 20]\n",
    "\n",
    "third_item = my_short_lst[2]"
   ]
  },
  {
   "cell_type": "markdown",
   "metadata": {
    "id": "3811685b-132a-4a00-9c33-a4c33904404a",
    "source-id": "9c38a7ba-0b49-4e5e-8a0d-b1cbf913168e"
   },
   "source": [
    "### Problem 4 Tests:"
   ]
  },
  {
   "cell_type": "code",
   "execution_count": 8,
   "metadata": {
    "id": "d5b7e80f-2c67-4b96-9619-abb68e13a94f",
    "source-id": "6fc62f55-6982-4c86-b9bc-d1ef473a771e"
   },
   "outputs": [],
   "source": [
    "assert third_item == \"wxyz\""
   ]
  },
  {
   "cell_type": "markdown",
   "metadata": {
    "id": "e3ee43c4-faa0-4e8f-9956-01ceadd08ffb",
    "source-id": "6ec6a5cb-991f-4bfb-a917-5389225b824f"
   },
   "source": [
    "# Problem 5\n",
    "\n",
    "Write code to prompt a user to enter an integer (using `input()`), assign the integer to `user_input`. Then, assign `input_subtract_5` to be whatever the user entered minus `5`.\n",
    "\n",
    "*(5 points)*"
   ]
  },
  {
   "cell_type": "code",
   "execution_count": 9,
   "metadata": {
    "id": "79b8b9b1-ed9e-4853-bd40-c2be4a2ed882",
    "source-id": "ef7148e7-65a1-4a90-9f58-dc3af1adaa83"
   },
   "outputs": [
    {
     "name": "stdout",
     "output_type": "stream",
     "text": [
      "Enter an integer: 10\n"
     ]
    }
   ],
   "source": [
    "user_input = int(input('Enter an integer: '))\n",
    "input_subtract_5 = user_input - 5"
   ]
  },
  {
   "cell_type": "markdown",
   "metadata": {
    "id": "db51d0db-a03a-447c-b15a-320a9aaca81a",
    "source-id": "47fbe185-2438-4bad-9dcc-f43a26dbb804"
   },
   "source": [
    "### Problem 5 Tests:"
   ]
  },
  {
   "cell_type": "code",
   "execution_count": 10,
   "metadata": {
    "id": "03da8cc4-f678-4d7b-9c65-f68a2f4ff0c0",
    "source-id": "5127a379-e4ca-4154-945a-e306c57c2e5f"
   },
   "outputs": [],
   "source": [
    "assert type(user_input) == int\n",
    "assert type(input_subtract_5) == int\n",
    "assert input_subtract_5 - user_input == -5"
   ]
  },
  {
   "cell_type": "markdown",
   "metadata": {
    "id": "0ec8559f-424a-46cc-ade7-8f82a8c60e8d",
    "source-id": "ebbb335d-7cb6-4dd8-b030-8bf08d561a82"
   },
   "source": [
    "# Problem 6\n",
    "\n",
    "The code below violates Python's variable naming rules. Change the invalid variable's name to `result`, so that it no longer produces a syntax error. Only change the invalid variable name (leave the rest of the code intact).\n",
    "\n",
    "*(5 points)*"
   ]
  },
  {
   "cell_type": "code",
   "execution_count": 11,
   "metadata": {
    "id": "654f68ac-f8fa-4726-bd3d-a3cb7264a656",
    "source-id": "e63c7080-0323-4043-84c2-b2aa57ccc570"
   },
   "outputs": [],
   "source": [
    "# modify the code below for problem 6:\n",
    "\n",
    "x = 2\n",
    "result = x * 2"
   ]
  },
  {
   "cell_type": "markdown",
   "metadata": {
    "id": "997eba27-7884-4362-92cd-4db08da6dbd9",
    "source-id": "723ea7aa-35d3-4202-b738-998b9640d8a1"
   },
   "source": [
    "### Problem 6 Tests:"
   ]
  },
  {
   "cell_type": "code",
   "execution_count": 12,
   "metadata": {
    "id": "c1551650-688d-4daa-80f2-ca13783a7578",
    "source-id": "7a65b2ba-faf3-4614-9a1b-9b21428e016c"
   },
   "outputs": [],
   "source": [
    "assert result == 4"
   ]
  },
  {
   "cell_type": "markdown",
   "metadata": {
    "id": "aea432a1-4c16-4846-8c91-9708d5153591",
    "source-id": "e8b65c61-a54a-473d-8be9-0c3c46b35294"
   },
   "source": [
    "# Problem 7\n",
    "\n",
    "The variable `mission` is a string with multiple sentences. Each sentence is on a different line. Write code to set the correct values of the following variables through indexing:\n",
    "\n",
    "- `first_sen_first_word`: the first word in the first sentence\n",
    "- `first_sen_last_word`: the last word in the first sentence\n",
    "- `last_sen_middle_word`: the word at the middle of the last sentence (see the note below about finding the index of the middle word)\n",
    "    - `middle_word_index`: the index (zero-based) of the middle word in the last sentence\n",
    "    \n",
    "Notes:\n",
    "- For this problem, divide `mission` into sentences by splitting by the newline character (`'\\n'`) rather than periods.\n",
    "- For this problem, we treat punctuation marks immediately after a word (such as periods) as part of the word.\n",
    "- To find the index of the middle word, you can just take the number of words and use integer division (`//`) by `2`. For example, `\"Don't count your chickens before they hatch.\"` has `7` words. The index of the middle word is `7 // 2`, which is `3`. Thus, the middle word is `\"chickens\"`.\n",
    "\n",
    "*(10 points)*"
   ]
  },
  {
   "cell_type": "code",
   "execution_count": 13,
   "metadata": {
    "id": "1760bfb5-1ebe-457f-97eb-d0ef91a0f1e7",
    "source-id": "b78bd821-2b3e-4dc2-98e5-41f25696e301"
   },
   "outputs": [],
   "source": [
    "# Taken from https://www.si.umich.edu/about-umsi/mission-and-history\n",
    "mission = \"\"\"The School of Information was chartered by the Board of Regents in 1996, but the school has had several other incarnations since its origin as the University of Michigan Department of Library Science in 1926.\n",
    "In 1927, the first class of 34 students graduated with an ABLS degree.\n",
    "In 1928, the department was the third in the nation to receive accreditation by the American Library Association — an accreditation it has held continuously ever since.\n",
    "The department continued to evolve throughout the twentieth century, reinventing itself to meet the needs of each new generation.\n",
    "In 1948, the department ended its undergraduate program, replaced the bachelor’s degree in library science with a master’s degree, and introduced a PhD program.\n",
    "In 1969, the Department of Library Science became the School of Library Science.\n",
    "In 1986, the name was changed again, to the School of Information and Library Science.\"\"\"\n",
    "\n",
    "sentences = mission.split('\\n')\n",
    "\n",
    "first_sen_first_word = sentences[0].split(\" \")[0] #First index = sentence, Second index = word\n",
    "first_sen_last_word = sentences[0].split(\" \")[-1]\n",
    "\n",
    "middle_word_index = len(sentences[-1].split(\" \"))//2 #Number of words in the sentence // 2\n",
    "last_sen_middle_word = sentences[-1].split(\" \")[middle_word_index]\n",
    "\n",
    "\n"
   ]
  },
  {
   "cell_type": "markdown",
   "metadata": {
    "id": "9a6aa241-f2e9-46cf-bc3d-5ce06f6cec33",
    "source-id": "a8284d02-9b7d-416a-b3f5-5a3aec253b6f"
   },
   "source": [
    "### Problem 7 Tests:"
   ]
  },
  {
   "cell_type": "code",
   "execution_count": 14,
   "metadata": {
    "id": "bc35c9fe-667a-4b38-9904-b5e2344f0ba4",
    "source-id": "db2670fa-c3f6-4408-98de-370c79450166"
   },
   "outputs": [],
   "source": [
    "assert first_sen_first_word == \"The\"\n",
    "assert first_sen_last_word == \"1926.\"\n",
    "assert middle_word_index == 7\n",
    "assert last_sen_middle_word == \"to\""
   ]
  },
  {
   "cell_type": "markdown",
   "metadata": {
    "id": "d2a9b482-2524-4258-a1a5-59c13aa1f1a1",
    "source-id": "799ddae8-53b5-45bd-830a-7703f66d11e7"
   },
   "source": [
    "# Problem 8\n",
    "The variable `list_of_lists` contains a list of lists of numbers. Write code that **mutates** `list_of_lists` by replacing every item with the sum of its values. Do **not** use the `sum()` function for this problem.\n",
    "\n",
    "Hint: Consider looping over the indicies of `list_of_lists` for this problem\n",
    "\n",
    "*(10 points)*"
   ]
  },
  {
   "cell_type": "code",
   "execution_count": 15,
   "metadata": {
    "id": "becb1267-6237-451a-a73b-3f2561ae7e53",
    "source-id": "da1f2379-449b-45b1-adc3-d500da37a4d6"
   },
   "outputs": [],
   "source": [
    "list_of_lists = [ [1, 2, 3], [5, 6], [7] ]\n",
    "\n",
    "total = 0\n",
    "\n",
    "for i in range(len(list_of_lists)):\n",
    "    for num in list_of_lists[i]:\n",
    "        total += num\n",
    "    list_of_lists[i] = total\n",
    "    total = 0      "
   ]
  },
  {
   "cell_type": "markdown",
   "metadata": {
    "id": "04542c7d-ad15-41ee-a371-0dccd8109077",
    "source-id": "2535ecb5-55ff-49e8-86d5-e2d2a7645b6e"
   },
   "source": [
    "### Problem 8 Tests:"
   ]
  },
  {
   "cell_type": "code",
   "execution_count": 16,
   "metadata": {
    "id": "4737aeae-dd77-404f-9485-0be372ace43e",
    "source-id": "35735158-edd3-4659-822e-2313176cfa37"
   },
   "outputs": [],
   "source": [
    "assert list_of_lists == [6, 11, 7]"
   ]
  },
  {
   "cell_type": "markdown",
   "metadata": {
    "id": "ba84305a-6d82-4e22-adba-12e89781ef01",
    "source-id": "edee620e-d5f1-4436-894a-c58c6c05b415"
   },
   "source": [
    "# Problem 9\n",
    "The variable `car_prices` contains a list of dictionaries. `markup` is an integer. Write code that **mutates** every dictionary in `car_prices` by adding `markup` to every item's `'price'`.\n",
    "\n",
    "*(10 points)*"
   ]
  },
  {
   "cell_type": "code",
   "execution_count": 17,
   "metadata": {
    "id": "e5740931-c6f0-4ecd-8fac-03b112c922c3",
    "source-id": "4fea5630-cc3d-4e65-a838-6ac2ae5c5f37"
   },
   "outputs": [],
   "source": [
    "markup = 1000\n",
    "\n",
    "car_prices = [{'name': 'Explorer', 'maker': 'Ford', 'price': 34010},\n",
    "              {'name': 'Bolt', 'maker': 'Chevrolet', 'price': 37495},\n",
    "              {'name': 'Camry', 'maker': 'Toyota', 'price': 25380},\n",
    "              {'name': 'Civic', 'maker': 'Honda', 'price': 20805}]\n",
    "\n",
    "for dictio in car_prices:\n",
    "    dictio['price'] += markup"
   ]
  },
  {
   "cell_type": "markdown",
   "metadata": {
    "id": "8b247fa8-5590-467c-912c-87200021bf1e",
    "source-id": "bff476f2-aa71-468a-9c13-36ebb59d5557"
   },
   "source": [
    "### Problem 9 Tests:"
   ]
  },
  {
   "cell_type": "code",
   "execution_count": 18,
   "metadata": {
    "id": "1188f14d-0c6f-4d8f-bf7d-70ef5dd2a187",
    "source-id": "1b3368c0-0842-48bd-956d-02561e46a124"
   },
   "outputs": [],
   "source": [
    "assert car_prices == [{'name': 'Explorer', 'maker': 'Ford', 'price': 35010}, {'name': 'Bolt', 'maker': 'Chevrolet', 'price': 38495}, {'name': 'Camry', 'maker': 'Toyota', 'price': 26380}, {'name': 'Civic', 'maker': 'Honda', 'price': 21805}]"
   ]
  },
  {
   "cell_type": "markdown",
   "metadata": {
    "id": "d2fa62a1-07aa-45ae-bd00-f11ed96b1a00",
    "source-id": "1e8c7f70-9f10-4c74-860b-ed4947e80b0d"
   },
   "source": [
    "# Problem 10\n",
    "The variable `cars` contains a list of dictionaries. Every item in `cars` is a dictionary that contains information about a different car. Write code that references `cars` and creates one dictionary, called `carPrices` where the keys are car names and the values are the prices for a given car.\n",
    "\n",
    "*(10 points)*"
   ]
  },
  {
   "cell_type": "code",
   "execution_count": 19,
   "metadata": {
    "id": "147fd31a-2940-48c9-a2b8-9b3926597e4d",
    "source-id": "b1ab8193-8ce6-42bc-b7bc-8b759f76749c"
   },
   "outputs": [],
   "source": [
    "cars = [{'name': 'Explorer', 'maker': 'Ford', 'price': 34010},\n",
    "        {'name': 'Bolt', 'maker': 'Chevrolet', 'price': 37495},\n",
    "        {'name': 'Camry', 'maker': 'Toyota', 'price': 25380},\n",
    "        {'name': 'Civic', 'maker': 'Honda', 'price': 20805}]\n",
    "\n",
    "carPrices = {}\n",
    "\n",
    "for dictio in cars:\n",
    "    carPrices[dictio['name']] = dictio['price']"
   ]
  },
  {
   "cell_type": "markdown",
   "metadata": {
    "id": "f759c265-bb1a-462e-98da-ccac0c096c76",
    "source-id": "fe94ceed-4ca0-4725-b39e-12930a51312f"
   },
   "source": [
    "### Problem 10 Tests:"
   ]
  },
  {
   "cell_type": "code",
   "execution_count": 20,
   "metadata": {
    "id": "8afb0688-a6ad-42b3-9b41-79275004eeaa",
    "source-id": "5c371b17-cabb-4526-be15-00e958f0dc63"
   },
   "outputs": [],
   "source": [
    "assert carPrices == {'Explorer': 34010, 'Bolt': 37495, 'Camry': 25380, 'Civic': 20805}"
   ]
  },
  {
   "cell_type": "markdown",
   "metadata": {
    "id": "f69471cd-cb21-4e13-96d9-8ca2fff0b7da",
    "source-id": "fc0258bb-b5fa-457f-b714-35fa71a7c4af"
   },
   "source": [
    "# Problem 11\n",
    "\n",
    "The variable `inventory_b` is assigned to a list of dictionaries. Every dictionary has the keys `name` and `price`. Assign `affordable_items` to be a list of the **names** of every item where `price` is less than `5`.\n",
    "\n",
    "*(10 points)*"
   ]
  },
  {
   "cell_type": "code",
   "execution_count": 21,
   "metadata": {
    "id": "82bbd506-b293-427a-8d8b-c799fb2e76a3",
    "source-id": "6eb5b941-a262-4b36-8bf4-899465c9d750"
   },
   "outputs": [],
   "source": [
    "inventory_b = [\n",
    "    { 'name': 'milk',      'price': 3.50  },\n",
    "    { 'name': 'ice cream', 'price': 6.00  },\n",
    "    { 'name': 'apple',     'price': 0.8   },\n",
    "    { 'name': 'aspirin',   'price': 12.99 },\n",
    "    { 'name': 'gatorade',  'price': 1.50  }\n",
    "]\n",
    "\n",
    "affordable_items = []\n",
    "\n",
    "for dictio in inventory_b:\n",
    "    if dictio['price'] < 5:\n",
    "        affordable_items.append(dictio['name'])"
   ]
  },
  {
   "cell_type": "markdown",
   "metadata": {
    "id": "9f019afc-7151-40c1-b4a9-7ef17d3d2621",
    "source-id": "df8fb042-4d1d-45f6-94ff-94cd91f60e14"
   },
   "source": [
    "### Problem 11 Tests:"
   ]
  },
  {
   "cell_type": "code",
   "execution_count": 22,
   "metadata": {
    "id": "913dce20-9057-4e6f-a12f-8b6f676a0372",
    "source-id": "88e81243-36ea-459a-8b77-8b390f546986"
   },
   "outputs": [],
   "source": [
    "assert affordable_items == ['milk', 'apple', 'gatorade']"
   ]
  },
  {
   "cell_type": "markdown",
   "metadata": {
    "id": "b1b9fd15-0a2e-41f0-8dcc-90f1c617f795",
    "source-id": "0c3f2615-7502-4df1-86ed-d10123e4fa0f"
   },
   "source": [
    "# Problem 12\n",
    "\n",
    "The variable `sentence` is a string. Write code to count the number of words containing a substring `\"th\"` or `\"Th\"` (you do **not** need to count words that contain a capital \"H\" like `\"tH\"` or `\"TH\"` but we will not deduct points if you do). Store the result in `th_count`.\n",
    "\n",
    "*(10 points)*"
   ]
  },
  {
   "cell_type": "code",
   "execution_count": 23,
   "metadata": {
    "id": "58e4f92a-dba3-41e2-8e56-3b6618017874",
    "source-id": "88ba6db6-e631-4204-bcae-eee546d82987"
   },
   "outputs": [],
   "source": [
    "# Taken from https://www.si.umich.edu/about-umsi/mission-and-history\n",
    "sentence = \"The School of Information delivers innovative, elegant and ethical solutions connecting people, information and technology. thth should only count once\"\n",
    "\n",
    "words = sentence.split()\n",
    "th_count = 0\n",
    "\n",
    "for word in words:\n",
    "    if \"th\" in word.lower(): # This should also count \"tH\" and \"TH\", as word.lower() makes every word lowercase\n",
    "        th_count += 1"
   ]
  },
  {
   "cell_type": "markdown",
   "metadata": {
    "id": "7c3b67d8-c94a-4984-bef4-919a568d4065",
    "source-id": "c134e25b-9c7c-4a16-952e-cdfe3c4131db"
   },
   "source": [
    "### Problem 12 Tests:"
   ]
  },
  {
   "cell_type": "code",
   "execution_count": 24,
   "metadata": {
    "id": "c60467ed-75f1-4cf4-b635-c50b890ddd63",
    "source-id": "02321eae-0cc6-4d93-adb5-98b4f2301a27"
   },
   "outputs": [],
   "source": [
    "assert th_count == 3"
   ]
  },
  {
   "cell_type": "markdown",
   "metadata": {
    "id": "7afbbdf3-9722-4ed4-a5a5-9d07ec8848e1",
    "source-id": "d7214016-6667-47a6-b066-bc7b4a43b3eb"
   },
   "source": [
    "# Problem 13\n",
    "\n",
    "A file named `\"the_new_world.txt\"` contains information about a song and its lyrics. Write code that counts the number of lines in the lyrics by counting the number of lines but **excluding**:\n",
    "\n",
    "- The first five lines (which contain information such as the name of the song, writers, and singers)\n",
    "- Lines that start with `'['` and end with `']'`, which are labels for singing parts, e.g., `\"[WOMAN 1]\"`\n",
    "- Empty lines\n",
    "\n",
    "Assign the number of lines to `lyrics_line_count`.\n",
    "\n",
    "*(20 points)*"
   ]
  },
  {
   "cell_type": "code",
   "execution_count": 25,
   "metadata": {
    "id": "d2e9f516-9d6a-4ca1-b3cf-c347e277d9b8",
    "source-id": "2b86a813-03dc-45fb-9d82-e085c895385e"
   },
   "outputs": [],
   "source": [
    "lyrics_line_count = 0\n",
    "\n",
    "with open('the_new_world.txt', 'r') as file:\n",
    "    # print(file.readlines()) - to check the file\n",
    "    for aline in file.readlines()[5:]:\n",
    "        if aline != \"\\n\" and (aline[0] != '[' and aline[-1] != ']'): # \"\\n\" only means an empty line\n",
    "            lyrics_line_count += 1"
   ]
  },
  {
   "cell_type": "markdown",
   "metadata": {
    "id": "e77054b2-d89f-48b8-99fd-5468cdd462b4",
    "source-id": "548dbc27-d574-4046-99c8-0e5ced00d951"
   },
   "source": [
    "### Problem 13 Tests:"
   ]
  },
  {
   "cell_type": "code",
   "execution_count": 26,
   "metadata": {
    "id": "e7baa175-66ec-4895-8022-757c0e455529",
    "source-id": "9e0ebb86-6a08-449e-879a-018aaf0b8bf6"
   },
   "outputs": [],
   "source": [
    "assert lyrics_line_count == 44"
   ]
  },
  {
   "cell_type": "markdown",
   "metadata": {
    "id": "4f9faf1b-b059-4ae1-a7fc-24d595476f3b",
    "source-id": "fcbd0e1c-22b8-4fe8-a8ab-f151ee69616c"
   },
   "source": [
    "# Problem 14\n",
    "\n",
    "The file `\"tony_2016_selection.csv\"` is a CSV-formatted file that contains the nominees in the best actress and best actor categories for the 2016 Tony Awards. Write code to extract the `\"name\"` and `\"musical\"` fields for the winners and store them as tuples into `winner_tuple_list`. The first element of each tuple should be the name. The second element of each tuple should be the musical.\n",
    "\n",
    "*(20 points)*"
   ]
  },
  {
   "cell_type": "code",
   "execution_count": 27,
   "metadata": {
    "id": "43bd2d61-3a20-49bc-95a7-2473c0f0ca56",
    "source-id": "de473a7a-167c-41ef-abbb-06db9d6b7df2"
   },
   "outputs": [],
   "source": [
    "winner_tuple_list = []\n",
    "\n",
    "with open('tony_2016_selection.csv','r') as file:\n",
    "    # print(file.readlines()) - to check the file\n",
    "    lines = file.readlines()\n",
    "    for row in lines[1:]:\n",
    "        values = row.strip().split(',')\n",
    "        if values[3] == 'winner':\n",
    "            winner_tuple_list.append((values[0],values[1]))"
   ]
  },
  {
   "cell_type": "markdown",
   "metadata": {
    "id": "b743c6c5-c81d-484a-b6f1-df8ddfd09893",
    "source-id": "47ba0c2a-1c36-43f9-96be-fca1656018a1"
   },
   "source": [
    "### Problem 14 Tests:"
   ]
  },
  {
   "cell_type": "code",
   "execution_count": 28,
   "metadata": {
    "id": "4002f0a3-30d2-4631-9f83-df0ab1d05d53",
    "source-id": "ef11c841-fec6-4aed-9a28-36aeef7c20e0"
   },
   "outputs": [],
   "source": [
    "assert sorted(winner_tuple_list) == sorted([('Cynthia Erivo', 'The Color Purple'), ('Leslie Odom Jr.', 'Hamilton')])"
   ]
  },
  {
   "cell_type": "markdown",
   "metadata": {
    "id": "51fcd4de-df4d-4b45-ad46-ad9ff6e0ab3b",
    "source-id": "a428380d-ba3a-4c2d-8126-f424b3a9720b"
   },
   "source": [
    "# Problem 15\n",
    "`rhyme` is a string. `vowels` is a list of vowels. Write code that assigns `least_frequent_vowel` to the least frequent vowel (`'a'`, `'e'`, `'i'`, `'o'`, or `'u'`) in `rhyme`. Your code does not need to handle capitalization (you can assume all letters are lowercase). You can also assume that every vowel appears at least once in `rhyme` and that there is just one least frequent vowel (no ties).\n",
    "\n",
    "Do **not** use the `min()` function or any other sorting functions for this problem.\n",
    "\n",
    "*(20 points)*"
   ]
  },
  {
   "cell_type": "code",
   "execution_count": 29,
   "metadata": {
    "id": "061b18d9-5443-4349-914a-487f18c3c602",
    "source-id": "3a606445-bb8c-43d6-b7a4-86a9b7e2b7a5"
   },
   "outputs": [],
   "source": [
    "rhyme = \"\"\"peter piper picked a peck of pickled peppers.\n",
    "a peck of pickled peppers peter piper picked.\n",
    "if peter piper picked a peck of pickled peppers,\n",
    "so i ask you...where's the peck of pickled peppers peter piper picked?\"\"\"\n",
    "\n",
    "vowels = ['a', 'e', 'i', 'o', 'u']\n",
    "\n",
    "characters = {}\n",
    "\n",
    "for achar in rhyme:\n",
    "    if achar in vowels:\n",
    "        characters[achar] = characters.get(achar, 0) + 1\n",
    "    \n",
    "keys = list(characters.keys())\n",
    "least_frequent_vowel = keys[0]\n",
    "\n",
    "for key in keys:\n",
    "    if characters[key] < characters[least_frequent_vowel]:\n",
    "        least_frequent_vowel = key\n",
    "    "
   ]
  },
  {
   "cell_type": "markdown",
   "metadata": {
    "id": "aa47e559-6d21-4678-93fb-6ab6b6a26391",
    "source-id": "7cb1b926-c4d0-444b-bb18-95c3d7c7221d"
   },
   "source": [
    "### Problem 15 Tests:"
   ]
  },
  {
   "cell_type": "code",
   "execution_count": 30,
   "metadata": {
    "id": "dadebb96-6ecc-473c-be2b-e9ed1b2cef24",
    "source-id": "f7404208-e3e5-43aa-8137-95d63b6310c9"
   },
   "outputs": [],
   "source": [
    "assert least_frequent_vowel == 'u'"
   ]
  },
  {
   "cell_type": "markdown",
   "metadata": {
    "id": "c92014cc-0cd4-4768-a8c6-f1ca79d465dd",
    "source-id": "e52a06eb-abf0-4a54-b3d2-07d56365f2da"
   },
   "source": [
    "---\n",
    "\n",
    "When you are done, turn in your exam through Canvas. Upload your .ipynb file to Canvas (under the [Midterm 1 assignment](https://umich.instructure.com/courses/408923/assignments/1212964))"
   ]
  }
 ],
 "metadata": {
  "exam_gen_problems": [
   "5d87d47f-94f6-42e9-9934-d6aabde5479f",
   "307476d4-a7ae-493a-9cb0-8a39add03022",
   "bb13b9fb-0de1-4f46-9580-b7533b17e01d",
   "ebe41d36-5f15-46d3-8a9a-4f92b5eaac5d",
   "025bcba7-7b9f-4b81-bd69-a75447955bd6",
   "6ec6a5cb-991f-4bfb-a917-5389225b824f",
   "ebbb335d-7cb6-4dd8-b030-8bf08d561a82",
   "e8b65c61-a54a-473d-8be9-0c3c46b35294",
   "799ddae8-53b5-45bd-830a-7703f66d11e7",
   "edee620e-d5f1-4436-894a-c58c6c05b415",
   "1e8c7f70-9f10-4c74-860b-ed4947e80b0d",
   "fc0258bb-b5fa-457f-b714-35fa71a7c4af",
   "0c3f2615-7502-4df1-86ed-d10123e4fa0f",
   "d7214016-6667-47a6-b066-bc7b4a43b3eb",
   "fcbd0e1c-22b8-4fe8-a8ab-f151ee69616c",
   "a428380d-ba3a-4c2d-8126-f424b3a9720b",
   "e52a06eb-abf0-4a54-b3d2-07d56365f2da"
  ],
  "kernelspec": {
   "display_name": "Python 3",
   "language": "python",
   "name": "python3"
  },
  "language_info": {
   "codemirror_mode": {
    "name": "ipython",
    "version": 3
   },
   "file_extension": ".py",
   "mimetype": "text/x-python",
   "name": "python",
   "nbconvert_exporter": "python",
   "pygments_lexer": "ipython3",
   "version": "3.8.5"
  }
 },
 "nbformat": 4,
 "nbformat_minor": 4
}
