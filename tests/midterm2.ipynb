{
 "cells": [
  {
   "cell_type": "markdown",
   "metadata": {
    "id": "9e9f3b6c-e54c-4f56-a1c2-560b8a1dceb7",
    "source-id": "90383b9e-29b3-46d2-91bb-6f781c2df91e"
   },
   "source": [
    "# SI 106 Winter 2021\n",
    "# Tomas Rehak - Midterm #2\n",
    "\n",
    "This exam is for Tomas Rehak (docherak). If that is not you, you have opened the wrong file. This exam is worth 150 points. There are 16 problems.\n",
    "\n",
    "Please be sure you are on [Slack](https://slack.si.umich.edu/) in case there are any announcements during the exam.\n",
    "\n",
    "If you have technical difficulties during the exam or need clarification on a question, please contact Professor Oney on Slack immediately.\n",
    "\n",
    "## Notes:\n",
    "- The answers towards the beginning of the exam should be shorter and easier. The answers toward the end will be more difficult.\n",
    "- Try to avoid getting fixated on one problem. Try to attempt every problem.\n",
    "- You may receive partial credit for answers that are partially complete.\n",
    "- Passing all of the tests is not a guarantee that your solution is correct.\n",
    "- Hard-coded answers will receive no credit\n",
    "- **Uploading your exam past the due time is equivalent to not turning it in at all.**\n",
    "---"
   ]
  },
  {
   "cell_type": "markdown",
   "metadata": {
    "id": "e2a5b60b-14f6-47a1-8adb-652babcc1e69",
    "source-id": "66ef5860-5e74-4499-9bac-66120d3cc1ad"
   },
   "source": [
    "# Problem 1\n",
    "Assign `addOne` to be a **lambda** function that accepts one argument (a number) and returns that argument plus `1`.\n",
    "\n",
    "*(5 points)*"
   ]
  },
  {
   "cell_type": "code",
   "execution_count": 51,
   "metadata": {
    "id": "65f53574-f2f8-40dc-a205-cac23bdb11ee",
    "source-id": "cc2bd41e-e6bc-4001-b25b-102c1250e94e"
   },
   "outputs": [],
   "source": [
    "addOne = (lambda x: x + 1)"
   ]
  },
  {
   "cell_type": "markdown",
   "metadata": {
    "id": "067b211c-f47b-446f-be6b-5c017e8e1261",
    "source-id": "30090418-abe4-4ddd-920a-3a67b658a2c1"
   },
   "source": [
    "### Problem 1 Tests:"
   ]
  },
  {
   "cell_type": "code",
   "execution_count": 52,
   "metadata": {
    "id": "c703d560-a41f-4cb0-bb7c-bb4c051a443a",
    "source-id": "48e5eb8d-2420-4ec0-9d40-38616ca4facc"
   },
   "outputs": [],
   "source": [
    "assert addOne(1) == 2\n",
    "assert addOne(5) == 6\n",
    "assert addOne.__name__== (lambda: None).__name__, 'addOne must be defined as a *lambda* function'"
   ]
  },
  {
   "cell_type": "markdown",
   "metadata": {
    "id": "08f3070e-fb3e-4c29-b7b4-8dcc16c66636",
    "source-id": "f9ade90d-36bd-4b3b-be3b-f93905794b26"
   },
   "source": [
    "# Problem 2\n",
    "Write code that assigns the variable `myList` to be a list (any value is fine as long as it is a list).\n",
    "\n",
    "*(5 points)*"
   ]
  },
  {
   "cell_type": "code",
   "execution_count": 53,
   "metadata": {
    "id": "bc3950a0-3669-41b3-a7df-1b8b80deda9c",
    "source-id": "d034e276-3f31-43d9-9ffd-eaac48a7166f"
   },
   "outputs": [],
   "source": [
    "myList = []"
   ]
  },
  {
   "cell_type": "markdown",
   "metadata": {
    "id": "4e7f16f4-1ba1-4960-8c0e-7375ff4e0852",
    "source-id": "6c0eee31-6fe5-4a49-8385-2bfd3d67f233"
   },
   "source": [
    "### Problem 2 Tests:"
   ]
  },
  {
   "cell_type": "code",
   "execution_count": 54,
   "metadata": {
    "id": "fcdea445-95a0-4713-bc9d-e9e46214a613",
    "source-id": "0229bd8b-afe6-43bf-8fad-99f70cc9c5a1"
   },
   "outputs": [],
   "source": [
    "assert type(myList) == type([])"
   ]
  },
  {
   "cell_type": "markdown",
   "metadata": {
    "id": "4d4348a9-dc39-4be1-b349-d435d18d24a8",
    "source-id": "761a3c2d-eeb7-4492-a7ae-6bf8ad7fae52"
   },
   "source": [
    "# Problem 3\n",
    "Define a function named `orderedNums` that accepts one argument (a list of numbers) and returns the same list sorted from high to low (without mutating the original list).\n",
    "\n",
    "*(5 points)*"
   ]
  },
  {
   "cell_type": "code",
   "execution_count": 55,
   "metadata": {
    "id": "062d85b8-6ae7-4f3b-b48d-9f0af389aeb4",
    "source-id": "eb21eea7-546f-4dae-a358-87762d00fbe9"
   },
   "outputs": [],
   "source": [
    "def orderedNums(lst):\n",
    "    return sorted(lst, reverse = True)"
   ]
  },
  {
   "cell_type": "markdown",
   "metadata": {
    "id": "b2fbe42a-13b4-4594-84be-a71640fed470",
    "source-id": "0151ab21-6fc1-4f23-8cd1-b4620ad7e7d4"
   },
   "source": [
    "### Problem 3 Tests:"
   ]
  },
  {
   "cell_type": "code",
   "execution_count": 56,
   "metadata": {
    "id": "c9ea199f-9680-4420-bdc0-1931eb201c22",
    "source-id": "841fd2c5-806d-48f6-956a-f1d7028eff03"
   },
   "outputs": [],
   "source": [
    "L = [5, 6, 4]\n",
    "assert orderedNums(L) == [6, 5, 4]\n",
    "assert L == [5, 6, 4], 'orderedNums should *not* mutate the original list'\n",
    "L = [-50, 50, 200, -200]\n",
    "assert orderedNums(L) == [200, 50, -50, -200]\n",
    "assert L == [-50, 50, 200, -200], 'orderedNums should *not* mutate the original list'"
   ]
  },
  {
   "cell_type": "markdown",
   "metadata": {
    "id": "d3d8f0bf-d835-447d-ba44-40f9ec38f3e0",
    "source-id": "be066597-15a1-4ddd-8ebc-e2a6eab4c0b6"
   },
   "source": [
    "# Problem 4\n",
    "Define a function named `add_ing` that accepts one argument (a string) and returns that string with `'ing'` added at the end. *(5 points)*"
   ]
  },
  {
   "cell_type": "code",
   "execution_count": 57,
   "metadata": {
    "id": "e3f5084d-f633-439b-9e3a-05aaebce08fb",
    "source-id": "e1035d96-a2d4-4c91-b019-044af5ca3617"
   },
   "outputs": [],
   "source": [
    "def add_ing(string):\n",
    "    return str(string) + 'ing'"
   ]
  },
  {
   "cell_type": "markdown",
   "metadata": {
    "id": "19e18c47-d90f-4a17-987d-be5604e5b912",
    "source-id": "cfe8eb7f-ae60-4ba4-834b-7a2a329805cf"
   },
   "source": [
    "### Problem 4 Tests:"
   ]
  },
  {
   "cell_type": "code",
   "execution_count": 58,
   "metadata": {
    "id": "217308e3-7fbd-452b-a9b0-f57baea7601d",
    "source-id": "10608273-8414-48fd-b772-4dc784b72207"
   },
   "outputs": [],
   "source": [
    "assert add_ing('duck') == 'ducking'\n",
    "assert add_ing('study') == 'studying'\n",
    "assert add_ing('_') == '_ing'"
   ]
  },
  {
   "cell_type": "markdown",
   "metadata": {
    "id": "9877f019-5bae-4697-a7ab-5b547d308f9e",
    "source-id": "71871bc8-7343-4fb1-af22-1ef7b51c1742"
   },
   "source": [
    "# Problem 5\n",
    "Assign `isOdd` to be a **lambda function** that accepts one argument (a number) and returns `True` if that number is odd (not divisible by two) and `False` otherwise. You can assume that the argument is an integer (a round number with no decimal)\n",
    "\n",
    "- Hint: if `x%2` is `1` then `x` is odd\n",
    "\n",
    "*(5 points)*"
   ]
  },
  {
   "cell_type": "code",
   "execution_count": 59,
   "metadata": {
    "id": "78f10241-3b53-4360-a1eb-fed7f73e5a99",
    "source-id": "071ea17e-4b11-4db2-a904-f855e4fad8c8"
   },
   "outputs": [],
   "source": [
    "isOdd = (lambda x: False if x % 2 == 0 else True)"
   ]
  },
  {
   "cell_type": "markdown",
   "metadata": {
    "id": "12f200d2-2ac0-4632-8a82-5669ddaf7597",
    "source-id": "aa747bc4-e087-4354-9eab-0e8f3e257cfc"
   },
   "source": [
    "### Problem 5 Tests:"
   ]
  },
  {
   "cell_type": "code",
   "execution_count": 60,
   "metadata": {
    "id": "cdd8aa79-5e35-40f0-977e-6b1e2e73f761",
    "source-id": "3cebdaef-b42e-44a6-920c-cbde3c3a4071"
   },
   "outputs": [],
   "source": [
    "assert isOdd(10) == False\n",
    "assert isOdd(11) == True\n",
    "assert isOdd.__name__== (lambda: None).__name__, 'isOdd must be defined as a *lambda* function'"
   ]
  },
  {
   "cell_type": "markdown",
   "metadata": {
    "id": "4a37503e-b9ce-41c1-beec-33ec7184916b",
    "source-id": "99418cdb-1d8d-417b-8e70-ccf4510bad6b"
   },
   "source": [
    "# Problem 6\n",
    "Define a function named `mul` that accepts one mandatory argument (a number) and one optional argument (another number with a default value of `2`) returns the product of the two numbers (the two number multiplied together). *(5 points)*"
   ]
  },
  {
   "cell_type": "code",
   "execution_count": 61,
   "metadata": {
    "id": "eb40affc-e00d-4b02-9904-d1e27b86114b",
    "source-id": "5f6a77ab-18ba-41bb-af80-b09028ce4c75"
   },
   "outputs": [],
   "source": [
    "def mul(num1, num2 = 2):\n",
    "    return num1 * num2"
   ]
  },
  {
   "cell_type": "markdown",
   "metadata": {
    "id": "daddb202-9f25-4e1f-9a23-f56c0494de2a",
    "source-id": "a26024e1-b7e1-4feb-b6c9-68b074dea1e2"
   },
   "source": [
    "### Problem 6 Tests:"
   ]
  },
  {
   "cell_type": "code",
   "execution_count": 62,
   "metadata": {
    "id": "10b5be10-cfce-4d8a-beb6-2d5afb04edf0",
    "source-id": "27efcb89-ece1-4b28-aa84-c29427b36dbb"
   },
   "outputs": [],
   "source": [
    "assert mul(10) == 20\n",
    "assert mul(20, 2) == 40\n",
    "assert mul(-5, 10) == -50"
   ]
  },
  {
   "cell_type": "markdown",
   "metadata": {
    "id": "02e69406-34ad-40ab-9b38-1503edc7c75f",
    "source-id": "a5ff4fe6-4689-485f-8301-b5df6cc75e0c"
   },
   "source": [
    "# Problem 7\n",
    "The variable `mySampleTuple3` is a three-item tuple. Write **one line of code** code that assigns the variables `x`, `y`, and `z` to the first, second, and third items of `mySampleTuple3` respectively. Solutions longer than one line will receive no credit (so there will be two lines in total; one defining `mySampleTuple3` and one line of your code).\n",
    "\n",
    "*(5 points)*"
   ]
  },
  {
   "cell_type": "code",
   "execution_count": 63,
   "metadata": {
    "id": "55da5f06-65f5-4144-8e33-62e322236e86",
    "source-id": "8a719910-181c-4498-9b11-bae9e667de36"
   },
   "outputs": [],
   "source": [
    "mySampleTuple3 = ('a', 2, 'three')\n",
    "x, y, z = mySampleTuple3"
   ]
  },
  {
   "cell_type": "markdown",
   "metadata": {
    "id": "89574a24-5ace-432f-8d91-8b4c86ba59df",
    "source-id": "b1db75ed-573a-47b0-97ff-5f28a5c4c184"
   },
   "source": [
    "### Problem 7 Tests:"
   ]
  },
  {
   "cell_type": "code",
   "execution_count": 64,
   "metadata": {
    "id": "b192e7c6-d79b-4ae8-9a28-e0d75c868982",
    "source-id": "f1f31916-f505-4706-af6f-85eb5c1208c1"
   },
   "outputs": [],
   "source": [
    "assert mySampleTuple3 == ('a', 2, 'three')\n",
    "assert x == mySampleTuple3[0]\n",
    "assert y == mySampleTuple3[1]\n",
    "assert z == mySampleTuple3[2]"
   ]
  },
  {
   "cell_type": "markdown",
   "metadata": {
    "id": "996cc737-92fd-466f-913c-c994b045c70c",
    "source-id": "400e6003-b6ba-4ad5-9b71-62d8b6e9e9a0"
   },
   "source": [
    "# Problem 8\n",
    "`planets_l` is a list with information about the planets in the solar system. Assign the variable `moon_planets_by_diameter` to be a list of planets that have at least one moon, sorted by their diameter (from low to high).\n",
    "\n",
    "- Hint: try sorting the planets by their diameter first\n",
    "\n",
    "*(10 points)*"
   ]
  },
  {
   "cell_type": "code",
   "execution_count": 65,
   "metadata": {
    "id": "d6daf38b-c9c9-448a-979f-4e3a2bc93a0b",
    "source-id": "6e71bd17-3f00-439a-9a61-1a2e3fd96090"
   },
   "outputs": [],
   "source": [
    "# do *not* modify the definition of planets_l:\n",
    "planets_l = [{'name': 'Mercury', 'moons': 0,  'diameter': 4879,   'distanceFromSun': 57.9   },\n",
    "             {'name': 'Venus',   'moons': 0,  'diameter': 12104,  'distanceFromSun': 108.2  },\n",
    "             {'name': 'Earth',   'moons': 1,  'diameter': 12756,  'distanceFromSun': 149.6  },\n",
    "             {'name': 'Mars',    'moons': 0,  'diameter': 6792,   'distanceFromSun': 227.9  },\n",
    "             {'name': 'Jupiter', 'moons': 67, 'diameter': 142984, 'distanceFromSun': 778.6  },\n",
    "             {'name': 'Saturn',  'moons': 62, 'diameter': 120536, 'distanceFromSun': 1433.5 },\n",
    "             {'name': 'Uranus',  'moons': 27, 'diameter': 51118,  'distanceFromSun': 2872.5 },\n",
    "             {'name': 'Neptune', 'moons': 14, 'diameter': 49528,  'distanceFromSun': 4495.1 }]\n",
    "\n",
    "moon_planets_by_diameter = []\n",
    "\n",
    "sorted_lst = sorted(planets_l, key = lambda i: i['diameter'])\n",
    "for dictio in sorted_lst:\n",
    "    if dictio['moons'] >= 1:\n",
    "        moon_planets_by_diameter.append(dictio['name'])\n",
    "        \n"
   ]
  },
  {
   "cell_type": "markdown",
   "metadata": {
    "id": "2370d4e2-56e8-4713-86ad-b03987f92c95",
    "source-id": "0e54ad2f-9d18-40e1-92b5-46ba58a34cdd"
   },
   "source": [
    "### Problem 8 Tests:"
   ]
  },
  {
   "cell_type": "code",
   "execution_count": 66,
   "metadata": {
    "id": "bbf28711-bb70-4fc3-9b09-fb103a45b20e",
    "source-id": "5eef96ac-fdd3-47c8-a266-05fdfad57919"
   },
   "outputs": [],
   "source": [
    "assert moon_planets_by_diameter == ['Earth', 'Neptune', 'Uranus', 'Saturn', 'Jupiter']"
   ]
  },
  {
   "cell_type": "markdown",
   "metadata": {
    "id": "d508de22-b3dd-4b38-a984-4c4bbe96e9ba",
    "source-id": "7c8f91c1-5626-454a-887f-f303363be4c2"
   },
   "source": [
    "# Problem 9\n",
    "Define a function named `getNestedLongestString` that accepts one argument, a list of lists of strings. Your function should **mutate** its argument so that every nested list is replaced with its longest string. For example, if `L == [[\"a\", \"bc\"], [\"xyz\"]]` then `getNestedLongestString(L)` should mutate `L` to be `[\"bc\", \"xyz\"]`. Your function should return `None`.\n",
    "\n",
    "- Note: You can assume that every nested list has at least one string.\n",
    "\n",
    "*(10 points)*"
   ]
  },
  {
   "cell_type": "code",
   "execution_count": 67,
   "metadata": {
    "id": "9d900059-c815-4f3b-8655-f1f58085cdce",
    "source-id": "92d69f62-e152-4d3f-8c99-2d38ded78199"
   },
   "outputs": [
    {
     "name": "stdout",
     "output_type": "stream",
     "text": [
      "['abc', 'h', 'jk', 'mnop']\n"
     ]
    }
   ],
   "source": [
    "def getNestedLongestString(lst):\n",
    "    for i in range(len(lst)):\n",
    "        lst[i].sort(reverse = True, key = lambda i: len(i))\n",
    "        if len(lst[i]) >= 1:\n",
    "            lst[i] = lst[i][0]\n",
    "    return None\n",
    "\n",
    "L = [[\"abc\", \"d\"], [\"h\"], [\"i\", \"jk\", \"l\"], [\"mnop\"] ]\n",
    "\n",
    "getNestedLongestString(L)\n",
    "\n",
    "print(L)"
   ]
  },
  {
   "cell_type": "markdown",
   "metadata": {
    "id": "48322499-8ca9-402a-9a64-e9267a529cb8",
    "source-id": "f54428e8-d388-458e-99a2-a4cfef54dc66"
   },
   "source": [
    "### Problem 9 Tests:"
   ]
  },
  {
   "cell_type": "code",
   "execution_count": 68,
   "metadata": {
    "id": "f215f5ff-7628-4237-875b-6f129247f3ee",
    "source-id": "e09f4840-a2e8-45fa-8044-1de136934d7f"
   },
   "outputs": [],
   "source": [
    "L = [[\"abc\", \"d\"], [\"h\"], [\"i\", \"jk\", \"l\"], [\"mnop\"] ]\n",
    "\n",
    "assert getNestedLongestString(L) == None, 'Your function should return None'\n",
    "assert L == [\"abc\", \"h\", \"jk\", \"mnop\"], 'Your function should mutate its argument'"
   ]
  },
  {
   "cell_type": "markdown",
   "metadata": {
    "id": "cd2f6144-2e76-4814-8656-592931a18f2a",
    "source-id": "b18a64de-e080-4f93-af5b-1c545c4ccbf4"
   },
   "source": [
    "# Problem 10\n",
    "\n",
    "`umsi_professors` is a dictionary where the keys are uniqname and the values contain information about the UMSI professor with that uniqname. Define a function `getInterests` that accepts one argument (a uniqname) and returns the list of interests for the professor with that uniqname. If the uniqname is not a key in `umsi_professors`, your function should return `[]`.\n",
    "\n",
    "*(10 points)*"
   ]
  },
  {
   "cell_type": "code",
   "execution_count": 69,
   "metadata": {
    "id": "8493521c-ded3-4584-b671-f288e44fb13d",
    "source-id": "db77c662-1f30-43e2-8211-db6e3f8f9a5b"
   },
   "outputs": [],
   "source": [
    "# do *not* modify the value of umsi_professors\n",
    "umsi_professors = {\n",
    "    \"edar\": {\n",
    "        \"name\": \"Eytan Adar\",\n",
    "        \"interests\": [\"Data Science, Analytics, and Visualization\", \"Human Computer Interaction (HCI)\", \"Privacy and Security\", \"Social Media and Social Computing\"]\n",
    "    }, \"andalibi\": {\n",
    "        \"name\": \"Nazanin Andalibi\",\n",
    "        \"interests\": [\"Health Informatics\", \"Human Computer Interaction (HCI)\", \"ICTs and Social Change\", \"Privacy and Security\", \"Science, Technology, and Society\", \"Social Media and Social Computing\"]\n",
    "    }, \"tdillahu\": {\n",
    "        \"name\": \"Tawanna Dillahunt\",\n",
    "        \"interests\": [\"Human Computer Interaction (HCI)\", \"ICTs and Social Change\", \"Ubiquitous Computing\"]\n",
    "    }, \"sunypark\": {\n",
    "        \"name\": \"Sun Young Park\",\n",
    "        \"interests\": [\"Accessibility and Computing\", \"Collective Intelligence and Organizational Technology\", \"Health Informatics\", \"Human Computer Interaction (HCI)\", \"Social Media and Social Computing\"]\n",
    "    }}\n",
    "\n",
    "def getInterests(uniqname):\n",
    "    if uniqname in umsi_professors.keys():\n",
    "        return umsi_professors[uniqname]['interests']\n",
    "    else:\n",
    "        return []"
   ]
  },
  {
   "cell_type": "markdown",
   "metadata": {
    "id": "239c097c-8465-4cbb-9a9d-3704fd03aa16",
    "source-id": "b2a35093-c932-4779-b083-fbb4ee1b1e6e"
   },
   "source": [
    "### Problem 10 Tests:"
   ]
  },
  {
   "cell_type": "code",
   "execution_count": 70,
   "metadata": {
    "id": "3f3c1d90-9a39-4243-85ff-d2c07784b78e",
    "source-id": "1d6dd022-2154-4366-911b-3652670e9f7f"
   },
   "outputs": [],
   "source": [
    "assert sorted(getInterests('sunypark')) == sorted(['Accessibility and Computing', 'Collective Intelligence and Organizational Technology', 'Health Informatics', 'Human Computer Interaction (HCI)', 'Social Media and Social Computing'])\n",
    "assert sorted(getInterests('tdillahu')) == sorted(['Human Computer Interaction (HCI)', 'ICTs and Social Change', 'Ubiquitous Computing'])\n",
    "assert getInterests('INVALID_UNIQNAME') == []"
   ]
  },
  {
   "cell_type": "markdown",
   "metadata": {
    "id": "be70d1a5-aa04-4be2-a768-ff3030c80621",
    "source-id": "cecfeb2c-327d-4e88-a12c-dcd5e50c15a0"
   },
   "source": [
    "# Problem 11\n",
    "\n",
    "The function `getLongestStringWithX()`, implemented below, is supposed to accept a list of strings and return the longest string that contains a lowercase `'x'` (or `False` if there are strings with `'x'`). For example, `getLongestStringWithX(['excel', 'very good', 'ex'])` should return `'excel'` (because `'very good'` does not have an `'x'`).\n",
    "\n",
    "However, it contains a bug. There are some cases where it does work (for example, `getLongestStringWithX(['excel', 'very good', 'ex'])` does return `'excel'`) and some where it does not.\n",
    "\n",
    "Write **at least two different test cases** for `getLongestStringWithX()` using `assert` statements. At least one of your test cases should illustrate the bug (meaning that the test case will fail). Do not try to fix the bug for this problem.\n",
    "\n",
    "*(10 points)*"
   ]
  },
  {
   "cell_type": "code",
   "execution_count": 71,
   "metadata": {
    "id": "cc4357f4-c896-4a84-a203-c23fdb126e2e",
    "source-id": "908dcd79-b71f-4ca1-88b9-2c386be92c23"
   },
   "outputs": [],
   "source": [
    "# do not modify containsX or getLongestStringWithX\n",
    "def containsX(word):\n",
    "    return 'x' in word\n",
    "\n",
    "def getLongestStringWithX(L):\n",
    "    if len(L) == 0:\n",
    "        return False\n",
    "    longest_so_far = L[0]\n",
    "    for word in L:\n",
    "        if containsX(word) and (len(word) > len(longest_so_far)):\n",
    "            longest_so_far = word\n",
    "    if longest_so_far == L[0]:\n",
    "        return False\n",
    "    return longest_so_far\n",
    "\n",
    "# problem 11\n",
    "# write *at least two* assert statements below, including at least one that fails:\n"
   ]
  },
  {
   "cell_type": "markdown",
   "metadata": {
    "id": "ed46760a-01eb-4671-9e30-f42922113154",
    "source-id": "a15af125-225a-4df6-a9c2-9465b1dcf0c2"
   },
   "source": [
    "# Problem 12\n",
    "Define a function named `numFileLines` that accepts one argument (a file name) and returns the number of lines in that file (as an integer). Use exception handling to return `-1` if the file does not exist.\n",
    "\n",
    "*(10 points)*"
   ]
  },
  {
   "cell_type": "code",
   "execution_count": 72,
   "metadata": {
    "id": "808b241c-2aa6-4055-86c6-b755290d8dc3",
    "source-id": "5a92cb8b-d2d3-4cac-a9e5-2f926c33236b"
   },
   "outputs": [],
   "source": [
    "def numFileLines(filename):\n",
    "    try:\n",
    "        with open(filename, 'r') as file:\n",
    "            length = len(file.readlines())\n",
    "            return length\n",
    "    except FileNotFoundError:\n",
    "        return -1"
   ]
  },
  {
   "cell_type": "markdown",
   "metadata": {
    "id": "4913dae4-d8fc-439a-9bda-4781f72a761a",
    "source-id": "c1d0a33f-beba-4cc2-a365-e9be7307c579"
   },
   "source": [
    "### Problem 12 Tests:"
   ]
  },
  {
   "cell_type": "code",
   "execution_count": 73,
   "metadata": {
    "id": "08c4b6bb-5091-47de-81a1-0954da42654d",
    "source-id": "b8517524-fc97-4fce-a580-ba90d82543d1"
   },
   "outputs": [],
   "source": [
    "assert numFileLines('first_round.csv') == 31\n",
    "assert numFileLines('file_should_not_exist') == -1"
   ]
  },
  {
   "cell_type": "markdown",
   "metadata": {
    "id": "141fda02-3743-4631-9d7f-945ba2640471",
    "source-id": "99473ebd-a272-4d30-8ac2-850c2d7ac588"
   },
   "source": [
    "# Problem 13\n",
    "\n",
    "Define a function named `itunesSearch` that accepts two arguments: (1) a search term and (2) a media type, with a default value of `'all'`. The function should query [the iTunes search API](https://affiliate.itunes.apple.com/resources/documentation/itunes-store-web-service-search-api/) and return a dictionary that maps track names (strings) to track prices (floats). It should ignore any result that does not have a track name or track price.\n",
    "\n",
    "*(20 points)*"
   ]
  },
  {
   "cell_type": "code",
   "execution_count": 74,
   "metadata": {
    "id": "eb5f62f8-b184-4e6a-9b67-f42d1dd00ebe",
    "source-id": "e4a2eabb-8192-4fc6-9212-0ee2e2b5b038"
   },
   "outputs": [
    {
     "name": "stdout",
     "output_type": "stream",
     "text": [
      "found in permanent_cache\n",
      "{'A League of Their Own': 12.99, '4 Minutes (feat. Justin Timberlake & Timbaland)': 1.29, 'Hung Up': 1.29, 'Like a Prayer': 1.29, 'Holiday': 1.29, 'Ray of Light': 1.29, 'Material Girl': 1.29, 'Vogue': 1.29, 'Into the Groove (Edit Version)': 1.29, \"Give Me All Your Luvin' (feat. LMFAO & Nicki Minaj)\": 1.29, 'Ghosttown': 1.29, 'Crazy for You (Edit Version)': 1.29, 'Like a Virgin': 1.29, 'Santa Baby': 1.29, 'Borderline': 1.29, \"Bitch I'm Madonna (feat. Nicki Minaj)\": 1.29, 'Crazy for You': 1.29, 'Music': 1.29, 'Give It 2 Me': 1.29, 'Justify My Love': 1.29, 'Living For Love': 1.29, 'Madonna': 1.29, \"Papa Don't Preach (Edit Version)\": 1.29, 'La Isla Bonita': 1.29, 'Like a Virgin (Edit Version)': 1.29, 'Lucky Star': 1.29, 'Express Yourself (Edit Version)': 1.29, 'Open Your Heart (Edit Version)': 1.29, 'Material Girl (Edit Version)': 1.29, 'Give It 2 Me (Paul Oakenfold Edit)': 1.29, \"Papa Don't Preach\": 1.29, 'Live to Tell (Edit Version)': 1.29, 'La Isla Bonita (Remix)': 1.29, 'Devil Pray': 1.29, 'Miles Away': -1.0, 'Illuminati': 1.29, 'Cherish (Edit Version)': 1.29, 'Borderline (Remix)': 1.29, 'Lucky Star (US ReMix Version)': 1.29, 'Joan of Arc': 1.29, 'Unapologetic Bitch': 1.29, 'Sorry': 1.29, 'Rescue Me': 1.29, 'Dress You Up': 1.29, 'Frozen': 1.29}\n"
     ]
    }
   ],
   "source": [
    "import json\n",
    "import requests_with_caching\n",
    "\n",
    "def iTunesSearch(search_term, media_type = 'all'):\n",
    "    parameters = {\"term\": str(search_term), \"media\": str(media_type)}\n",
    "    iTunes_response = requests_with_caching.get(\"https://itunes.apple.com/search\", params = parameters)\n",
    "    iTunes_results = json.loads(iTunes_response.text)\n",
    "    final_dict = {}\n",
    "    for result in iTunes_results['results']:\n",
    "        if 'trackName' in result.keys() and 'trackPrice' in result.keys():\n",
    "            final_dict[result['trackName']] = float(result['trackPrice'])\n",
    "    return final_dict\n",
    "\n",
    "print(iTunesSearch('Madonna',))"
   ]
  },
  {
   "cell_type": "markdown",
   "metadata": {
    "id": "0f8a1630-3778-47b6-bb35-38d76e610c07",
    "source-id": "928eeed0-e9f7-45bc-84f6-c45129f262d3"
   },
   "source": [
    "### Problem 13 Tests:"
   ]
  },
  {
   "cell_type": "code",
   "execution_count": 75,
   "metadata": {
    "id": "e4eb50a1-b036-4177-978c-79db66836710",
    "source-id": "807cdaa2-1cdb-4023-acb5-bc6b7a37416c"
   },
   "outputs": [
    {
     "name": "stdout",
     "output_type": "stream",
     "text": [
      "found in permanent_cache\n",
      "found in permanent_cache\n"
     ]
    }
   ],
   "source": [
    "# note: these tests only test a subset of the items; the actual dictionaries your code generates will have more key/value pairs\n",
    "assert dict(sorted(iTunesSearch('Madonna').items(), reverse=True)[2:11]) == {'Sorry': 1.29, 'Santa Baby': 1.29, 'Rescue Me': 1.29, 'Ray of Light': 1.29, \"Papa Don't Preach (Edit Version)\": 1.29, \"Papa Don't Preach\": 1.29, 'Open Your Heart (Edit Version)': 1.29, 'Music': 1.29, 'Miles Away': -1.0}\n",
    "assert dict(sorted(iTunesSearch('Zendaya', 'music').items(), reverse=True)[2:11]) == {'Watch Me': 1.29, 'This Is for My Girls': 1.29, 'This Is My Dance Floor': 1.29, 'The Same Heart': 1.29, 'The Greatest Show': 1.29, 'Swag It Out': 0.99, 'Something to Dance For/TTYLXOX Mash-Up': -1.0, 'Something to Dance For / TTYLXOX Mash-Up': -1.0, 'Something to Dance For (from \"Shake It Up\")': 1.29}"
   ]
  },
  {
   "cell_type": "markdown",
   "metadata": {
    "id": "cb08a639-cc78-4b59-bd1e-e74b8cffd494",
    "source-id": "f8346f27-fc25-466d-ae59-525ad84dd4dd"
   },
   "source": [
    "# Problem 14\n",
    "\n",
    "Define a function named `getUserChoice` that accepts one argument: `choices`, a list of strings\n",
    "\n",
    "Your function should repeatedly ask the user to choose between each of the items in `choices`. If the user enters something that is **not** in `choices`, your function should prompt them for input again. When the user enters something that **is** in `choices`, your function should return that string. For example, if we called `getUserChoice(['yes', 'no', 'maybe'])`:\n",
    "\n",
    "```\n",
    "Enter yes or no or maybe:\n",
    "    > abc\n",
    "Enter yes or no or maybe:\n",
    "    > something else\n",
    "Enter yes or no or maybe:\n",
    "    > yes\n",
    "```\n",
    "\n",
    "The function call should return the string `'yes'`.\n",
    "\n",
    "Notes:\n",
    "- Your function should be case sensitive\n",
    "- Your input prompt must be `'Enter {...}'` where `{...}` is replaced with every item in `choices` with the word `'or'` between them\n",
    "- There are no `assert` statements for this problem. You should test your own function (but you do not need to write any `assert` statements for this problem)\n",
    "\n",
    "Hint:\n",
    "- The `.join()` method might be useful for generating the correct prompt\n",
    "\n",
    "*(15 points)*"
   ]
  },
  {
   "cell_type": "code",
   "execution_count": null,
   "metadata": {
    "id": "32f0c926-7cc8-434c-b2db-3df84b893417",
    "source-id": "00e46490-eabe-41e6-a1bc-3ab7943516d9"
   },
   "outputs": [],
   "source": [
    "\n",
    "        "
   ]
  },
  {
   "cell_type": "markdown",
   "metadata": {
    "id": "6bd0d528-12e4-4c12-92c8-d640979496bc",
    "source-id": "0f66e91e-03f9-4288-b73c-b5eec4f7f90c"
   },
   "source": [
    "# Problem 15\n",
    "\n",
    "The file `rpdr_contestants.json` contains information about contestants on the show \"RuPaul's Drag Race\" by season. Define a function named `getSeasonContestants` that accepts one argument (a string representing a season name) and returns a list of contestant names for that season. If that season does not exist in the file, your function should return an empty list.\n",
    "\n",
    "*(15 points)*"
   ]
  },
  {
   "cell_type": "code",
   "execution_count": 76,
   "metadata": {
    "id": "9952039f-5dce-4c51-945f-58833a0bf3aa",
    "source-id": "6c051d04-1474-4435-b8d1-c3daacbfdd97"
   },
   "outputs": [],
   "source": [
    "import json\n",
    "\n",
    "def getSeasonContestants(season):\n",
    "    with open('rpdr_contestants.json') as f:\n",
    "        d = json.load(f)\n",
    "        lst = []\n",
    "        if season in d.keys():\n",
    "            for dictio in d[season]:\n",
    "                lst.append(dictio['contestant'])\n",
    "            return lst\n",
    "        else:\n",
    "            return []\n",
    "        \n",
    "        \n"
   ]
  },
  {
   "cell_type": "markdown",
   "metadata": {
    "id": "efa2f734-f1a3-4392-af64-821a9ebc1c73",
    "source-id": "14672477-d91b-4339-bcbc-5fd89e133154"
   },
   "source": [
    "### Problem 15 Tests:"
   ]
  },
  {
   "cell_type": "code",
   "execution_count": 77,
   "metadata": {
    "id": "c3987002-81fa-4a68-90a3-160909aaf8fe",
    "source-id": "0dbfe151-84b1-41a5-80ce-ede494e45d90"
   },
   "outputs": [],
   "source": [
    "assert getSeasonContestants(\"S01\") == ['BeBe Zahara Benet', 'Nina Flowers', 'Shannel', 'Ongina', 'Jade', 'Akashia', 'Tammie Brown', 'Victoria Parker']\n",
    "assert getSeasonContestants(\"S02\") == ['Tyra Sanchez', 'Raven', 'Jujubee', 'Tatianna', 'Pandora Boxx', 'Jessica Wild', 'Sahara Davenport', 'Morgan McMichaels', 'Sonique', 'Mystique Summers Madison', 'Nicole Paige Brooks', 'Shangela']\n",
    "assert getSeasonContestants(\"INVALID_SEASON\") == []"
   ]
  },
  {
   "cell_type": "markdown",
   "metadata": {
    "id": "24798015-aa50-4b16-bb60-b426fbae4d3b",
    "source-id": "116cca2a-dd8f-4db7-b12f-22050389f95f"
   },
   "source": [
    "# Problem 16\n",
    "\n",
    "For this problem, we provide a function named `censorWord` that accepts one argument (a string) and returns the `*` character repeated as many times as that string. For example, `censorWord('hello')` returns `'*****'`.\n",
    "\n",
    "Define a function `censored()` that accepts two arguments. The first, a list of words to censor, and the second, a sentence (string). The function should return a censored sentence if the words contained in the list are also in the string. For example, `censored(['lovely', 'long'], \"Today is a lovely day for a nice long walk\")` should return `\"Today is a ***** day for a nice **** walk`. Your code should be case sensitive, and ignore strings with punctuation.\n",
    "\n",
    "- Hint: the `.join()` method might be useful for this problem\n",
    "\n",
    "*(15 points)*"
   ]
  },
  {
   "cell_type": "code",
   "execution_count": 78,
   "metadata": {
    "id": "4e6deef7-4723-4304-a746-fde9decb4cf1",
    "source-id": "42176dde-834b-40c9-842a-fde880b1ae01"
   },
   "outputs": [
    {
     "ename": "SyntaxError",
     "evalue": "unexpected EOF while parsing (<ipython-input-78-4bc0c90b8380>, line 11)",
     "output_type": "error",
     "traceback": [
      "\u001b[1;36m  File \u001b[1;32m\"<ipython-input-78-4bc0c90b8380>\"\u001b[1;36m, line \u001b[1;32m11\u001b[0m\n\u001b[1;33m    \u001b[0m\n\u001b[1;37m    ^\u001b[0m\n\u001b[1;31mSyntaxError\u001b[0m\u001b[1;31m:\u001b[0m unexpected EOF while parsing\n"
     ]
    }
   ],
   "source": [
    "# we provide censorWord, a function that repeats the * character len(word) times\n",
    "# \n",
    "# censorWord('and')   -> '***'\n",
    "# censorWord('hello') -> '*****'\n",
    "def censorWord(word):\n",
    "    return '*' * len(word)\n",
    "\n",
    "# write your code for problem 16 here\n",
    "def censorWord(wrds, sentence):\n",
    "        \n",
    "    "
   ]
  },
  {
   "cell_type": "markdown",
   "metadata": {
    "id": "f3d0ea21-7c44-4600-9cc2-fcb92b4ab9a7",
    "source-id": "86c8ef5b-1567-4c4f-838b-b44d6a214bcd"
   },
   "source": [
    "### Problem 16 Tests:"
   ]
  },
  {
   "cell_type": "code",
   "execution_count": 79,
   "metadata": {
    "id": "17fc0e2d-6f1b-4b9d-8f63-da806c9735e8",
    "source-id": "ea37180e-4ad7-485d-9461-5cc0ea958fa6"
   },
   "outputs": [
    {
     "ename": "NameError",
     "evalue": "name 'censored' is not defined",
     "output_type": "error",
     "traceback": [
      "\u001b[1;31m---------------------------------------------------------------------------\u001b[0m",
      "\u001b[1;31mNameError\u001b[0m                                 Traceback (most recent call last)",
      "\u001b[1;32m<ipython-input-79-57f911ea7744>\u001b[0m in \u001b[0;36m<module>\u001b[1;34m\u001b[0m\n\u001b[1;32m----> 1\u001b[1;33m \u001b[1;32massert\u001b[0m \u001b[0mcensored\u001b[0m\u001b[1;33m(\u001b[0m\u001b[1;33m[\u001b[0m\u001b[1;34m'lovely'\u001b[0m\u001b[1;33m,\u001b[0m \u001b[1;34m'long'\u001b[0m\u001b[1;33m]\u001b[0m\u001b[1;33m,\u001b[0m \u001b[1;34m\"Today is a lovely day for a nice long walk\"\u001b[0m\u001b[1;33m)\u001b[0m \u001b[1;33m==\u001b[0m \u001b[1;34m'Today is a ****** day for a nice **** walk'\u001b[0m\u001b[1;33m\u001b[0m\u001b[1;33m\u001b[0m\u001b[0m\n\u001b[0m\u001b[0;32m      2\u001b[0m \u001b[1;32massert\u001b[0m \u001b[0mcensored\u001b[0m\u001b[1;33m(\u001b[0m\u001b[1;33m[\u001b[0m\u001b[1;34m'flown'\u001b[0m\u001b[1;33m,\u001b[0m \u001b[1;34m'before'\u001b[0m\u001b[1;33m,\u001b[0m \u001b[1;34m'Nevermore'\u001b[0m\u001b[1;33m]\u001b[0m\u001b[1;33m,\u001b[0m \u001b[1;34m\"Other friends have flown before — On the morrow he will leave me, as my Hopes have flown before. Then the bird said “Nevermore.\"\u001b[0m\u001b[1;33m)\u001b[0m \u001b[1;33m==\u001b[0m \u001b[1;34m'Other friends have ***** ****** — On the morrow he will leave me, as my Hopes have ***** before. Then the bird said “Nevermore.'\u001b[0m\u001b[1;33m\u001b[0m\u001b[1;33m\u001b[0m\u001b[0m\n",
      "\u001b[1;31mNameError\u001b[0m: name 'censored' is not defined"
     ]
    }
   ],
   "source": [
    "assert censored(['lovely', 'long'], \"Today is a lovely day for a nice long walk\") == 'Today is a ****** day for a nice **** walk'\n",
    "assert censored(['flown', 'before', 'Nevermore'], \"Other friends have flown before — On the morrow he will leave me, as my Hopes have flown before. Then the bird said “Nevermore.\") == 'Other friends have ***** ****** — On the morrow he will leave me, as my Hopes have ***** before. Then the bird said “Nevermore.'"
   ]
  },
  {
   "cell_type": "markdown",
   "metadata": {
    "id": "5eda5b67-9642-42b1-bda8-4697d64cb49a",
    "source-id": "d2255010-55f8-42da-808f-4ac3f9a9e146"
   },
   "source": [
    "---\n",
    "\n",
    "When you are done, turn in your exam through Canvas. Upload your .ipynb file to Canvas (under the [Midterm 2 assignment](https://umich.instructure.com/courses/408923/assignments/1212965))"
   ]
  }
 ],
 "metadata": {
  "env": {
   "filename": "docherak/docherak_midterm_2.ipynb",
   "first": "Tomas",
   "last": "Rehak",
   "points": 15,
   "problem": 17,
   "totalpoints": 150,
   "totalproblems": 16,
   "uniquename": "docherak"
  },
  "exam_gen_problems": [
   "90383b9e-29b3-46d2-91bb-6f781c2df91e",
   "66ef5860-5e74-4499-9bac-66120d3cc1ad",
   "f9ade90d-36bd-4b3b-be3b-f93905794b26",
   "761a3c2d-eeb7-4492-a7ae-6bf8ad7fae52",
   "be066597-15a1-4ddd-8ebc-e2a6eab4c0b6",
   "71871bc8-7343-4fb1-af22-1ef7b51c1742",
   "99418cdb-1d8d-417b-8e70-ccf4510bad6b",
   "a5ff4fe6-4689-485f-8301-b5df6cc75e0c",
   "400e6003-b6ba-4ad5-9b71-62d8b6e9e9a0",
   "7c8f91c1-5626-454a-887f-f303363be4c2",
   "b18a64de-e080-4f93-af5b-1c545c4ccbf4",
   "cecfeb2c-327d-4e88-a12c-dcd5e50c15a0",
   "a15af125-225a-4df6-a9c2-9465b1dcf0c2",
   "99473ebd-a272-4d30-8ac2-850c2d7ac588",
   "f8346f27-fc25-466d-ae59-525ad84dd4dd",
   "0f66e91e-03f9-4288-b73c-b5eec4f7f90c",
   "116cca2a-dd8f-4db7-b12f-22050389f95f",
   "d2255010-55f8-42da-808f-4ac3f9a9e146"
  ],
  "kernelspec": {
   "display_name": "Python 3",
   "language": "python",
   "name": "python3"
  },
  "language_info": {
   "codemirror_mode": {
    "name": "ipython",
    "version": 3
   },
   "file_extension": ".py",
   "mimetype": "text/x-python",
   "name": "python",
   "nbconvert_exporter": "python",
   "pygments_lexer": "ipython3",
   "version": "3.8.5"
  }
 },
 "nbformat": 4,
 "nbformat_minor": 4
}
